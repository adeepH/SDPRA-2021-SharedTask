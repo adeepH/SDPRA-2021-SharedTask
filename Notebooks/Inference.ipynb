{
  "nbformat": 4,
  "nbformat_minor": 0,
  "metadata": {
    "accelerator": "GPU",
    "colab": {
      "name": "Inference.ipynb",
      "provenance": [],
      "authorship_tag": "ABX9TyNBrzTBj7nhJ4a9dI3dN2DA",
      "include_colab_link": true
    },
    "kernelspec": {
      "display_name": "Python 3",
      "name": "python3"
    },
    "widgets": {
      "application/vnd.jupyter.widget-state+json": {
        "1265d1237f484394bd67d40c3288653d": {
          "model_module": "@jupyter-widgets/controls",
          "model_name": "HBoxModel",
          "state": {
            "_view_name": "HBoxView",
            "_dom_classes": [],
            "_model_name": "HBoxModel",
            "_view_module": "@jupyter-widgets/controls",
            "_model_module_version": "1.5.0",
            "_view_count": null,
            "_view_module_version": "1.5.0",
            "box_style": "",
            "layout": "IPY_MODEL_00339c1bde9e4d5d87c11e622e73c2a6",
            "_model_module": "@jupyter-widgets/controls",
            "children": [
              "IPY_MODEL_d986f57c90f442d7bbd05bd2273bc88c",
              "IPY_MODEL_1acc47b346ae43cfbb866752ec13d4ea"
            ]
          }
        },
        "00339c1bde9e4d5d87c11e622e73c2a6": {
          "model_module": "@jupyter-widgets/base",
          "model_name": "LayoutModel",
          "state": {
            "_view_name": "LayoutView",
            "grid_template_rows": null,
            "right": null,
            "justify_content": null,
            "_view_module": "@jupyter-widgets/base",
            "overflow": null,
            "_model_module_version": "1.2.0",
            "_view_count": null,
            "flex_flow": null,
            "width": null,
            "min_width": null,
            "border": null,
            "align_items": null,
            "bottom": null,
            "_model_module": "@jupyter-widgets/base",
            "top": null,
            "grid_column": null,
            "overflow_y": null,
            "overflow_x": null,
            "grid_auto_flow": null,
            "grid_area": null,
            "grid_template_columns": null,
            "flex": null,
            "_model_name": "LayoutModel",
            "justify_items": null,
            "grid_row": null,
            "max_height": null,
            "align_content": null,
            "visibility": null,
            "align_self": null,
            "height": null,
            "min_height": null,
            "padding": null,
            "grid_auto_rows": null,
            "grid_gap": null,
            "max_width": null,
            "order": null,
            "_view_module_version": "1.2.0",
            "grid_template_areas": null,
            "object_position": null,
            "object_fit": null,
            "grid_auto_columns": null,
            "margin": null,
            "display": null,
            "left": null
          }
        },
        "d986f57c90f442d7bbd05bd2273bc88c": {
          "model_module": "@jupyter-widgets/controls",
          "model_name": "FloatProgressModel",
          "state": {
            "_view_name": "ProgressView",
            "style": "IPY_MODEL_1209190b666f479ab62771b760bcc251",
            "_dom_classes": [],
            "description": "Downloading: 100%",
            "_model_name": "FloatProgressModel",
            "bar_style": "success",
            "max": 481,
            "_view_module": "@jupyter-widgets/controls",
            "_model_module_version": "1.5.0",
            "value": 481,
            "_view_count": null,
            "_view_module_version": "1.5.0",
            "orientation": "horizontal",
            "min": 0,
            "description_tooltip": null,
            "_model_module": "@jupyter-widgets/controls",
            "layout": "IPY_MODEL_5ae300af0de94e9a9165ff2b733c4f03"
          }
        },
        "1acc47b346ae43cfbb866752ec13d4ea": {
          "model_module": "@jupyter-widgets/controls",
          "model_name": "HTMLModel",
          "state": {
            "_view_name": "HTMLView",
            "style": "IPY_MODEL_9cf35490647d40368b804ae30d8b3af9",
            "_dom_classes": [],
            "description": "",
            "_model_name": "HTMLModel",
            "placeholder": "​",
            "_view_module": "@jupyter-widgets/controls",
            "_model_module_version": "1.5.0",
            "value": " 481/481 [00:00&lt;00:00, 10.7kB/s]",
            "_view_count": null,
            "_view_module_version": "1.5.0",
            "description_tooltip": null,
            "_model_module": "@jupyter-widgets/controls",
            "layout": "IPY_MODEL_bc45986b868c4ac68f7c3c99d587a58a"
          }
        },
        "1209190b666f479ab62771b760bcc251": {
          "model_module": "@jupyter-widgets/controls",
          "model_name": "ProgressStyleModel",
          "state": {
            "_view_name": "StyleView",
            "_model_name": "ProgressStyleModel",
            "description_width": "initial",
            "_view_module": "@jupyter-widgets/base",
            "_model_module_version": "1.5.0",
            "_view_count": null,
            "_view_module_version": "1.2.0",
            "bar_color": null,
            "_model_module": "@jupyter-widgets/controls"
          }
        },
        "5ae300af0de94e9a9165ff2b733c4f03": {
          "model_module": "@jupyter-widgets/base",
          "model_name": "LayoutModel",
          "state": {
            "_view_name": "LayoutView",
            "grid_template_rows": null,
            "right": null,
            "justify_content": null,
            "_view_module": "@jupyter-widgets/base",
            "overflow": null,
            "_model_module_version": "1.2.0",
            "_view_count": null,
            "flex_flow": null,
            "width": null,
            "min_width": null,
            "border": null,
            "align_items": null,
            "bottom": null,
            "_model_module": "@jupyter-widgets/base",
            "top": null,
            "grid_column": null,
            "overflow_y": null,
            "overflow_x": null,
            "grid_auto_flow": null,
            "grid_area": null,
            "grid_template_columns": null,
            "flex": null,
            "_model_name": "LayoutModel",
            "justify_items": null,
            "grid_row": null,
            "max_height": null,
            "align_content": null,
            "visibility": null,
            "align_self": null,
            "height": null,
            "min_height": null,
            "padding": null,
            "grid_auto_rows": null,
            "grid_gap": null,
            "max_width": null,
            "order": null,
            "_view_module_version": "1.2.0",
            "grid_template_areas": null,
            "object_position": null,
            "object_fit": null,
            "grid_auto_columns": null,
            "margin": null,
            "display": null,
            "left": null
          }
        },
        "9cf35490647d40368b804ae30d8b3af9": {
          "model_module": "@jupyter-widgets/controls",
          "model_name": "DescriptionStyleModel",
          "state": {
            "_view_name": "StyleView",
            "_model_name": "DescriptionStyleModel",
            "description_width": "",
            "_view_module": "@jupyter-widgets/base",
            "_model_module_version": "1.5.0",
            "_view_count": null,
            "_view_module_version": "1.2.0",
            "_model_module": "@jupyter-widgets/controls"
          }
        },
        "bc45986b868c4ac68f7c3c99d587a58a": {
          "model_module": "@jupyter-widgets/base",
          "model_name": "LayoutModel",
          "state": {
            "_view_name": "LayoutView",
            "grid_template_rows": null,
            "right": null,
            "justify_content": null,
            "_view_module": "@jupyter-widgets/base",
            "overflow": null,
            "_model_module_version": "1.2.0",
            "_view_count": null,
            "flex_flow": null,
            "width": null,
            "min_width": null,
            "border": null,
            "align_items": null,
            "bottom": null,
            "_model_module": "@jupyter-widgets/base",
            "top": null,
            "grid_column": null,
            "overflow_y": null,
            "overflow_x": null,
            "grid_auto_flow": null,
            "grid_area": null,
            "grid_template_columns": null,
            "flex": null,
            "_model_name": "LayoutModel",
            "justify_items": null,
            "grid_row": null,
            "max_height": null,
            "align_content": null,
            "visibility": null,
            "align_self": null,
            "height": null,
            "min_height": null,
            "padding": null,
            "grid_auto_rows": null,
            "grid_gap": null,
            "max_width": null,
            "order": null,
            "_view_module_version": "1.2.0",
            "grid_template_areas": null,
            "object_position": null,
            "object_fit": null,
            "grid_auto_columns": null,
            "margin": null,
            "display": null,
            "left": null
          }
        },
        "c29ea397305c4e6bb74072122fc9ae63": {
          "model_module": "@jupyter-widgets/controls",
          "model_name": "HBoxModel",
          "state": {
            "_view_name": "HBoxView",
            "_dom_classes": [],
            "_model_name": "HBoxModel",
            "_view_module": "@jupyter-widgets/controls",
            "_model_module_version": "1.5.0",
            "_view_count": null,
            "_view_module_version": "1.5.0",
            "box_style": "",
            "layout": "IPY_MODEL_4394edb1a68642b08e2dc0366a92b4d2",
            "_model_module": "@jupyter-widgets/controls",
            "children": [
              "IPY_MODEL_bae17d305d9048d3b3eae6607e417a21",
              "IPY_MODEL_cf7eb180a15944b68f69d7678e0892c1"
            ]
          }
        },
        "4394edb1a68642b08e2dc0366a92b4d2": {
          "model_module": "@jupyter-widgets/base",
          "model_name": "LayoutModel",
          "state": {
            "_view_name": "LayoutView",
            "grid_template_rows": null,
            "right": null,
            "justify_content": null,
            "_view_module": "@jupyter-widgets/base",
            "overflow": null,
            "_model_module_version": "1.2.0",
            "_view_count": null,
            "flex_flow": null,
            "width": null,
            "min_width": null,
            "border": null,
            "align_items": null,
            "bottom": null,
            "_model_module": "@jupyter-widgets/base",
            "top": null,
            "grid_column": null,
            "overflow_y": null,
            "overflow_x": null,
            "grid_auto_flow": null,
            "grid_area": null,
            "grid_template_columns": null,
            "flex": null,
            "_model_name": "LayoutModel",
            "justify_items": null,
            "grid_row": null,
            "max_height": null,
            "align_content": null,
            "visibility": null,
            "align_self": null,
            "height": null,
            "min_height": null,
            "padding": null,
            "grid_auto_rows": null,
            "grid_gap": null,
            "max_width": null,
            "order": null,
            "_view_module_version": "1.2.0",
            "grid_template_areas": null,
            "object_position": null,
            "object_fit": null,
            "grid_auto_columns": null,
            "margin": null,
            "display": null,
            "left": null
          }
        },
        "bae17d305d9048d3b3eae6607e417a21": {
          "model_module": "@jupyter-widgets/controls",
          "model_name": "FloatProgressModel",
          "state": {
            "_view_name": "ProgressView",
            "style": "IPY_MODEL_f86b7bb632164e23b6b0ff470872ef1a",
            "_dom_classes": [],
            "description": "Downloading: 100%",
            "_model_name": "FloatProgressModel",
            "bar_style": "success",
            "max": 898823,
            "_view_module": "@jupyter-widgets/controls",
            "_model_module_version": "1.5.0",
            "value": 898823,
            "_view_count": null,
            "_view_module_version": "1.5.0",
            "orientation": "horizontal",
            "min": 0,
            "description_tooltip": null,
            "_model_module": "@jupyter-widgets/controls",
            "layout": "IPY_MODEL_016f0d515727490190715eabeb3ddad3"
          }
        },
        "cf7eb180a15944b68f69d7678e0892c1": {
          "model_module": "@jupyter-widgets/controls",
          "model_name": "HTMLModel",
          "state": {
            "_view_name": "HTMLView",
            "style": "IPY_MODEL_b6a1419d1ee4428687453108ac53a82e",
            "_dom_classes": [],
            "description": "",
            "_model_name": "HTMLModel",
            "placeholder": "​",
            "_view_module": "@jupyter-widgets/controls",
            "_model_module_version": "1.5.0",
            "value": " 899k/899k [00:00&lt;00:00, 6.00MB/s]",
            "_view_count": null,
            "_view_module_version": "1.5.0",
            "description_tooltip": null,
            "_model_module": "@jupyter-widgets/controls",
            "layout": "IPY_MODEL_e65f2d46baee46868e7d56a636b1ee52"
          }
        },
        "f86b7bb632164e23b6b0ff470872ef1a": {
          "model_module": "@jupyter-widgets/controls",
          "model_name": "ProgressStyleModel",
          "state": {
            "_view_name": "StyleView",
            "_model_name": "ProgressStyleModel",
            "description_width": "initial",
            "_view_module": "@jupyter-widgets/base",
            "_model_module_version": "1.5.0",
            "_view_count": null,
            "_view_module_version": "1.2.0",
            "bar_color": null,
            "_model_module": "@jupyter-widgets/controls"
          }
        },
        "016f0d515727490190715eabeb3ddad3": {
          "model_module": "@jupyter-widgets/base",
          "model_name": "LayoutModel",
          "state": {
            "_view_name": "LayoutView",
            "grid_template_rows": null,
            "right": null,
            "justify_content": null,
            "_view_module": "@jupyter-widgets/base",
            "overflow": null,
            "_model_module_version": "1.2.0",
            "_view_count": null,
            "flex_flow": null,
            "width": null,
            "min_width": null,
            "border": null,
            "align_items": null,
            "bottom": null,
            "_model_module": "@jupyter-widgets/base",
            "top": null,
            "grid_column": null,
            "overflow_y": null,
            "overflow_x": null,
            "grid_auto_flow": null,
            "grid_area": null,
            "grid_template_columns": null,
            "flex": null,
            "_model_name": "LayoutModel",
            "justify_items": null,
            "grid_row": null,
            "max_height": null,
            "align_content": null,
            "visibility": null,
            "align_self": null,
            "height": null,
            "min_height": null,
            "padding": null,
            "grid_auto_rows": null,
            "grid_gap": null,
            "max_width": null,
            "order": null,
            "_view_module_version": "1.2.0",
            "grid_template_areas": null,
            "object_position": null,
            "object_fit": null,
            "grid_auto_columns": null,
            "margin": null,
            "display": null,
            "left": null
          }
        },
        "b6a1419d1ee4428687453108ac53a82e": {
          "model_module": "@jupyter-widgets/controls",
          "model_name": "DescriptionStyleModel",
          "state": {
            "_view_name": "StyleView",
            "_model_name": "DescriptionStyleModel",
            "description_width": "",
            "_view_module": "@jupyter-widgets/base",
            "_model_module_version": "1.5.0",
            "_view_count": null,
            "_view_module_version": "1.2.0",
            "_model_module": "@jupyter-widgets/controls"
          }
        },
        "e65f2d46baee46868e7d56a636b1ee52": {
          "model_module": "@jupyter-widgets/base",
          "model_name": "LayoutModel",
          "state": {
            "_view_name": "LayoutView",
            "grid_template_rows": null,
            "right": null,
            "justify_content": null,
            "_view_module": "@jupyter-widgets/base",
            "overflow": null,
            "_model_module_version": "1.2.0",
            "_view_count": null,
            "flex_flow": null,
            "width": null,
            "min_width": null,
            "border": null,
            "align_items": null,
            "bottom": null,
            "_model_module": "@jupyter-widgets/base",
            "top": null,
            "grid_column": null,
            "overflow_y": null,
            "overflow_x": null,
            "grid_auto_flow": null,
            "grid_area": null,
            "grid_template_columns": null,
            "flex": null,
            "_model_name": "LayoutModel",
            "justify_items": null,
            "grid_row": null,
            "max_height": null,
            "align_content": null,
            "visibility": null,
            "align_self": null,
            "height": null,
            "min_height": null,
            "padding": null,
            "grid_auto_rows": null,
            "grid_gap": null,
            "max_width": null,
            "order": null,
            "_view_module_version": "1.2.0",
            "grid_template_areas": null,
            "object_position": null,
            "object_fit": null,
            "grid_auto_columns": null,
            "margin": null,
            "display": null,
            "left": null
          }
        },
        "658707241e98418da55d2d57bc419d1b": {
          "model_module": "@jupyter-widgets/controls",
          "model_name": "HBoxModel",
          "state": {
            "_view_name": "HBoxView",
            "_dom_classes": [],
            "_model_name": "HBoxModel",
            "_view_module": "@jupyter-widgets/controls",
            "_model_module_version": "1.5.0",
            "_view_count": null,
            "_view_module_version": "1.5.0",
            "box_style": "",
            "layout": "IPY_MODEL_f0664e753d8f400f93e5ba93eed7a944",
            "_model_module": "@jupyter-widgets/controls",
            "children": [
              "IPY_MODEL_e499c79b681b499e88922c430e00ca46",
              "IPY_MODEL_461a5a748e8642f1b1da164d30eb257b"
            ]
          }
        },
        "f0664e753d8f400f93e5ba93eed7a944": {
          "model_module": "@jupyter-widgets/base",
          "model_name": "LayoutModel",
          "state": {
            "_view_name": "LayoutView",
            "grid_template_rows": null,
            "right": null,
            "justify_content": null,
            "_view_module": "@jupyter-widgets/base",
            "overflow": null,
            "_model_module_version": "1.2.0",
            "_view_count": null,
            "flex_flow": null,
            "width": null,
            "min_width": null,
            "border": null,
            "align_items": null,
            "bottom": null,
            "_model_module": "@jupyter-widgets/base",
            "top": null,
            "grid_column": null,
            "overflow_y": null,
            "overflow_x": null,
            "grid_auto_flow": null,
            "grid_area": null,
            "grid_template_columns": null,
            "flex": null,
            "_model_name": "LayoutModel",
            "justify_items": null,
            "grid_row": null,
            "max_height": null,
            "align_content": null,
            "visibility": null,
            "align_self": null,
            "height": null,
            "min_height": null,
            "padding": null,
            "grid_auto_rows": null,
            "grid_gap": null,
            "max_width": null,
            "order": null,
            "_view_module_version": "1.2.0",
            "grid_template_areas": null,
            "object_position": null,
            "object_fit": null,
            "grid_auto_columns": null,
            "margin": null,
            "display": null,
            "left": null
          }
        },
        "e499c79b681b499e88922c430e00ca46": {
          "model_module": "@jupyter-widgets/controls",
          "model_name": "FloatProgressModel",
          "state": {
            "_view_name": "ProgressView",
            "style": "IPY_MODEL_2abbc65a90094f88ab88f1cd368fcbfc",
            "_dom_classes": [],
            "description": "Downloading: 100%",
            "_model_name": "FloatProgressModel",
            "bar_style": "success",
            "max": 456318,
            "_view_module": "@jupyter-widgets/controls",
            "_model_module_version": "1.5.0",
            "value": 456318,
            "_view_count": null,
            "_view_module_version": "1.5.0",
            "orientation": "horizontal",
            "min": 0,
            "description_tooltip": null,
            "_model_module": "@jupyter-widgets/controls",
            "layout": "IPY_MODEL_6752b2749053454cbcbfb1df2f128c28"
          }
        },
        "461a5a748e8642f1b1da164d30eb257b": {
          "model_module": "@jupyter-widgets/controls",
          "model_name": "HTMLModel",
          "state": {
            "_view_name": "HTMLView",
            "style": "IPY_MODEL_bc0887c574c84bb89a7f005df0db5d32",
            "_dom_classes": [],
            "description": "",
            "_model_name": "HTMLModel",
            "placeholder": "​",
            "_view_module": "@jupyter-widgets/controls",
            "_model_module_version": "1.5.0",
            "value": " 456k/456k [00:00&lt;00:00, 4.19MB/s]",
            "_view_count": null,
            "_view_module_version": "1.5.0",
            "description_tooltip": null,
            "_model_module": "@jupyter-widgets/controls",
            "layout": "IPY_MODEL_293adf98202d44c18345a59aa179582b"
          }
        },
        "2abbc65a90094f88ab88f1cd368fcbfc": {
          "model_module": "@jupyter-widgets/controls",
          "model_name": "ProgressStyleModel",
          "state": {
            "_view_name": "StyleView",
            "_model_name": "ProgressStyleModel",
            "description_width": "initial",
            "_view_module": "@jupyter-widgets/base",
            "_model_module_version": "1.5.0",
            "_view_count": null,
            "_view_module_version": "1.2.0",
            "bar_color": null,
            "_model_module": "@jupyter-widgets/controls"
          }
        },
        "6752b2749053454cbcbfb1df2f128c28": {
          "model_module": "@jupyter-widgets/base",
          "model_name": "LayoutModel",
          "state": {
            "_view_name": "LayoutView",
            "grid_template_rows": null,
            "right": null,
            "justify_content": null,
            "_view_module": "@jupyter-widgets/base",
            "overflow": null,
            "_model_module_version": "1.2.0",
            "_view_count": null,
            "flex_flow": null,
            "width": null,
            "min_width": null,
            "border": null,
            "align_items": null,
            "bottom": null,
            "_model_module": "@jupyter-widgets/base",
            "top": null,
            "grid_column": null,
            "overflow_y": null,
            "overflow_x": null,
            "grid_auto_flow": null,
            "grid_area": null,
            "grid_template_columns": null,
            "flex": null,
            "_model_name": "LayoutModel",
            "justify_items": null,
            "grid_row": null,
            "max_height": null,
            "align_content": null,
            "visibility": null,
            "align_self": null,
            "height": null,
            "min_height": null,
            "padding": null,
            "grid_auto_rows": null,
            "grid_gap": null,
            "max_width": null,
            "order": null,
            "_view_module_version": "1.2.0",
            "grid_template_areas": null,
            "object_position": null,
            "object_fit": null,
            "grid_auto_columns": null,
            "margin": null,
            "display": null,
            "left": null
          }
        },
        "bc0887c574c84bb89a7f005df0db5d32": {
          "model_module": "@jupyter-widgets/controls",
          "model_name": "DescriptionStyleModel",
          "state": {
            "_view_name": "StyleView",
            "_model_name": "DescriptionStyleModel",
            "description_width": "",
            "_view_module": "@jupyter-widgets/base",
            "_model_module_version": "1.5.0",
            "_view_count": null,
            "_view_module_version": "1.2.0",
            "_model_module": "@jupyter-widgets/controls"
          }
        },
        "293adf98202d44c18345a59aa179582b": {
          "model_module": "@jupyter-widgets/base",
          "model_name": "LayoutModel",
          "state": {
            "_view_name": "LayoutView",
            "grid_template_rows": null,
            "right": null,
            "justify_content": null,
            "_view_module": "@jupyter-widgets/base",
            "overflow": null,
            "_model_module_version": "1.2.0",
            "_view_count": null,
            "flex_flow": null,
            "width": null,
            "min_width": null,
            "border": null,
            "align_items": null,
            "bottom": null,
            "_model_module": "@jupyter-widgets/base",
            "top": null,
            "grid_column": null,
            "overflow_y": null,
            "overflow_x": null,
            "grid_auto_flow": null,
            "grid_area": null,
            "grid_template_columns": null,
            "flex": null,
            "_model_name": "LayoutModel",
            "justify_items": null,
            "grid_row": null,
            "max_height": null,
            "align_content": null,
            "visibility": null,
            "align_self": null,
            "height": null,
            "min_height": null,
            "padding": null,
            "grid_auto_rows": null,
            "grid_gap": null,
            "max_width": null,
            "order": null,
            "_view_module_version": "1.2.0",
            "grid_template_areas": null,
            "object_position": null,
            "object_fit": null,
            "grid_auto_columns": null,
            "margin": null,
            "display": null,
            "left": null
          }
        },
        "d09adc0476194ef895ccdb353293d8c9": {
          "model_module": "@jupyter-widgets/controls",
          "model_name": "HBoxModel",
          "state": {
            "_view_name": "HBoxView",
            "_dom_classes": [],
            "_model_name": "HBoxModel",
            "_view_module": "@jupyter-widgets/controls",
            "_model_module_version": "1.5.0",
            "_view_count": null,
            "_view_module_version": "1.5.0",
            "box_style": "",
            "layout": "IPY_MODEL_07a713f24f8b42499af6018006286182",
            "_model_module": "@jupyter-widgets/controls",
            "children": [
              "IPY_MODEL_8cf681cbbec04aefa2bc7f0c5bfa402a",
              "IPY_MODEL_2976a8f5847145f99b2ea2ed87019f67"
            ]
          }
        },
        "07a713f24f8b42499af6018006286182": {
          "model_module": "@jupyter-widgets/base",
          "model_name": "LayoutModel",
          "state": {
            "_view_name": "LayoutView",
            "grid_template_rows": null,
            "right": null,
            "justify_content": null,
            "_view_module": "@jupyter-widgets/base",
            "overflow": null,
            "_model_module_version": "1.2.0",
            "_view_count": null,
            "flex_flow": null,
            "width": null,
            "min_width": null,
            "border": null,
            "align_items": null,
            "bottom": null,
            "_model_module": "@jupyter-widgets/base",
            "top": null,
            "grid_column": null,
            "overflow_y": null,
            "overflow_x": null,
            "grid_auto_flow": null,
            "grid_area": null,
            "grid_template_columns": null,
            "flex": null,
            "_model_name": "LayoutModel",
            "justify_items": null,
            "grid_row": null,
            "max_height": null,
            "align_content": null,
            "visibility": null,
            "align_self": null,
            "height": null,
            "min_height": null,
            "padding": null,
            "grid_auto_rows": null,
            "grid_gap": null,
            "max_width": null,
            "order": null,
            "_view_module_version": "1.2.0",
            "grid_template_areas": null,
            "object_position": null,
            "object_fit": null,
            "grid_auto_columns": null,
            "margin": null,
            "display": null,
            "left": null
          }
        },
        "8cf681cbbec04aefa2bc7f0c5bfa402a": {
          "model_module": "@jupyter-widgets/controls",
          "model_name": "FloatProgressModel",
          "state": {
            "_view_name": "ProgressView",
            "style": "IPY_MODEL_0f6e5eda74c5434482dcd858022a3e42",
            "_dom_classes": [],
            "description": "Downloading: 100%",
            "_model_name": "FloatProgressModel",
            "bar_style": "success",
            "max": 501200538,
            "_view_module": "@jupyter-widgets/controls",
            "_model_module_version": "1.5.0",
            "value": 501200538,
            "_view_count": null,
            "_view_module_version": "1.5.0",
            "orientation": "horizontal",
            "min": 0,
            "description_tooltip": null,
            "_model_module": "@jupyter-widgets/controls",
            "layout": "IPY_MODEL_bce49e365ddd4a7eaf29ca80b29d281f"
          }
        },
        "2976a8f5847145f99b2ea2ed87019f67": {
          "model_module": "@jupyter-widgets/controls",
          "model_name": "HTMLModel",
          "state": {
            "_view_name": "HTMLView",
            "style": "IPY_MODEL_c5c521447a8a4ed5a5ad813a6b5045f6",
            "_dom_classes": [],
            "description": "",
            "_model_name": "HTMLModel",
            "placeholder": "​",
            "_view_module": "@jupyter-widgets/controls",
            "_model_module_version": "1.5.0",
            "value": " 501M/501M [00:07&lt;00:00, 68.0MB/s]",
            "_view_count": null,
            "_view_module_version": "1.5.0",
            "description_tooltip": null,
            "_model_module": "@jupyter-widgets/controls",
            "layout": "IPY_MODEL_216d613df2554a00976d07e8226bc73c"
          }
        },
        "0f6e5eda74c5434482dcd858022a3e42": {
          "model_module": "@jupyter-widgets/controls",
          "model_name": "ProgressStyleModel",
          "state": {
            "_view_name": "StyleView",
            "_model_name": "ProgressStyleModel",
            "description_width": "initial",
            "_view_module": "@jupyter-widgets/base",
            "_model_module_version": "1.5.0",
            "_view_count": null,
            "_view_module_version": "1.2.0",
            "bar_color": null,
            "_model_module": "@jupyter-widgets/controls"
          }
        },
        "bce49e365ddd4a7eaf29ca80b29d281f": {
          "model_module": "@jupyter-widgets/base",
          "model_name": "LayoutModel",
          "state": {
            "_view_name": "LayoutView",
            "grid_template_rows": null,
            "right": null,
            "justify_content": null,
            "_view_module": "@jupyter-widgets/base",
            "overflow": null,
            "_model_module_version": "1.2.0",
            "_view_count": null,
            "flex_flow": null,
            "width": null,
            "min_width": null,
            "border": null,
            "align_items": null,
            "bottom": null,
            "_model_module": "@jupyter-widgets/base",
            "top": null,
            "grid_column": null,
            "overflow_y": null,
            "overflow_x": null,
            "grid_auto_flow": null,
            "grid_area": null,
            "grid_template_columns": null,
            "flex": null,
            "_model_name": "LayoutModel",
            "justify_items": null,
            "grid_row": null,
            "max_height": null,
            "align_content": null,
            "visibility": null,
            "align_self": null,
            "height": null,
            "min_height": null,
            "padding": null,
            "grid_auto_rows": null,
            "grid_gap": null,
            "max_width": null,
            "order": null,
            "_view_module_version": "1.2.0",
            "grid_template_areas": null,
            "object_position": null,
            "object_fit": null,
            "grid_auto_columns": null,
            "margin": null,
            "display": null,
            "left": null
          }
        },
        "c5c521447a8a4ed5a5ad813a6b5045f6": {
          "model_module": "@jupyter-widgets/controls",
          "model_name": "DescriptionStyleModel",
          "state": {
            "_view_name": "StyleView",
            "_model_name": "DescriptionStyleModel",
            "description_width": "",
            "_view_module": "@jupyter-widgets/base",
            "_model_module_version": "1.5.0",
            "_view_count": null,
            "_view_module_version": "1.2.0",
            "_model_module": "@jupyter-widgets/controls"
          }
        },
        "216d613df2554a00976d07e8226bc73c": {
          "model_module": "@jupyter-widgets/base",
          "model_name": "LayoutModel",
          "state": {
            "_view_name": "LayoutView",
            "grid_template_rows": null,
            "right": null,
            "justify_content": null,
            "_view_module": "@jupyter-widgets/base",
            "overflow": null,
            "_model_module_version": "1.2.0",
            "_view_count": null,
            "flex_flow": null,
            "width": null,
            "min_width": null,
            "border": null,
            "align_items": null,
            "bottom": null,
            "_model_module": "@jupyter-widgets/base",
            "top": null,
            "grid_column": null,
            "overflow_y": null,
            "overflow_x": null,
            "grid_auto_flow": null,
            "grid_area": null,
            "grid_template_columns": null,
            "flex": null,
            "_model_name": "LayoutModel",
            "justify_items": null,
            "grid_row": null,
            "max_height": null,
            "align_content": null,
            "visibility": null,
            "align_self": null,
            "height": null,
            "min_height": null,
            "padding": null,
            "grid_auto_rows": null,
            "grid_gap": null,
            "max_width": null,
            "order": null,
            "_view_module_version": "1.2.0",
            "grid_template_areas": null,
            "object_position": null,
            "object_fit": null,
            "grid_auto_columns": null,
            "margin": null,
            "display": null,
            "left": null
          }
        }
      }
    }
  },
  "cells": [
    {
      "cell_type": "markdown",
      "metadata": {
        "id": "view-in-github",
        "colab_type": "text"
      },
      "source": [
        "<a href=\"https://colab.research.google.com/github/adeepH/SDPRA-2021-SharedTask/blob/main/Notebooks/Inference.ipynb\" target=\"_parent\"><img src=\"https://colab.research.google.com/assets/colab-badge.svg\" alt=\"Open In Colab\"/></a>"
      ]
    },
    {
      "cell_type": "code",
      "metadata": {
        "colab": {
          "base_uri": "https://localhost:8080/"
        },
        "id": "iwlx4KCTUQy2",
        "outputId": "c6aaf288-72f1-417e-9026-caae25823525"
      },
      "source": [
        "!git clone https://github.com/adeepH/SPDRA-2021-SharedTask.git "
      ],
      "execution_count": 1,
      "outputs": [
        {
          "output_type": "stream",
          "text": [
            "Cloning into 'SPDRA-2021-SharedTask'...\n",
            "remote: Enumerating objects: 102, done.\u001b[K\n",
            "remote: Counting objects: 100% (102/102), done.\u001b[K\n",
            "remote: Compressing objects: 100% (93/93), done.\u001b[K\n",
            "remote: Total 102 (delta 46), reused 6 (delta 2), pack-reused 0\u001b[K\n",
            "Receiving objects: 100% (102/102), 4.46 MiB | 15.02 MiB/s, done.\n",
            "Resolving deltas: 100% (46/46), done.\n"
          ],
          "name": "stdout"
        }
      ]
    },
    {
      "cell_type": "code",
      "metadata": {
        "colab": {
          "base_uri": "https://localhost:8080/"
        },
        "id": "71CrmfQTcTaS",
        "outputId": "8dac4b92-4f0d-489b-ecc5-82d0b5436eb0"
      },
      "source": [
        "cd /content/SPDRA-2021-SharedTask/"
      ],
      "execution_count": 2,
      "outputs": [
        {
          "output_type": "stream",
          "text": [
            "/content/SPDRA-2021-SharedTask\n"
          ],
          "name": "stdout"
        }
      ]
    },
    {
      "cell_type": "code",
      "metadata": {
        "colab": {
          "base_uri": "https://localhost:8080/"
        },
        "id": "nTT0pzE_cXbN",
        "outputId": "9c6ae37e-0d74-4b33-fb96-fc30e277475a"
      },
      "source": [
        "!pip install -r requirements.txt"
      ],
      "execution_count": 3,
      "outputs": [
        {
          "output_type": "stream",
          "text": [
            "Collecting transformers==3.3.1\n",
            "\u001b[?25l  Downloading https://files.pythonhosted.org/packages/19/22/aff234f4a841f8999e68a7a94bdd4b60b4cebcfeca5d67d61cd08c9179de/transformers-3.3.1-py3-none-any.whl (1.1MB)\n",
            "\r\u001b[K     |▎                               | 10kB 25.7MB/s eta 0:00:01\r\u001b[K     |▋                               | 20kB 10.7MB/s eta 0:00:01\r\u001b[K     |█                               | 30kB 10.5MB/s eta 0:00:01\r\u001b[K     |█▎                              | 40kB 10.6MB/s eta 0:00:01\r\u001b[K     |█▌                              | 51kB 10.1MB/s eta 0:00:01\r\u001b[K     |█▉                              | 61kB 10.6MB/s eta 0:00:01\r\u001b[K     |██▏                             | 71kB 11.6MB/s eta 0:00:01\r\u001b[K     |██▌                             | 81kB 11.7MB/s eta 0:00:01\r\u001b[K     |██▉                             | 92kB 12.0MB/s eta 0:00:01\r\u001b[K     |███                             | 102kB 11.3MB/s eta 0:00:01\r\u001b[K     |███▍                            | 112kB 11.3MB/s eta 0:00:01\r\u001b[K     |███▊                            | 122kB 11.3MB/s eta 0:00:01\r\u001b[K     |████                            | 133kB 11.3MB/s eta 0:00:01\r\u001b[K     |████▎                           | 143kB 11.3MB/s eta 0:00:01\r\u001b[K     |████▋                           | 153kB 11.3MB/s eta 0:00:01\r\u001b[K     |█████                           | 163kB 11.3MB/s eta 0:00:01\r\u001b[K     |█████▎                          | 174kB 11.3MB/s eta 0:00:01\r\u001b[K     |█████▋                          | 184kB 11.3MB/s eta 0:00:01\r\u001b[K     |█████▉                          | 194kB 11.3MB/s eta 0:00:01\r\u001b[K     |██████▏                         | 204kB 11.3MB/s eta 0:00:01\r\u001b[K     |██████▌                         | 215kB 11.3MB/s eta 0:00:01\r\u001b[K     |██████▉                         | 225kB 11.3MB/s eta 0:00:01\r\u001b[K     |███████                         | 235kB 11.3MB/s eta 0:00:01\r\u001b[K     |███████▍                        | 245kB 11.3MB/s eta 0:00:01\r\u001b[K     |███████▊                        | 256kB 11.3MB/s eta 0:00:01\r\u001b[K     |████████                        | 266kB 11.3MB/s eta 0:00:01\r\u001b[K     |████████▍                       | 276kB 11.3MB/s eta 0:00:01\r\u001b[K     |████████▋                       | 286kB 11.3MB/s eta 0:00:01\r\u001b[K     |█████████                       | 296kB 11.3MB/s eta 0:00:01\r\u001b[K     |█████████▎                      | 307kB 11.3MB/s eta 0:00:01\r\u001b[K     |█████████▋                      | 317kB 11.3MB/s eta 0:00:01\r\u001b[K     |█████████▉                      | 327kB 11.3MB/s eta 0:00:01\r\u001b[K     |██████████▏                     | 337kB 11.3MB/s eta 0:00:01\r\u001b[K     |██████████▌                     | 348kB 11.3MB/s eta 0:00:01\r\u001b[K     |██████████▉                     | 358kB 11.3MB/s eta 0:00:01\r\u001b[K     |███████████▏                    | 368kB 11.3MB/s eta 0:00:01\r\u001b[K     |███████████▍                    | 378kB 11.3MB/s eta 0:00:01\r\u001b[K     |███████████▊                    | 389kB 11.3MB/s eta 0:00:01\r\u001b[K     |████████████                    | 399kB 11.3MB/s eta 0:00:01\r\u001b[K     |████████████▍                   | 409kB 11.3MB/s eta 0:00:01\r\u001b[K     |████████████▋                   | 419kB 11.3MB/s eta 0:00:01\r\u001b[K     |█████████████                   | 430kB 11.3MB/s eta 0:00:01\r\u001b[K     |█████████████▎                  | 440kB 11.3MB/s eta 0:00:01\r\u001b[K     |█████████████▋                  | 450kB 11.3MB/s eta 0:00:01\r\u001b[K     |██████████████                  | 460kB 11.3MB/s eta 0:00:01\r\u001b[K     |██████████████▏                 | 471kB 11.3MB/s eta 0:00:01\r\u001b[K     |██████████████▌                 | 481kB 11.3MB/s eta 0:00:01\r\u001b[K     |██████████████▉                 | 491kB 11.3MB/s eta 0:00:01\r\u001b[K     |███████████████▏                | 501kB 11.3MB/s eta 0:00:01\r\u001b[K     |███████████████▍                | 512kB 11.3MB/s eta 0:00:01\r\u001b[K     |███████████████▊                | 522kB 11.3MB/s eta 0:00:01\r\u001b[K     |████████████████                | 532kB 11.3MB/s eta 0:00:01\r\u001b[K     |████████████████▍               | 542kB 11.3MB/s eta 0:00:01\r\u001b[K     |████████████████▊               | 552kB 11.3MB/s eta 0:00:01\r\u001b[K     |█████████████████               | 563kB 11.3MB/s eta 0:00:01\r\u001b[K     |█████████████████▎              | 573kB 11.3MB/s eta 0:00:01\r\u001b[K     |█████████████████▋              | 583kB 11.3MB/s eta 0:00:01\r\u001b[K     |██████████████████              | 593kB 11.3MB/s eta 0:00:01\r\u001b[K     |██████████████████▏             | 604kB 11.3MB/s eta 0:00:01\r\u001b[K     |██████████████████▌             | 614kB 11.3MB/s eta 0:00:01\r\u001b[K     |██████████████████▉             | 624kB 11.3MB/s eta 0:00:01\r\u001b[K     |███████████████████▏            | 634kB 11.3MB/s eta 0:00:01\r\u001b[K     |███████████████████▌            | 645kB 11.3MB/s eta 0:00:01\r\u001b[K     |███████████████████▊            | 655kB 11.3MB/s eta 0:00:01\r\u001b[K     |████████████████████            | 665kB 11.3MB/s eta 0:00:01\r\u001b[K     |████████████████████▍           | 675kB 11.3MB/s eta 0:00:01\r\u001b[K     |████████████████████▊           | 686kB 11.3MB/s eta 0:00:01\r\u001b[K     |█████████████████████           | 696kB 11.3MB/s eta 0:00:01\r\u001b[K     |█████████████████████▎          | 706kB 11.3MB/s eta 0:00:01\r\u001b[K     |█████████████████████▋          | 716kB 11.3MB/s eta 0:00:01\r\u001b[K     |██████████████████████          | 727kB 11.3MB/s eta 0:00:01\r\u001b[K     |██████████████████████▎         | 737kB 11.3MB/s eta 0:00:01\r\u001b[K     |██████████████████████▌         | 747kB 11.3MB/s eta 0:00:01\r\u001b[K     |██████████████████████▉         | 757kB 11.3MB/s eta 0:00:01\r\u001b[K     |███████████████████████▏        | 768kB 11.3MB/s eta 0:00:01\r\u001b[K     |███████████████████████▌        | 778kB 11.3MB/s eta 0:00:01\r\u001b[K     |███████████████████████▊        | 788kB 11.3MB/s eta 0:00:01\r\u001b[K     |████████████████████████        | 798kB 11.3MB/s eta 0:00:01\r\u001b[K     |████████████████████████▍       | 808kB 11.3MB/s eta 0:00:01\r\u001b[K     |████████████████████████▊       | 819kB 11.3MB/s eta 0:00:01\r\u001b[K     |█████████████████████████       | 829kB 11.3MB/s eta 0:00:01\r\u001b[K     |█████████████████████████▎      | 839kB 11.3MB/s eta 0:00:01\r\u001b[K     |█████████████████████████▋      | 849kB 11.3MB/s eta 0:00:01\r\u001b[K     |██████████████████████████      | 860kB 11.3MB/s eta 0:00:01\r\u001b[K     |██████████████████████████▎     | 870kB 11.3MB/s eta 0:00:01\r\u001b[K     |██████████████████████████▌     | 880kB 11.3MB/s eta 0:00:01\r\u001b[K     |██████████████████████████▉     | 890kB 11.3MB/s eta 0:00:01\r\u001b[K     |███████████████████████████▏    | 901kB 11.3MB/s eta 0:00:01\r\u001b[K     |███████████████████████████▌    | 911kB 11.3MB/s eta 0:00:01\r\u001b[K     |███████████████████████████▉    | 921kB 11.3MB/s eta 0:00:01\r\u001b[K     |████████████████████████████    | 931kB 11.3MB/s eta 0:00:01\r\u001b[K     |████████████████████████████▍   | 942kB 11.3MB/s eta 0:00:01\r\u001b[K     |████████████████████████████▊   | 952kB 11.3MB/s eta 0:00:01\r\u001b[K     |█████████████████████████████   | 962kB 11.3MB/s eta 0:00:01\r\u001b[K     |█████████████████████████████▎  | 972kB 11.3MB/s eta 0:00:01\r\u001b[K     |█████████████████████████████▋  | 983kB 11.3MB/s eta 0:00:01\r\u001b[K     |██████████████████████████████  | 993kB 11.3MB/s eta 0:00:01\r\u001b[K     |██████████████████████████████▎ | 1.0MB 11.3MB/s eta 0:00:01\r\u001b[K     |██████████████████████████████▋ | 1.0MB 11.3MB/s eta 0:00:01\r\u001b[K     |██████████████████████████████▉ | 1.0MB 11.3MB/s eta 0:00:01\r\u001b[K     |███████████████████████████████▏| 1.0MB 11.3MB/s eta 0:00:01\r\u001b[K     |███████████████████████████████▌| 1.0MB 11.3MB/s eta 0:00:01\r\u001b[K     |███████████████████████████████▉| 1.1MB 11.3MB/s eta 0:00:01\r\u001b[K     |████████████████████████████████| 1.1MB 11.3MB/s \n",
            "\u001b[?25hRequirement already satisfied: sklearn in /usr/local/lib/python3.6/dist-packages (from -r requirements.txt (line 2)) (0.0)\n",
            "Requirement already satisfied: torch==1.7.0+cu101 in /usr/local/lib/python3.6/dist-packages (from -r requirements.txt (line 3)) (1.7.0+cu101)\n",
            "Requirement already satisfied: packaging in /usr/local/lib/python3.6/dist-packages (from transformers==3.3.1->-r requirements.txt (line 1)) (20.8)\n",
            "Collecting sentencepiece!=0.1.92\n",
            "\u001b[?25l  Downloading https://files.pythonhosted.org/packages/e5/2d/6d4ca4bef9a67070fa1cac508606328329152b1df10bdf31fb6e4e727894/sentencepiece-0.1.94-cp36-cp36m-manylinux2014_x86_64.whl (1.1MB)\n",
            "\u001b[K     |████████████████████████████████| 1.1MB 51.3MB/s \n",
            "\u001b[?25hRequirement already satisfied: tqdm>=4.27 in /usr/local/lib/python3.6/dist-packages (from transformers==3.3.1->-r requirements.txt (line 1)) (4.41.1)\n",
            "Requirement already satisfied: filelock in /usr/local/lib/python3.6/dist-packages (from transformers==3.3.1->-r requirements.txt (line 1)) (3.0.12)\n",
            "Collecting tokenizers==0.8.1.rc2\n",
            "\u001b[?25l  Downloading https://files.pythonhosted.org/packages/80/83/8b9fccb9e48eeb575ee19179e2bdde0ee9a1904f97de5f02d19016b8804f/tokenizers-0.8.1rc2-cp36-cp36m-manylinux1_x86_64.whl (3.0MB)\n",
            "\u001b[K     |████████████████████████████████| 3.0MB 50.2MB/s \n",
            "\u001b[?25hCollecting sacremoses\n",
            "\u001b[?25l  Downloading https://files.pythonhosted.org/packages/7d/34/09d19aff26edcc8eb2a01bed8e98f13a1537005d31e95233fd48216eed10/sacremoses-0.0.43.tar.gz (883kB)\n",
            "\u001b[K     |████████████████████████████████| 890kB 49.6MB/s \n",
            "\u001b[?25hRequirement already satisfied: regex!=2019.12.17 in /usr/local/lib/python3.6/dist-packages (from transformers==3.3.1->-r requirements.txt (line 1)) (2019.12.20)\n",
            "Requirement already satisfied: requests in /usr/local/lib/python3.6/dist-packages (from transformers==3.3.1->-r requirements.txt (line 1)) (2.23.0)\n",
            "Requirement already satisfied: numpy in /usr/local/lib/python3.6/dist-packages (from transformers==3.3.1->-r requirements.txt (line 1)) (1.19.4)\n",
            "Requirement already satisfied: dataclasses; python_version < \"3.7\" in /usr/local/lib/python3.6/dist-packages (from transformers==3.3.1->-r requirements.txt (line 1)) (0.8)\n",
            "Requirement already satisfied: scikit-learn in /usr/local/lib/python3.6/dist-packages (from sklearn->-r requirements.txt (line 2)) (0.22.2.post1)\n",
            "Requirement already satisfied: future in /usr/local/lib/python3.6/dist-packages (from torch==1.7.0+cu101->-r requirements.txt (line 3)) (0.16.0)\n",
            "Requirement already satisfied: typing-extensions in /usr/local/lib/python3.6/dist-packages (from torch==1.7.0+cu101->-r requirements.txt (line 3)) (3.7.4.3)\n",
            "Requirement already satisfied: pyparsing>=2.0.2 in /usr/local/lib/python3.6/dist-packages (from packaging->transformers==3.3.1->-r requirements.txt (line 1)) (2.4.7)\n",
            "Requirement already satisfied: six in /usr/local/lib/python3.6/dist-packages (from sacremoses->transformers==3.3.1->-r requirements.txt (line 1)) (1.15.0)\n",
            "Requirement already satisfied: click in /usr/local/lib/python3.6/dist-packages (from sacremoses->transformers==3.3.1->-r requirements.txt (line 1)) (7.1.2)\n",
            "Requirement already satisfied: joblib in /usr/local/lib/python3.6/dist-packages (from sacremoses->transformers==3.3.1->-r requirements.txt (line 1)) (1.0.0)\n",
            "Requirement already satisfied: idna<3,>=2.5 in /usr/local/lib/python3.6/dist-packages (from requests->transformers==3.3.1->-r requirements.txt (line 1)) (2.10)\n",
            "Requirement already satisfied: urllib3!=1.25.0,!=1.25.1,<1.26,>=1.21.1 in /usr/local/lib/python3.6/dist-packages (from requests->transformers==3.3.1->-r requirements.txt (line 1)) (1.24.3)\n",
            "Requirement already satisfied: certifi>=2017.4.17 in /usr/local/lib/python3.6/dist-packages (from requests->transformers==3.3.1->-r requirements.txt (line 1)) (2020.12.5)\n",
            "Requirement already satisfied: chardet<4,>=3.0.2 in /usr/local/lib/python3.6/dist-packages (from requests->transformers==3.3.1->-r requirements.txt (line 1)) (3.0.4)\n",
            "Requirement already satisfied: scipy>=0.17.0 in /usr/local/lib/python3.6/dist-packages (from scikit-learn->sklearn->-r requirements.txt (line 2)) (1.4.1)\n",
            "Building wheels for collected packages: sacremoses\n",
            "  Building wheel for sacremoses (setup.py) ... \u001b[?25l\u001b[?25hdone\n",
            "  Created wheel for sacremoses: filename=sacremoses-0.0.43-cp36-none-any.whl size=893261 sha256=7b9c454a61551ce5d06e653e6a3350006ef2194ebcbe534c3b3ddd3869305f7d\n",
            "  Stored in directory: /root/.cache/pip/wheels/29/3c/fd/7ce5c3f0666dab31a50123635e6fb5e19ceb42ce38d4e58f45\n",
            "Successfully built sacremoses\n",
            "Installing collected packages: sentencepiece, tokenizers, sacremoses, transformers\n",
            "Successfully installed sacremoses-0.0.43 sentencepiece-0.1.94 tokenizers-0.8.1rc2 transformers-3.3.1\n"
          ],
          "name": "stdout"
        }
      ]
    },
    {
      "cell_type": "code",
      "metadata": {
        "colab": {
          "base_uri": "https://localhost:8080/"
        },
        "id": "YEXv6f19devd",
        "outputId": "c75eae19-7a4f-443a-db8c-403234ec5aa2"
      },
      "source": [
        "cd  "
      ],
      "execution_count": 4,
      "outputs": [
        {
          "output_type": "stream",
          "text": [
            "/root\n"
          ],
          "name": "stdout"
        }
      ]
    },
    {
      "cell_type": "code",
      "metadata": {
        "id": "RX4ly-eexdnC",
        "outputId": "c55f129b-dee0-40e4-80c3-2103bc2e7e89",
        "colab": {
          "base_uri": "https://localhost:8080/"
        }
      },
      "source": [
        "cd /content/SPDRA-2021-SharedTask/scripts/"
      ],
      "execution_count": 5,
      "outputs": [
        {
          "output_type": "stream",
          "text": [
            "/content/SPDRA-2021-SharedTask/scripts\n"
          ],
          "name": "stdout"
        }
      ]
    },
    {
      "cell_type": "code",
      "metadata": {
        "id": "LZCQqcNkQ1H7"
      },
      "source": [
        "import pandas as pd\r\n",
        "import numpy as np\r\n",
        "import torch\r\n",
        "from dataset import *\r\n",
        "from model import *\r\n",
        "from utils import *"
      ],
      "execution_count": 6,
      "outputs": []
    },
    {
      "cell_type": "code",
      "metadata": {
        "id": "QkJpV42BaE-P",
        "colab": {
          "base_uri": "https://localhost:8080/",
          "height": 164,
          "referenced_widgets": [
            "1265d1237f484394bd67d40c3288653d",
            "00339c1bde9e4d5d87c11e622e73c2a6",
            "d986f57c90f442d7bbd05bd2273bc88c",
            "1acc47b346ae43cfbb866752ec13d4ea",
            "1209190b666f479ab62771b760bcc251",
            "5ae300af0de94e9a9165ff2b733c4f03",
            "9cf35490647d40368b804ae30d8b3af9",
            "bc45986b868c4ac68f7c3c99d587a58a",
            "c29ea397305c4e6bb74072122fc9ae63",
            "4394edb1a68642b08e2dc0366a92b4d2",
            "bae17d305d9048d3b3eae6607e417a21",
            "cf7eb180a15944b68f69d7678e0892c1",
            "f86b7bb632164e23b6b0ff470872ef1a",
            "016f0d515727490190715eabeb3ddad3",
            "b6a1419d1ee4428687453108ac53a82e",
            "e65f2d46baee46868e7d56a636b1ee52",
            "658707241e98418da55d2d57bc419d1b",
            "f0664e753d8f400f93e5ba93eed7a944",
            "e499c79b681b499e88922c430e00ca46",
            "461a5a748e8642f1b1da164d30eb257b",
            "2abbc65a90094f88ab88f1cd368fcbfc",
            "6752b2749053454cbcbfb1df2f128c28",
            "bc0887c574c84bb89a7f005df0db5d32",
            "293adf98202d44c18345a59aa179582b"
          ]
        },
        "outputId": "5d9c4e38-8932-403a-a1bc-a8d4837430e5"
      },
      "source": [
        "tokenizer = AutoTokenizer.from_pretrained('roberta-base') \n",
        "device = 'cuda'\n",
        "MAX_LEN = 128\n",
        "BATCH_SIZE = 32"
      ],
      "execution_count": 7,
      "outputs": [
        {
          "output_type": "display_data",
          "data": {
            "application/vnd.jupyter.widget-view+json": {
              "model_id": "1265d1237f484394bd67d40c3288653d",
              "version_minor": 0,
              "version_major": 2
            },
            "text/plain": [
              "HBox(children=(FloatProgress(value=0.0, description='Downloading', max=481.0, style=ProgressStyle(description_…"
            ]
          },
          "metadata": {
            "tags": []
          }
        },
        {
          "output_type": "stream",
          "text": [
            "\n"
          ],
          "name": "stdout"
        },
        {
          "output_type": "display_data",
          "data": {
            "application/vnd.jupyter.widget-view+json": {
              "model_id": "c29ea397305c4e6bb74072122fc9ae63",
              "version_minor": 0,
              "version_major": 2
            },
            "text/plain": [
              "HBox(children=(FloatProgress(value=0.0, description='Downloading', max=898823.0, style=ProgressStyle(descripti…"
            ]
          },
          "metadata": {
            "tags": []
          }
        },
        {
          "output_type": "stream",
          "text": [
            "\n"
          ],
          "name": "stdout"
        },
        {
          "output_type": "display_data",
          "data": {
            "application/vnd.jupyter.widget-view+json": {
              "model_id": "658707241e98418da55d2d57bc419d1b",
              "version_minor": 0,
              "version_major": 2
            },
            "text/plain": [
              "HBox(children=(FloatProgress(value=0.0, description='Downloading', max=456318.0, style=ProgressStyle(descripti…"
            ]
          },
          "metadata": {
            "tags": []
          }
        },
        {
          "output_type": "stream",
          "text": [
            "\n"
          ],
          "name": "stdout"
        }
      ]
    },
    {
      "cell_type": "code",
      "metadata": {
        "colab": {
          "base_uri": "https://localhost:8080/"
        },
        "id": "UtyXTqv_eDXx",
        "outputId": "bc24e51d-d5b2-47ef-c3c1-95fbf1fea450"
      },
      "source": [
        "from google.colab import drive\n",
        "drive.mount('/content/drive')"
      ],
      "execution_count": 8,
      "outputs": [
        {
          "output_type": "stream",
          "text": [
            "Mounted at /content/drive\n"
          ],
          "name": "stdout"
        }
      ]
    },
    {
      "cell_type": "code",
      "metadata": {
        "id": "ufqJKrjscceE",
        "outputId": "2e35bcf7-2a0c-4bfc-cb6b-c814f4204ea1",
        "colab": {
          "base_uri": "https://localhost:8080/",
          "height": 1000,
          "referenced_widgets": [
            "d09adc0476194ef895ccdb353293d8c9",
            "07a713f24f8b42499af6018006286182",
            "8cf681cbbec04aefa2bc7f0c5bfa402a",
            "2976a8f5847145f99b2ea2ed87019f67",
            "0f6e5eda74c5434482dcd858022a3e42",
            "bce49e365ddd4a7eaf29ca80b29d281f",
            "c5c521447a8a4ed5a5ad813a6b5045f6",
            "216d613df2554a00976d07e8226bc73c"
          ]
        }
      },
      "source": [
        "model = RFClassifier(7,'roberta-base')\r\n",
        "model.load_state_dict(torch.load('/content/drive/MyDrive/spdra2021/saved_models/roberta.bin'))\r\n",
        "model.to(device)\r\n",
        "for param in model.parameters():\r\n",
        "    param.requires_grad = False\r\n",
        "model.eval()"
      ],
      "execution_count": 9,
      "outputs": [
        {
          "output_type": "display_data",
          "data": {
            "application/vnd.jupyter.widget-view+json": {
              "model_id": "d09adc0476194ef895ccdb353293d8c9",
              "version_minor": 0,
              "version_major": 2
            },
            "text/plain": [
              "HBox(children=(FloatProgress(value=0.0, description='Downloading', max=501200538.0, style=ProgressStyle(descri…"
            ]
          },
          "metadata": {
            "tags": []
          }
        },
        {
          "output_type": "stream",
          "text": [
            "\n"
          ],
          "name": "stdout"
        },
        {
          "output_type": "execute_result",
          "data": {
            "text/plain": [
              "RFClassifier(\n",
              "  (auto): RobertaModel(\n",
              "    (embeddings): RobertaEmbeddings(\n",
              "      (word_embeddings): Embedding(50265, 768, padding_idx=1)\n",
              "      (position_embeddings): Embedding(514, 768, padding_idx=1)\n",
              "      (token_type_embeddings): Embedding(1, 768)\n",
              "      (LayerNorm): LayerNorm((768,), eps=1e-05, elementwise_affine=True)\n",
              "      (dropout): Dropout(p=0.1, inplace=False)\n",
              "    )\n",
              "    (encoder): RobertaEncoder(\n",
              "      (layer): ModuleList(\n",
              "        (0): RobertaLayer(\n",
              "          (attention): RobertaAttention(\n",
              "            (self): RobertaSelfAttention(\n",
              "              (query): Linear(in_features=768, out_features=768, bias=True)\n",
              "              (key): Linear(in_features=768, out_features=768, bias=True)\n",
              "              (value): Linear(in_features=768, out_features=768, bias=True)\n",
              "              (dropout): Dropout(p=0.1, inplace=False)\n",
              "            )\n",
              "            (output): RobertaSelfOutput(\n",
              "              (dense): Linear(in_features=768, out_features=768, bias=True)\n",
              "              (LayerNorm): LayerNorm((768,), eps=1e-05, elementwise_affine=True)\n",
              "              (dropout): Dropout(p=0.1, inplace=False)\n",
              "            )\n",
              "          )\n",
              "          (intermediate): RobertaIntermediate(\n",
              "            (dense): Linear(in_features=768, out_features=3072, bias=True)\n",
              "          )\n",
              "          (output): RobertaOutput(\n",
              "            (dense): Linear(in_features=3072, out_features=768, bias=True)\n",
              "            (LayerNorm): LayerNorm((768,), eps=1e-05, elementwise_affine=True)\n",
              "            (dropout): Dropout(p=0.1, inplace=False)\n",
              "          )\n",
              "        )\n",
              "        (1): RobertaLayer(\n",
              "          (attention): RobertaAttention(\n",
              "            (self): RobertaSelfAttention(\n",
              "              (query): Linear(in_features=768, out_features=768, bias=True)\n",
              "              (key): Linear(in_features=768, out_features=768, bias=True)\n",
              "              (value): Linear(in_features=768, out_features=768, bias=True)\n",
              "              (dropout): Dropout(p=0.1, inplace=False)\n",
              "            )\n",
              "            (output): RobertaSelfOutput(\n",
              "              (dense): Linear(in_features=768, out_features=768, bias=True)\n",
              "              (LayerNorm): LayerNorm((768,), eps=1e-05, elementwise_affine=True)\n",
              "              (dropout): Dropout(p=0.1, inplace=False)\n",
              "            )\n",
              "          )\n",
              "          (intermediate): RobertaIntermediate(\n",
              "            (dense): Linear(in_features=768, out_features=3072, bias=True)\n",
              "          )\n",
              "          (output): RobertaOutput(\n",
              "            (dense): Linear(in_features=3072, out_features=768, bias=True)\n",
              "            (LayerNorm): LayerNorm((768,), eps=1e-05, elementwise_affine=True)\n",
              "            (dropout): Dropout(p=0.1, inplace=False)\n",
              "          )\n",
              "        )\n",
              "        (2): RobertaLayer(\n",
              "          (attention): RobertaAttention(\n",
              "            (self): RobertaSelfAttention(\n",
              "              (query): Linear(in_features=768, out_features=768, bias=True)\n",
              "              (key): Linear(in_features=768, out_features=768, bias=True)\n",
              "              (value): Linear(in_features=768, out_features=768, bias=True)\n",
              "              (dropout): Dropout(p=0.1, inplace=False)\n",
              "            )\n",
              "            (output): RobertaSelfOutput(\n",
              "              (dense): Linear(in_features=768, out_features=768, bias=True)\n",
              "              (LayerNorm): LayerNorm((768,), eps=1e-05, elementwise_affine=True)\n",
              "              (dropout): Dropout(p=0.1, inplace=False)\n",
              "            )\n",
              "          )\n",
              "          (intermediate): RobertaIntermediate(\n",
              "            (dense): Linear(in_features=768, out_features=3072, bias=True)\n",
              "          )\n",
              "          (output): RobertaOutput(\n",
              "            (dense): Linear(in_features=3072, out_features=768, bias=True)\n",
              "            (LayerNorm): LayerNorm((768,), eps=1e-05, elementwise_affine=True)\n",
              "            (dropout): Dropout(p=0.1, inplace=False)\n",
              "          )\n",
              "        )\n",
              "        (3): RobertaLayer(\n",
              "          (attention): RobertaAttention(\n",
              "            (self): RobertaSelfAttention(\n",
              "              (query): Linear(in_features=768, out_features=768, bias=True)\n",
              "              (key): Linear(in_features=768, out_features=768, bias=True)\n",
              "              (value): Linear(in_features=768, out_features=768, bias=True)\n",
              "              (dropout): Dropout(p=0.1, inplace=False)\n",
              "            )\n",
              "            (output): RobertaSelfOutput(\n",
              "              (dense): Linear(in_features=768, out_features=768, bias=True)\n",
              "              (LayerNorm): LayerNorm((768,), eps=1e-05, elementwise_affine=True)\n",
              "              (dropout): Dropout(p=0.1, inplace=False)\n",
              "            )\n",
              "          )\n",
              "          (intermediate): RobertaIntermediate(\n",
              "            (dense): Linear(in_features=768, out_features=3072, bias=True)\n",
              "          )\n",
              "          (output): RobertaOutput(\n",
              "            (dense): Linear(in_features=3072, out_features=768, bias=True)\n",
              "            (LayerNorm): LayerNorm((768,), eps=1e-05, elementwise_affine=True)\n",
              "            (dropout): Dropout(p=0.1, inplace=False)\n",
              "          )\n",
              "        )\n",
              "        (4): RobertaLayer(\n",
              "          (attention): RobertaAttention(\n",
              "            (self): RobertaSelfAttention(\n",
              "              (query): Linear(in_features=768, out_features=768, bias=True)\n",
              "              (key): Linear(in_features=768, out_features=768, bias=True)\n",
              "              (value): Linear(in_features=768, out_features=768, bias=True)\n",
              "              (dropout): Dropout(p=0.1, inplace=False)\n",
              "            )\n",
              "            (output): RobertaSelfOutput(\n",
              "              (dense): Linear(in_features=768, out_features=768, bias=True)\n",
              "              (LayerNorm): LayerNorm((768,), eps=1e-05, elementwise_affine=True)\n",
              "              (dropout): Dropout(p=0.1, inplace=False)\n",
              "            )\n",
              "          )\n",
              "          (intermediate): RobertaIntermediate(\n",
              "            (dense): Linear(in_features=768, out_features=3072, bias=True)\n",
              "          )\n",
              "          (output): RobertaOutput(\n",
              "            (dense): Linear(in_features=3072, out_features=768, bias=True)\n",
              "            (LayerNorm): LayerNorm((768,), eps=1e-05, elementwise_affine=True)\n",
              "            (dropout): Dropout(p=0.1, inplace=False)\n",
              "          )\n",
              "        )\n",
              "        (5): RobertaLayer(\n",
              "          (attention): RobertaAttention(\n",
              "            (self): RobertaSelfAttention(\n",
              "              (query): Linear(in_features=768, out_features=768, bias=True)\n",
              "              (key): Linear(in_features=768, out_features=768, bias=True)\n",
              "              (value): Linear(in_features=768, out_features=768, bias=True)\n",
              "              (dropout): Dropout(p=0.1, inplace=False)\n",
              "            )\n",
              "            (output): RobertaSelfOutput(\n",
              "              (dense): Linear(in_features=768, out_features=768, bias=True)\n",
              "              (LayerNorm): LayerNorm((768,), eps=1e-05, elementwise_affine=True)\n",
              "              (dropout): Dropout(p=0.1, inplace=False)\n",
              "            )\n",
              "          )\n",
              "          (intermediate): RobertaIntermediate(\n",
              "            (dense): Linear(in_features=768, out_features=3072, bias=True)\n",
              "          )\n",
              "          (output): RobertaOutput(\n",
              "            (dense): Linear(in_features=3072, out_features=768, bias=True)\n",
              "            (LayerNorm): LayerNorm((768,), eps=1e-05, elementwise_affine=True)\n",
              "            (dropout): Dropout(p=0.1, inplace=False)\n",
              "          )\n",
              "        )\n",
              "        (6): RobertaLayer(\n",
              "          (attention): RobertaAttention(\n",
              "            (self): RobertaSelfAttention(\n",
              "              (query): Linear(in_features=768, out_features=768, bias=True)\n",
              "              (key): Linear(in_features=768, out_features=768, bias=True)\n",
              "              (value): Linear(in_features=768, out_features=768, bias=True)\n",
              "              (dropout): Dropout(p=0.1, inplace=False)\n",
              "            )\n",
              "            (output): RobertaSelfOutput(\n",
              "              (dense): Linear(in_features=768, out_features=768, bias=True)\n",
              "              (LayerNorm): LayerNorm((768,), eps=1e-05, elementwise_affine=True)\n",
              "              (dropout): Dropout(p=0.1, inplace=False)\n",
              "            )\n",
              "          )\n",
              "          (intermediate): RobertaIntermediate(\n",
              "            (dense): Linear(in_features=768, out_features=3072, bias=True)\n",
              "          )\n",
              "          (output): RobertaOutput(\n",
              "            (dense): Linear(in_features=3072, out_features=768, bias=True)\n",
              "            (LayerNorm): LayerNorm((768,), eps=1e-05, elementwise_affine=True)\n",
              "            (dropout): Dropout(p=0.1, inplace=False)\n",
              "          )\n",
              "        )\n",
              "        (7): RobertaLayer(\n",
              "          (attention): RobertaAttention(\n",
              "            (self): RobertaSelfAttention(\n",
              "              (query): Linear(in_features=768, out_features=768, bias=True)\n",
              "              (key): Linear(in_features=768, out_features=768, bias=True)\n",
              "              (value): Linear(in_features=768, out_features=768, bias=True)\n",
              "              (dropout): Dropout(p=0.1, inplace=False)\n",
              "            )\n",
              "            (output): RobertaSelfOutput(\n",
              "              (dense): Linear(in_features=768, out_features=768, bias=True)\n",
              "              (LayerNorm): LayerNorm((768,), eps=1e-05, elementwise_affine=True)\n",
              "              (dropout): Dropout(p=0.1, inplace=False)\n",
              "            )\n",
              "          )\n",
              "          (intermediate): RobertaIntermediate(\n",
              "            (dense): Linear(in_features=768, out_features=3072, bias=True)\n",
              "          )\n",
              "          (output): RobertaOutput(\n",
              "            (dense): Linear(in_features=3072, out_features=768, bias=True)\n",
              "            (LayerNorm): LayerNorm((768,), eps=1e-05, elementwise_affine=True)\n",
              "            (dropout): Dropout(p=0.1, inplace=False)\n",
              "          )\n",
              "        )\n",
              "        (8): RobertaLayer(\n",
              "          (attention): RobertaAttention(\n",
              "            (self): RobertaSelfAttention(\n",
              "              (query): Linear(in_features=768, out_features=768, bias=True)\n",
              "              (key): Linear(in_features=768, out_features=768, bias=True)\n",
              "              (value): Linear(in_features=768, out_features=768, bias=True)\n",
              "              (dropout): Dropout(p=0.1, inplace=False)\n",
              "            )\n",
              "            (output): RobertaSelfOutput(\n",
              "              (dense): Linear(in_features=768, out_features=768, bias=True)\n",
              "              (LayerNorm): LayerNorm((768,), eps=1e-05, elementwise_affine=True)\n",
              "              (dropout): Dropout(p=0.1, inplace=False)\n",
              "            )\n",
              "          )\n",
              "          (intermediate): RobertaIntermediate(\n",
              "            (dense): Linear(in_features=768, out_features=3072, bias=True)\n",
              "          )\n",
              "          (output): RobertaOutput(\n",
              "            (dense): Linear(in_features=3072, out_features=768, bias=True)\n",
              "            (LayerNorm): LayerNorm((768,), eps=1e-05, elementwise_affine=True)\n",
              "            (dropout): Dropout(p=0.1, inplace=False)\n",
              "          )\n",
              "        )\n",
              "        (9): RobertaLayer(\n",
              "          (attention): RobertaAttention(\n",
              "            (self): RobertaSelfAttention(\n",
              "              (query): Linear(in_features=768, out_features=768, bias=True)\n",
              "              (key): Linear(in_features=768, out_features=768, bias=True)\n",
              "              (value): Linear(in_features=768, out_features=768, bias=True)\n",
              "              (dropout): Dropout(p=0.1, inplace=False)\n",
              "            )\n",
              "            (output): RobertaSelfOutput(\n",
              "              (dense): Linear(in_features=768, out_features=768, bias=True)\n",
              "              (LayerNorm): LayerNorm((768,), eps=1e-05, elementwise_affine=True)\n",
              "              (dropout): Dropout(p=0.1, inplace=False)\n",
              "            )\n",
              "          )\n",
              "          (intermediate): RobertaIntermediate(\n",
              "            (dense): Linear(in_features=768, out_features=3072, bias=True)\n",
              "          )\n",
              "          (output): RobertaOutput(\n",
              "            (dense): Linear(in_features=3072, out_features=768, bias=True)\n",
              "            (LayerNorm): LayerNorm((768,), eps=1e-05, elementwise_affine=True)\n",
              "            (dropout): Dropout(p=0.1, inplace=False)\n",
              "          )\n",
              "        )\n",
              "        (10): RobertaLayer(\n",
              "          (attention): RobertaAttention(\n",
              "            (self): RobertaSelfAttention(\n",
              "              (query): Linear(in_features=768, out_features=768, bias=True)\n",
              "              (key): Linear(in_features=768, out_features=768, bias=True)\n",
              "              (value): Linear(in_features=768, out_features=768, bias=True)\n",
              "              (dropout): Dropout(p=0.1, inplace=False)\n",
              "            )\n",
              "            (output): RobertaSelfOutput(\n",
              "              (dense): Linear(in_features=768, out_features=768, bias=True)\n",
              "              (LayerNorm): LayerNorm((768,), eps=1e-05, elementwise_affine=True)\n",
              "              (dropout): Dropout(p=0.1, inplace=False)\n",
              "            )\n",
              "          )\n",
              "          (intermediate): RobertaIntermediate(\n",
              "            (dense): Linear(in_features=768, out_features=3072, bias=True)\n",
              "          )\n",
              "          (output): RobertaOutput(\n",
              "            (dense): Linear(in_features=3072, out_features=768, bias=True)\n",
              "            (LayerNorm): LayerNorm((768,), eps=1e-05, elementwise_affine=True)\n",
              "            (dropout): Dropout(p=0.1, inplace=False)\n",
              "          )\n",
              "        )\n",
              "        (11): RobertaLayer(\n",
              "          (attention): RobertaAttention(\n",
              "            (self): RobertaSelfAttention(\n",
              "              (query): Linear(in_features=768, out_features=768, bias=True)\n",
              "              (key): Linear(in_features=768, out_features=768, bias=True)\n",
              "              (value): Linear(in_features=768, out_features=768, bias=True)\n",
              "              (dropout): Dropout(p=0.1, inplace=False)\n",
              "            )\n",
              "            (output): RobertaSelfOutput(\n",
              "              (dense): Linear(in_features=768, out_features=768, bias=True)\n",
              "              (LayerNorm): LayerNorm((768,), eps=1e-05, elementwise_affine=True)\n",
              "              (dropout): Dropout(p=0.1, inplace=False)\n",
              "            )\n",
              "          )\n",
              "          (intermediate): RobertaIntermediate(\n",
              "            (dense): Linear(in_features=768, out_features=3072, bias=True)\n",
              "          )\n",
              "          (output): RobertaOutput(\n",
              "            (dense): Linear(in_features=3072, out_features=768, bias=True)\n",
              "            (LayerNorm): LayerNorm((768,), eps=1e-05, elementwise_affine=True)\n",
              "            (dropout): Dropout(p=0.1, inplace=False)\n",
              "          )\n",
              "        )\n",
              "      )\n",
              "    )\n",
              "    (pooler): RobertaPooler(\n",
              "      (dense): Linear(in_features=768, out_features=768, bias=True)\n",
              "      (activation): Tanh()\n",
              "    )\n",
              "  )\n",
              "  (drop): Dropout(p=0.5, inplace=False)\n",
              "  (out1): Linear(in_features=768, out_features=128, bias=True)\n",
              "  (drop1): Dropout(p=0.5, inplace=False)\n",
              "  (relu): ReLU()\n",
              "  (out): Linear(in_features=128, out_features=7, bias=True)\n",
              ")"
            ]
          },
          "metadata": {
            "tags": []
          },
          "execution_count": 9
        }
      ]
    },
    {
      "cell_type": "code",
      "metadata": {
        "id": "xJ1gFkFRrU7E"
      },
      "source": [
        "test = pd.read_csv('/content/drive/MyDrive/spdra2021/Datasets/test.csv',delimiter=',',\r\n",
        "                 header=None,names=['text']) "
      ],
      "execution_count": 10,
      "outputs": []
    },
    {
      "cell_type": "code",
      "metadata": {
        "id": "x4PEDWKSfIuR"
      },
      "source": [
        "!python dataset.py"
      ],
      "execution_count": null,
      "outputs": []
    },
    {
      "cell_type": "code",
      "metadata": {
        "id": "jqPor6MOsGde"
      },
      "source": [
        "\r\n",
        "class RFDataset(Dataset):\r\n",
        "  def __init__(self,text,tokenizer,max_len):\r\n",
        "    self.text = text\r\n",
        "    #self.label = label\r\n",
        "    self.tokenizer = tokenizer\r\n",
        "    self.max_len = max_len\r\n",
        "  \r\n",
        "  def __len__(self):\r\n",
        "    return len(self.text)\r\n",
        "  \r\n",
        "  def __getitem__(self,item):\r\n",
        "    text = str(self.text[item])\r\n",
        "    #label = self.label[item]\r\n",
        "\r\n",
        "    encoding = self.tokenizer.encode_plus(\r\n",
        "        text,\r\n",
        "        add_special_tokens=True,\r\n",
        "        max_length = self.max_len,\r\n",
        "        return_token_type_ids = False,\r\n",
        "        padding = 'max_length',\r\n",
        "        return_attention_mask= True,\r\n",
        "        return_tensors='pt',\r\n",
        "        truncation=True\r\n",
        "    )\r\n",
        "\r\n",
        "    return {\r\n",
        "        'text' : text,\r\n",
        "        'input_ids' : encoding['input_ids'].flatten(),\r\n",
        "        'attention_mask' : encoding['attention_mask'].flatten(),\r\n",
        "        #'label' : torch.tensor(label,dtype=torch.long)\r\n",
        "\r\n",
        "    }\r\n"
      ],
      "execution_count": 11,
      "outputs": []
    },
    {
      "cell_type": "code",
      "metadata": {
        "id": "wFp2xdPVdLpJ"
      },
      "source": [
        "def create_dataloader(df,tokenizer,max_len,batch_size):\r\n",
        "  ds = RFDataset(\r\n",
        "      text = df.text.to_numpy(),\r\n",
        "      #label = df.label.to_numpy(),\r\n",
        "      tokenizer = tokenizer,\r\n",
        "      max_len = max_len\r\n",
        "  )\r\n",
        "\r\n",
        "  return DataLoader(ds,\r\n",
        "                    batch_size = batch_size,\r\n",
        "                    shuffle = False,\r\n",
        "                    num_workers=4)\r\n"
      ],
      "execution_count": 12,
      "outputs": []
    },
    {
      "cell_type": "code",
      "metadata": {
        "id": "deTlPo8Ge4LA"
      },
      "source": [
        "test_data_loader = create_dataloader(test,tokenizer,MAX_LEN,BATCH_SIZE)"
      ],
      "execution_count": 13,
      "outputs": []
    },
    {
      "cell_type": "code",
      "metadata": {
        "id": "CFgo2DxDdSgz"
      },
      "source": [
        "def get_predictions(model, data_loader):\r\n",
        "  model = model.eval()\r\n",
        "  sentence = []\r\n",
        "  predictions = []\r\n",
        "  prediction_probs = []\r\n",
        "  #real_values = []\r\n",
        "  with torch.no_grad():\r\n",
        "    for d in data_loader:\r\n",
        "      texts = d[\"text\"]\r\n",
        "      input_ids = d[\"input_ids\"].to(device)\r\n",
        "      attention_mask = d[\"attention_mask\"].to(device)\r\n",
        "      #labels = d[\"label\"].to(device)\r\n",
        "      outputs = model(\r\n",
        "        input_ids=input_ids,\r\n",
        "        attention_mask=attention_mask\r\n",
        "      )\r\n",
        "      _, preds = torch.max(outputs, dim=1)\r\n",
        "      probs = nn.functional.softmax(outputs,dim=1)\r\n",
        "      sentence.extend(texts)\r\n",
        "      predictions.extend(preds)\r\n",
        "      prediction_probs.extend(probs)\r\n",
        "      #real_values.extend(labels)\r\n",
        "  predictions = torch.stack(predictions).cpu().detach().numpy().tolist()\r\n",
        "  prediction_probs = torch.stack(prediction_probs).cpu().detach().numpy().tolist()\r\n",
        "  #real_values = torch.stack(real_values).cpu().detach().numpy().tolist()\r\n",
        "  return sentence, predictions, prediction_probs #, real_values"
      ],
      "execution_count": 14,
      "outputs": []
    },
    {
      "cell_type": "code",
      "metadata": {
        "id": "iVdxmsY2fBVb"
      },
      "source": [
        "y_review_texts, y_pred, y_pred_probs = get_predictions(\r\n",
        "  model,\r\n",
        "  test_data_loader\r\n",
        ")"
      ],
      "execution_count": 15,
      "outputs": []
    },
    {
      "cell_type": "code",
      "metadata": {
        "id": "_DeWU57UseHN"
      },
      "source": [
        " "
      ],
      "execution_count": 15,
      "outputs": []
    },
    {
      "cell_type": "code",
      "metadata": {
        "id": "86iyXVHTdXUm"
      },
      "source": [
        " class_name = ['CL' ,'CR' ,'DC' ,'DS' ,'LO' , 'NI' , 'SE' ]\r\n",
        "k = pd.DataFrame(y_pred_probs,columns=class_name)\r\n",
        "k['result'] = k.idxmax(axis = 1) \r\n",
        "k['result'] = k['result'].apply({'CL':0,'CR':1,'DC':2,\r\n",
        "'DS':3,'LO':4, 'NI':5, 'SE':6}.get) \r\n",
        "k['abstract'] = y_review_texts"
      ],
      "execution_count": 16,
      "outputs": []
    },
    {
      "cell_type": "code",
      "metadata": {
        "id": "p1Dqn3gPxOoR",
        "outputId": "bf63edb2-2a40-4875-85d3-337c38fe234c",
        "colab": {
          "base_uri": "https://localhost:8080/",
          "height": 419
        }
      },
      "source": [
        "k"
      ],
      "execution_count": 17,
      "outputs": [
        {
          "output_type": "execute_result",
          "data": {
            "text/html": [
              "<div>\n",
              "<style scoped>\n",
              "    .dataframe tbody tr th:only-of-type {\n",
              "        vertical-align: middle;\n",
              "    }\n",
              "\n",
              "    .dataframe tbody tr th {\n",
              "        vertical-align: top;\n",
              "    }\n",
              "\n",
              "    .dataframe thead th {\n",
              "        text-align: right;\n",
              "    }\n",
              "</style>\n",
              "<table border=\"1\" class=\"dataframe\">\n",
              "  <thead>\n",
              "    <tr style=\"text-align: right;\">\n",
              "      <th></th>\n",
              "      <th>CL</th>\n",
              "      <th>CR</th>\n",
              "      <th>DC</th>\n",
              "      <th>DS</th>\n",
              "      <th>LO</th>\n",
              "      <th>NI</th>\n",
              "      <th>SE</th>\n",
              "      <th>result</th>\n",
              "      <th>abstract</th>\n",
              "    </tr>\n",
              "  </thead>\n",
              "  <tbody>\n",
              "    <tr>\n",
              "      <th>0</th>\n",
              "      <td>0.002313</td>\n",
              "      <td>0.002387</td>\n",
              "      <td>0.980938</td>\n",
              "      <td>0.003960</td>\n",
              "      <td>0.001252</td>\n",
              "      <td>0.005076</td>\n",
              "      <td>0.004074</td>\n",
              "      <td>2</td>\n",
              "      <td>This paper analyses the possibilities of per...</td>\n",
              "    </tr>\n",
              "    <tr>\n",
              "      <th>1</th>\n",
              "      <td>0.002194</td>\n",
              "      <td>0.003206</td>\n",
              "      <td>0.978623</td>\n",
              "      <td>0.005403</td>\n",
              "      <td>0.000872</td>\n",
              "      <td>0.007745</td>\n",
              "      <td>0.001957</td>\n",
              "      <td>2</td>\n",
              "      <td>A finite element method is presented to comp...</td>\n",
              "    </tr>\n",
              "    <tr>\n",
              "      <th>2</th>\n",
              "      <td>0.997938</td>\n",
              "      <td>0.000090</td>\n",
              "      <td>0.000247</td>\n",
              "      <td>0.000461</td>\n",
              "      <td>0.000620</td>\n",
              "      <td>0.000309</td>\n",
              "      <td>0.000335</td>\n",
              "      <td>0</td>\n",
              "      <td>This paper includes a reflection on the role...</td>\n",
              "    </tr>\n",
              "    <tr>\n",
              "      <th>3</th>\n",
              "      <td>0.006236</td>\n",
              "      <td>0.298282</td>\n",
              "      <td>0.384594</td>\n",
              "      <td>0.064093</td>\n",
              "      <td>0.015241</td>\n",
              "      <td>0.203037</td>\n",
              "      <td>0.028518</td>\n",
              "      <td>2</td>\n",
              "      <td>In this document, we describe the fractal st...</td>\n",
              "    </tr>\n",
              "    <tr>\n",
              "      <th>4</th>\n",
              "      <td>0.000752</td>\n",
              "      <td>0.000967</td>\n",
              "      <td>0.001257</td>\n",
              "      <td>0.994632</td>\n",
              "      <td>0.001538</td>\n",
              "      <td>0.000534</td>\n",
              "      <td>0.000321</td>\n",
              "      <td>3</td>\n",
              "      <td>We show how to test whether a graph with n v...</td>\n",
              "    </tr>\n",
              "    <tr>\n",
              "      <th>...</th>\n",
              "      <td>...</td>\n",
              "      <td>...</td>\n",
              "      <td>...</td>\n",
              "      <td>...</td>\n",
              "      <td>...</td>\n",
              "      <td>...</td>\n",
              "      <td>...</td>\n",
              "      <td>...</td>\n",
              "      <td>...</td>\n",
              "    </tr>\n",
              "    <tr>\n",
              "      <th>6995</th>\n",
              "      <td>0.002025</td>\n",
              "      <td>0.000951</td>\n",
              "      <td>0.001780</td>\n",
              "      <td>0.002676</td>\n",
              "      <td>0.989488</td>\n",
              "      <td>0.000525</td>\n",
              "      <td>0.002555</td>\n",
              "      <td>4</td>\n",
              "      <td>It is common practice to compare the computa...</td>\n",
              "    </tr>\n",
              "    <tr>\n",
              "      <th>6996</th>\n",
              "      <td>0.002715</td>\n",
              "      <td>0.000618</td>\n",
              "      <td>0.000790</td>\n",
              "      <td>0.001602</td>\n",
              "      <td>0.991278</td>\n",
              "      <td>0.000459</td>\n",
              "      <td>0.002538</td>\n",
              "      <td>4</td>\n",
              "      <td>Defeasible reasoning is a simple but efficie...</td>\n",
              "    </tr>\n",
              "    <tr>\n",
              "      <th>6997</th>\n",
              "      <td>0.001672</td>\n",
              "      <td>0.001141</td>\n",
              "      <td>0.001263</td>\n",
              "      <td>0.002764</td>\n",
              "      <td>0.989630</td>\n",
              "      <td>0.000520</td>\n",
              "      <td>0.003011</td>\n",
              "      <td>4</td>\n",
              "      <td>The almost periodic functions form a natural...</td>\n",
              "    </tr>\n",
              "    <tr>\n",
              "      <th>6998</th>\n",
              "      <td>0.002069</td>\n",
              "      <td>0.000676</td>\n",
              "      <td>0.000909</td>\n",
              "      <td>0.001749</td>\n",
              "      <td>0.991237</td>\n",
              "      <td>0.000449</td>\n",
              "      <td>0.002912</td>\n",
              "      <td>4</td>\n",
              "      <td>A notion of alternating timed automata is pr...</td>\n",
              "    </tr>\n",
              "    <tr>\n",
              "      <th>6999</th>\n",
              "      <td>0.002689</td>\n",
              "      <td>0.000617</td>\n",
              "      <td>0.000803</td>\n",
              "      <td>0.001606</td>\n",
              "      <td>0.991298</td>\n",
              "      <td>0.000460</td>\n",
              "      <td>0.002528</td>\n",
              "      <td>4</td>\n",
              "      <td>We present a hierarchical framework for anal...</td>\n",
              "    </tr>\n",
              "  </tbody>\n",
              "</table>\n",
              "<p>7000 rows × 9 columns</p>\n",
              "</div>"
            ],
            "text/plain": [
              "            CL  ...                                           abstract\n",
              "0     0.002313  ...    This paper analyses the possibilities of per...\n",
              "1     0.002194  ...    A finite element method is presented to comp...\n",
              "2     0.997938  ...    This paper includes a reflection on the role...\n",
              "3     0.006236  ...    In this document, we describe the fractal st...\n",
              "4     0.000752  ...    We show how to test whether a graph with n v...\n",
              "...        ...  ...                                                ...\n",
              "6995  0.002025  ...    It is common practice to compare the computa...\n",
              "6996  0.002715  ...    Defeasible reasoning is a simple but efficie...\n",
              "6997  0.001672  ...    The almost periodic functions form a natural...\n",
              "6998  0.002069  ...    A notion of alternating timed automata is pr...\n",
              "6999  0.002689  ...    We present a hierarchical framework for anal...\n",
              "\n",
              "[7000 rows x 9 columns]"
            ]
          },
          "metadata": {
            "tags": []
          },
          "execution_count": 17
        }
      ]
    },
    {
      "cell_type": "code",
      "metadata": {
        "id": "DXpQn4PztMMX",
        "outputId": "da641b13-176f-45d8-87d5-2fc3f0ea7865",
        "colab": {
          "base_uri": "https://localhost:8080/",
          "height": 405
        }
      },
      "source": [
        "k"
      ],
      "execution_count": 26,
      "outputs": [
        {
          "output_type": "execute_result",
          "data": {
            "text/html": [
              "<div>\n",
              "<style scoped>\n",
              "    .dataframe tbody tr th:only-of-type {\n",
              "        vertical-align: middle;\n",
              "    }\n",
              "\n",
              "    .dataframe tbody tr th {\n",
              "        vertical-align: top;\n",
              "    }\n",
              "\n",
              "    .dataframe thead th {\n",
              "        text-align: right;\n",
              "    }\n",
              "</style>\n",
              "<table border=\"1\" class=\"dataframe\">\n",
              "  <thead>\n",
              "    <tr style=\"text-align: right;\">\n",
              "      <th></th>\n",
              "      <th>CL</th>\n",
              "      <th>CR</th>\n",
              "      <th>DC</th>\n",
              "      <th>DS</th>\n",
              "      <th>LO</th>\n",
              "      <th>NI</th>\n",
              "      <th>SE</th>\n",
              "      <th>result</th>\n",
              "      <th>abstract</th>\n",
              "    </tr>\n",
              "  </thead>\n",
              "  <tbody>\n",
              "    <tr>\n",
              "      <th>0</th>\n",
              "      <td>0.002313</td>\n",
              "      <td>0.002387</td>\n",
              "      <td>0.980938</td>\n",
              "      <td>0.003960</td>\n",
              "      <td>0.001252</td>\n",
              "      <td>0.005076</td>\n",
              "      <td>0.004074</td>\n",
              "      <td>2</td>\n",
              "      <td>This paper analyses the possibilities of per...</td>\n",
              "    </tr>\n",
              "    <tr>\n",
              "      <th>1</th>\n",
              "      <td>0.002194</td>\n",
              "      <td>0.003206</td>\n",
              "      <td>0.978623</td>\n",
              "      <td>0.005403</td>\n",
              "      <td>0.000872</td>\n",
              "      <td>0.007745</td>\n",
              "      <td>0.001957</td>\n",
              "      <td>2</td>\n",
              "      <td>A finite element method is presented to comp...</td>\n",
              "    </tr>\n",
              "    <tr>\n",
              "      <th>2</th>\n",
              "      <td>0.997938</td>\n",
              "      <td>0.000090</td>\n",
              "      <td>0.000247</td>\n",
              "      <td>0.000461</td>\n",
              "      <td>0.000620</td>\n",
              "      <td>0.000309</td>\n",
              "      <td>0.000335</td>\n",
              "      <td>0</td>\n",
              "      <td>This paper includes a reflection on the role...</td>\n",
              "    </tr>\n",
              "    <tr>\n",
              "      <th>3</th>\n",
              "      <td>0.006236</td>\n",
              "      <td>0.298282</td>\n",
              "      <td>0.384594</td>\n",
              "      <td>0.064093</td>\n",
              "      <td>0.015241</td>\n",
              "      <td>0.203037</td>\n",
              "      <td>0.028518</td>\n",
              "      <td>2</td>\n",
              "      <td>In this document, we describe the fractal st...</td>\n",
              "    </tr>\n",
              "    <tr>\n",
              "      <th>4</th>\n",
              "      <td>0.000752</td>\n",
              "      <td>0.000967</td>\n",
              "      <td>0.001257</td>\n",
              "      <td>0.994632</td>\n",
              "      <td>0.001538</td>\n",
              "      <td>0.000534</td>\n",
              "      <td>0.000321</td>\n",
              "      <td>3</td>\n",
              "      <td>We show how to test whether a graph with n v...</td>\n",
              "    </tr>\n",
              "    <tr>\n",
              "      <th>...</th>\n",
              "      <td>...</td>\n",
              "      <td>...</td>\n",
              "      <td>...</td>\n",
              "      <td>...</td>\n",
              "      <td>...</td>\n",
              "      <td>...</td>\n",
              "      <td>...</td>\n",
              "      <td>...</td>\n",
              "      <td>...</td>\n",
              "    </tr>\n",
              "    <tr>\n",
              "      <th>6995</th>\n",
              "      <td>0.002025</td>\n",
              "      <td>0.000951</td>\n",
              "      <td>0.001780</td>\n",
              "      <td>0.002676</td>\n",
              "      <td>0.989488</td>\n",
              "      <td>0.000525</td>\n",
              "      <td>0.002555</td>\n",
              "      <td>4</td>\n",
              "      <td>It is common practice to compare the computa...</td>\n",
              "    </tr>\n",
              "    <tr>\n",
              "      <th>6996</th>\n",
              "      <td>0.002715</td>\n",
              "      <td>0.000618</td>\n",
              "      <td>0.000790</td>\n",
              "      <td>0.001602</td>\n",
              "      <td>0.991278</td>\n",
              "      <td>0.000459</td>\n",
              "      <td>0.002538</td>\n",
              "      <td>4</td>\n",
              "      <td>Defeasible reasoning is a simple but efficie...</td>\n",
              "    </tr>\n",
              "    <tr>\n",
              "      <th>6997</th>\n",
              "      <td>0.001672</td>\n",
              "      <td>0.001141</td>\n",
              "      <td>0.001263</td>\n",
              "      <td>0.002764</td>\n",
              "      <td>0.989630</td>\n",
              "      <td>0.000520</td>\n",
              "      <td>0.003011</td>\n",
              "      <td>4</td>\n",
              "      <td>The almost periodic functions form a natural...</td>\n",
              "    </tr>\n",
              "    <tr>\n",
              "      <th>6998</th>\n",
              "      <td>0.002069</td>\n",
              "      <td>0.000676</td>\n",
              "      <td>0.000909</td>\n",
              "      <td>0.001749</td>\n",
              "      <td>0.991237</td>\n",
              "      <td>0.000449</td>\n",
              "      <td>0.002912</td>\n",
              "      <td>4</td>\n",
              "      <td>A notion of alternating timed automata is pr...</td>\n",
              "    </tr>\n",
              "    <tr>\n",
              "      <th>6999</th>\n",
              "      <td>0.002689</td>\n",
              "      <td>0.000617</td>\n",
              "      <td>0.000803</td>\n",
              "      <td>0.001606</td>\n",
              "      <td>0.991298</td>\n",
              "      <td>0.000460</td>\n",
              "      <td>0.002528</td>\n",
              "      <td>4</td>\n",
              "      <td>We present a hierarchical framework for anal...</td>\n",
              "    </tr>\n",
              "  </tbody>\n",
              "</table>\n",
              "<p>7000 rows × 9 columns</p>\n",
              "</div>"
            ],
            "text/plain": [
              "            CL  ...                                           abstract\n",
              "0     0.002313  ...    This paper analyses the possibilities of per...\n",
              "1     0.002194  ...    A finite element method is presented to comp...\n",
              "2     0.997938  ...    This paper includes a reflection on the role...\n",
              "3     0.006236  ...    In this document, we describe the fractal st...\n",
              "4     0.000752  ...    We show how to test whether a graph with n v...\n",
              "...        ...  ...                                                ...\n",
              "6995  0.002025  ...    It is common practice to compare the computa...\n",
              "6996  0.002715  ...    Defeasible reasoning is a simple but efficie...\n",
              "6997  0.001672  ...    The almost periodic functions form a natural...\n",
              "6998  0.002069  ...    A notion of alternating timed automata is pr...\n",
              "6999  0.002689  ...    We present a hierarchical framework for anal...\n",
              "\n",
              "[7000 rows x 9 columns]"
            ]
          },
          "metadata": {
            "tags": []
          },
          "execution_count": 26
        }
      ]
    },
    {
      "cell_type": "code",
      "metadata": {
        "id": "btkCaq3ks5H0",
        "outputId": "37336160-671f-4ee5-b909-4c455a692f72",
        "colab": {
          "base_uri": "https://localhost:8080/"
        }
      },
      "source": [
        "k.result.value_counts()"
      ],
      "execution_count": 18,
      "outputs": [
        {
          "output_type": "execute_result",
          "data": {
            "text/plain": [
              "5    1203\n",
              "0    1192\n",
              "1    1130\n",
              "3    1087\n",
              "6     860\n",
              "2     794\n",
              "4     734\n",
              "Name: result, dtype: int64"
            ]
          },
          "metadata": {
            "tags": []
          },
          "execution_count": 18
        }
      ]
    },
    {
      "cell_type": "code",
      "metadata": {
        "id": "_3fR2tovdsVZ",
        "outputId": "5814a2eb-77d9-4a25-ac62-852ca6560323",
        "colab": {
          "base_uri": "https://localhost:8080/"
        }
      },
      "source": [
        "from sklearn.metrics import classification_report,confusion_matrix\r\n",
        "print(classification_report(y_pred,k['result'],target_names=class_name,zero_division=0))"
      ],
      "execution_count": 19,
      "outputs": [
        {
          "output_type": "stream",
          "text": [
            "              precision    recall  f1-score   support\n",
            "\n",
            "          CL       1.00      1.00      1.00      1192\n",
            "          CR       1.00      1.00      1.00      1130\n",
            "          DC       1.00      1.00      1.00       794\n",
            "          DS       1.00      1.00      1.00      1087\n",
            "          LO       1.00      1.00      1.00       734\n",
            "          NI       1.00      1.00      1.00      1203\n",
            "          SE       1.00      1.00      1.00       860\n",
            "\n",
            "    accuracy                           1.00      7000\n",
            "   macro avg       1.00      1.00      1.00      7000\n",
            "weighted avg       1.00      1.00      1.00      7000\n",
            "\n"
          ],
          "name": "stdout"
        }
      ]
    },
    {
      "cell_type": "code",
      "metadata": {
        "id": "ZvmJVfFbutTE",
        "outputId": "67f38e08-63a4-437f-b6b2-6b94b1065911",
        "colab": {
          "base_uri": "https://localhost:8080/"
        }
      },
      "source": [
        "confusion_matrix(y_pred,k['result'])"
      ],
      "execution_count": 20,
      "outputs": [
        {
          "output_type": "execute_result",
          "data": {
            "text/plain": [
              "array([[1192,    0,    0,    0,    0,    0,    0],\n",
              "       [   0, 1130,    0,    0,    0,    0,    0],\n",
              "       [   0,    0,  794,    0,    0,    0,    0],\n",
              "       [   0,    0,    0, 1087,    0,    0,    0],\n",
              "       [   0,    0,    0,    0,  734,    0,    0],\n",
              "       [   0,    0,    0,    0,    0, 1203,    0],\n",
              "       [   0,    0,    0,    0,    0,    0,  860]])"
            ]
          },
          "metadata": {
            "tags": []
          },
          "execution_count": 20
        }
      ]
    },
    {
      "cell_type": "code",
      "metadata": {
        "id": "wn1i_955eCaD",
        "outputId": "5aa35189-d3af-4412-df66-d5e613e568db",
        "colab": {
          "base_uri": "https://localhost:8080/"
        }
      },
      "source": [
        "cd /content/drive/MyDrive/spdra2021/pred_probs/"
      ],
      "execution_count": 21,
      "outputs": [
        {
          "output_type": "stream",
          "text": [
            "/content/drive/MyDrive/spdra2021/pred_probs\n"
          ],
          "name": "stdout"
        }
      ]
    },
    {
      "cell_type": "code",
      "metadata": {
        "id": "IDF8cimzd_Po"
      },
      "source": [
        "k.to_csv('roberta.csv')"
      ],
      "execution_count": 22,
      "outputs": []
    },
    {
      "cell_type": "code",
      "metadata": {
        "id": "x9cqSPWeuXZW"
      },
      "source": [
        "k['result'] = k['result'].apply({0:'CL', 1:'CR', 2:'DC',\r\n",
        "3:'DS', 4:'LO', 5:'NI', 6:'SE' }.get)"
      ],
      "execution_count": 28,
      "outputs": []
    },
    {
      "cell_type": "code",
      "metadata": {
        "id": "PM98nwfdvouf",
        "outputId": "abfcaed4-5a4a-4f77-fb57-e9b16129c295",
        "colab": {
          "base_uri": "https://localhost:8080/"
        }
      },
      "source": [
        "result = k['result'].to_numpy()\r\n",
        "print(len(result))\r\n",
        "np.savetxt(\"scibert.txt\", result, fmt = \"%s\")"
      ],
      "execution_count": 29,
      "outputs": [
        {
          "output_type": "stream",
          "text": [
            "7000\n"
          ],
          "name": "stdout"
        }
      ]
    },
    {
      "cell_type": "code",
      "metadata": {
        "id": "E8qK0GVcwAkO",
        "outputId": "2216a526-92e3-4b30-a71b-44903ead5db4",
        "colab": {
          "base_uri": "https://localhost:8080/",
          "height": 17
        }
      },
      "source": [
        "from google.colab import files\r\n",
        "files.download('scibert.txt')"
      ],
      "execution_count": 30,
      "outputs": [
        {
          "output_type": "display_data",
          "data": {
            "application/javascript": [
              "\n",
              "    async function download(id, filename, size) {\n",
              "      if (!google.colab.kernel.accessAllowed) {\n",
              "        return;\n",
              "      }\n",
              "      const div = document.createElement('div');\n",
              "      const label = document.createElement('label');\n",
              "      label.textContent = `Downloading \"${filename}\": `;\n",
              "      div.appendChild(label);\n",
              "      const progress = document.createElement('progress');\n",
              "      progress.max = size;\n",
              "      div.appendChild(progress);\n",
              "      document.body.appendChild(div);\n",
              "\n",
              "      const buffers = [];\n",
              "      let downloaded = 0;\n",
              "\n",
              "      const channel = await google.colab.kernel.comms.open(id);\n",
              "      // Send a message to notify the kernel that we're ready.\n",
              "      channel.send({})\n",
              "\n",
              "      for await (const message of channel.messages) {\n",
              "        // Send a message to notify the kernel that we're ready.\n",
              "        channel.send({})\n",
              "        if (message.buffers) {\n",
              "          for (const buffer of message.buffers) {\n",
              "            buffers.push(buffer);\n",
              "            downloaded += buffer.byteLength;\n",
              "            progress.value = downloaded;\n",
              "          }\n",
              "        }\n",
              "      }\n",
              "      const blob = new Blob(buffers, {type: 'application/binary'});\n",
              "      const a = document.createElement('a');\n",
              "      a.href = window.URL.createObjectURL(blob);\n",
              "      a.download = filename;\n",
              "      div.appendChild(a);\n",
              "      a.click();\n",
              "      div.remove();\n",
              "    }\n",
              "  "
            ],
            "text/plain": [
              "<IPython.core.display.Javascript object>"
            ]
          },
          "metadata": {
            "tags": []
          }
        },
        {
          "output_type": "display_data",
          "data": {
            "application/javascript": [
              "download(\"download_ee9418f3-cb77-4323-80e1-c84dbbdf5600\", \"scibert.txt\", 21000)"
            ],
            "text/plain": [
              "<IPython.core.display.Javascript object>"
            ]
          },
          "metadata": {
            "tags": []
          }
        }
      ]
    },
    {
      "cell_type": "code",
      "metadata": {
        "id": "S0iumKPmwwcL"
      },
      "source": [
        ""
      ],
      "execution_count": null,
      "outputs": []
    }
  ]
}