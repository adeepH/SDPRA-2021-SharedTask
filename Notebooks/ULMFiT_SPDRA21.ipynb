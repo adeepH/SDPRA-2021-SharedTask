{
  "nbformat": 4,
  "nbformat_minor": 0,
  "metadata": {
    "colab": {
      "name": "ULMFiT_SPDRA21.ipynb",
      "provenance": [],
      "collapsed_sections": [],
      "include_colab_link": true
    },
    "kernelspec": {
      "name": "python3",
      "display_name": "Python 3"
    },
    "accelerator": "GPU"
  },
  "cells": [
    {
      "cell_type": "markdown",
      "metadata": {
        "id": "view-in-github",
        "colab_type": "text"
      },
      "source": [
        "<a href=\"https://colab.research.google.com/github/adeepH/SPDRA-2021-SharedTask/blob/main/ULMFiT_SPDRA21.ipynb\" target=\"_parent\"><img src=\"https://colab.research.google.com/assets/colab-badge.svg\" alt=\"Open In Colab\"/></a>"
      ]
    },
    {
      "cell_type": "code",
      "metadata": {
        "id": "IXBEMzPrzAm4",
        "cellView": "both"
      },
      "source": [
        "import pandas as pd\n",
        "import numpy as np"
      ],
      "execution_count": 1,
      "outputs": []
    },
    {
      "cell_type": "code",
      "metadata": {
        "id": "_N9Gzrvcyh03",
        "colab": {
          "base_uri": "https://localhost:8080/",
          "height": 433
        },
        "outputId": "01cb0257-444d-4026-b633-5365df446684"
      },
      "source": [
        "import pandas as pd\n",
        "import numpy as np\n",
        "#from sklearn.preprocessing import LabelEncoder\n",
        "train=pd.read_csv('/content/train.csv', header=None, engine='python', error_bad_lines=False)\n",
        "train"
      ],
      "execution_count": 2,
      "outputs": [
        {
          "output_type": "stream",
          "text": [
            "Skipping line 10977: unexpected end of data\n"
          ],
          "name": "stderr"
        },
        {
          "output_type": "execute_result",
          "data": {
            "text/html": [
              "<div>\n",
              "<style scoped>\n",
              "    .dataframe tbody tr th:only-of-type {\n",
              "        vertical-align: middle;\n",
              "    }\n",
              "\n",
              "    .dataframe tbody tr th {\n",
              "        vertical-align: top;\n",
              "    }\n",
              "\n",
              "    .dataframe thead th {\n",
              "        text-align: right;\n",
              "    }\n",
              "</style>\n",
              "<table border=\"1\" class=\"dataframe\">\n",
              "  <thead>\n",
              "    <tr style=\"text-align: right;\">\n",
              "      <th></th>\n",
              "      <th>0</th>\n",
              "      <th>1</th>\n",
              "    </tr>\n",
              "  </thead>\n",
              "  <tbody>\n",
              "    <tr>\n",
              "      <th>0</th>\n",
              "      <td>We extend to natural deduction the approach ...</td>\n",
              "      <td>LO</td>\n",
              "    </tr>\n",
              "    <tr>\n",
              "      <th>1</th>\n",
              "      <td>Over the last decade, the IEEE 802.11 has em...</td>\n",
              "      <td>NI</td>\n",
              "    </tr>\n",
              "    <tr>\n",
              "      <th>2</th>\n",
              "      <td>Motivated by the problem of storing coloured...</td>\n",
              "      <td>DS</td>\n",
              "    </tr>\n",
              "    <tr>\n",
              "      <th>3</th>\n",
              "      <td>We consider the downlink of a cellular syste...</td>\n",
              "      <td>NI</td>\n",
              "    </tr>\n",
              "    <tr>\n",
              "      <th>4</th>\n",
              "      <td>Meroitic is the still undeciphered language ...</td>\n",
              "      <td>CL</td>\n",
              "    </tr>\n",
              "    <tr>\n",
              "      <th>...</th>\n",
              "      <td>...</td>\n",
              "      <td>...</td>\n",
              "    </tr>\n",
              "    <tr>\n",
              "      <th>10971</th>\n",
              "      <td>The field of remote sensing is nowadays face...</td>\n",
              "      <td>DC</td>\n",
              "    </tr>\n",
              "    <tr>\n",
              "      <th>10972</th>\n",
              "      <td>Recently, word representation has been incre...</td>\n",
              "      <td>CL</td>\n",
              "    </tr>\n",
              "    <tr>\n",
              "      <th>10973</th>\n",
              "      <td>An approximate sparse recovery system in ell...</td>\n",
              "      <td>DS</td>\n",
              "    </tr>\n",
              "    <tr>\n",
              "      <th>10974</th>\n",
              "      <td>The design of self-sustainable base station ...</td>\n",
              "      <td>NI</td>\n",
              "    </tr>\n",
              "    <tr>\n",
              "      <th>10975</th>\n",
              "      <td>This article deals with the interrelation of...</td>\n",
              "      <td>LO</td>\n",
              "    </tr>\n",
              "  </tbody>\n",
              "</table>\n",
              "<p>10976 rows × 2 columns</p>\n",
              "</div>"
            ],
            "text/plain": [
              "                                                       0   1\n",
              "0        We extend to natural deduction the approach ...  LO\n",
              "1        Over the last decade, the IEEE 802.11 has em...  NI\n",
              "2        Motivated by the problem of storing coloured...  DS\n",
              "3        We consider the downlink of a cellular syste...  NI\n",
              "4        Meroitic is the still undeciphered language ...  CL\n",
              "...                                                  ...  ..\n",
              "10971    The field of remote sensing is nowadays face...  DC\n",
              "10972    Recently, word representation has been incre...  CL\n",
              "10973    An approximate sparse recovery system in ell...  DS\n",
              "10974    The design of self-sustainable base station ...  NI\n",
              "10975    This article deals with the interrelation of...  LO\n",
              "\n",
              "[10976 rows x 2 columns]"
            ]
          },
          "metadata": {
            "tags": []
          },
          "execution_count": 2
        }
      ]
    },
    {
      "cell_type": "code",
      "metadata": {
        "colab": {
          "base_uri": "https://localhost:8080/",
          "height": 415
        },
        "id": "ajxDPmzV8sRF",
        "outputId": "76fbd968-cbe3-419f-9ada-336326da91f9"
      },
      "source": [
        "val=pd.read_csv('/content/validation.csv', header=None)\r\n",
        "val"
      ],
      "execution_count": 3,
      "outputs": [
        {
          "output_type": "execute_result",
          "data": {
            "text/html": [
              "<div>\n",
              "<style scoped>\n",
              "    .dataframe tbody tr th:only-of-type {\n",
              "        vertical-align: middle;\n",
              "    }\n",
              "\n",
              "    .dataframe tbody tr th {\n",
              "        vertical-align: top;\n",
              "    }\n",
              "\n",
              "    .dataframe thead th {\n",
              "        text-align: right;\n",
              "    }\n",
              "</style>\n",
              "<table border=\"1\" class=\"dataframe\">\n",
              "  <thead>\n",
              "    <tr style=\"text-align: right;\">\n",
              "      <th></th>\n",
              "      <th>0</th>\n",
              "      <th>1</th>\n",
              "    </tr>\n",
              "  </thead>\n",
              "  <tbody>\n",
              "    <tr>\n",
              "      <th>0</th>\n",
              "      <td>Manne et al. designed the first algorithm co...</td>\n",
              "      <td>DC</td>\n",
              "    </tr>\n",
              "    <tr>\n",
              "      <th>1</th>\n",
              "      <td>We consider the challenge of creating guidel...</td>\n",
              "      <td>SE</td>\n",
              "    </tr>\n",
              "    <tr>\n",
              "      <th>2</th>\n",
              "      <td>Network virtualization techniques allow for ...</td>\n",
              "      <td>NI</td>\n",
              "    </tr>\n",
              "    <tr>\n",
              "      <th>3</th>\n",
              "      <td>In the Min $k$-Cut problem, input is an edge...</td>\n",
              "      <td>DS</td>\n",
              "    </tr>\n",
              "    <tr>\n",
              "      <th>4</th>\n",
              "      <td>We introduce the notion of being Weihrauch-c...</td>\n",
              "      <td>LO</td>\n",
              "    </tr>\n",
              "    <tr>\n",
              "      <th>...</th>\n",
              "      <td>...</td>\n",
              "      <td>...</td>\n",
              "    </tr>\n",
              "    <tr>\n",
              "      <th>11195</th>\n",
              "      <td>The braid group is an important non commutat...</td>\n",
              "      <td>CR</td>\n",
              "    </tr>\n",
              "    <tr>\n",
              "      <th>11196</th>\n",
              "      <td>Wireless access points on unmanned aerial ve...</td>\n",
              "      <td>NI</td>\n",
              "    </tr>\n",
              "    <tr>\n",
              "      <th>11197</th>\n",
              "      <td>Nowadays, publish subscribe and event based ...</td>\n",
              "      <td>SE</td>\n",
              "    </tr>\n",
              "    <tr>\n",
              "      <th>11198</th>\n",
              "      <td>Prepositions are very common and very ambigu...</td>\n",
              "      <td>CL</td>\n",
              "    </tr>\n",
              "    <tr>\n",
              "      <th>11199</th>\n",
              "      <td>Recent trends in the software engineering (i...</td>\n",
              "      <td>SE</td>\n",
              "    </tr>\n",
              "  </tbody>\n",
              "</table>\n",
              "<p>11200 rows × 2 columns</p>\n",
              "</div>"
            ],
            "text/plain": [
              "                                                       0   1\n",
              "0        Manne et al. designed the first algorithm co...  DC\n",
              "1        We consider the challenge of creating guidel...  SE\n",
              "2        Network virtualization techniques allow for ...  NI\n",
              "3        In the Min $k$-Cut problem, input is an edge...  DS\n",
              "4        We introduce the notion of being Weihrauch-c...  LO\n",
              "...                                                  ...  ..\n",
              "11195    The braid group is an important non commutat...  CR\n",
              "11196    Wireless access points on unmanned aerial ve...  NI\n",
              "11197    Nowadays, publish subscribe and event based ...  SE\n",
              "11198    Prepositions are very common and very ambigu...  CL\n",
              "11199    Recent trends in the software engineering (i...  SE\n",
              "\n",
              "[11200 rows x 2 columns]"
            ]
          },
          "metadata": {
            "tags": []
          },
          "execution_count": 3
        }
      ]
    },
    {
      "cell_type": "code",
      "metadata": {
        "id": "mH8DiwIW-Fmv"
      },
      "source": [
        "df=train.filter([1,0], axis=1)\r\n",
        "df_test=val.filter([1,0],axis=1)"
      ],
      "execution_count": 4,
      "outputs": []
    },
    {
      "cell_type": "code",
      "metadata": {
        "id": "BQPhcOrQ6qM9"
      },
      "source": [
        "#removing @ and #\n",
        "def punc(df):\n",
        "    df[0] = df[0].str.replace('[#@()$]','')\n",
        "    print(df)"
      ],
      "execution_count": 6,
      "outputs": []
    },
    {
      "cell_type": "code",
      "metadata": {
        "id": "lHIRsFZY68xY",
        "colab": {
          "base_uri": "https://localhost:8080/"
        },
        "outputId": "71120313-4cc3-42e5-eef8-79ec72d409d7"
      },
      "source": [
        "punc(df)\n",
        "punc(df_test)"
      ],
      "execution_count": 7,
      "outputs": [
        {
          "output_type": "stream",
          "text": [
            "        1                                                  0\n",
            "0      LO    We extend to natural deduction the approach ...\n",
            "1      NI    Over the last decade, the IEEE 802.11 has em...\n",
            "2      DS    Motivated by the problem of storing coloured...\n",
            "3      NI    We consider the downlink of a cellular syste...\n",
            "4      CL    Meroitic is the still undeciphered language ...\n",
            "...    ..                                                ...\n",
            "10971  DC    The field of remote sensing is nowadays face...\n",
            "10972  CL    Recently, word representation has been incre...\n",
            "10973  DS    An approximate sparse recovery system in ell...\n",
            "10974  NI    The design of self-sustainable base station ...\n",
            "10975  LO    This article deals with the interrelation of...\n",
            "\n",
            "[10976 rows x 2 columns]\n",
            "        1                                                  0\n",
            "0      DC    Manne et al. designed the first algorithm co...\n",
            "1      SE    We consider the challenge of creating guidel...\n",
            "2      NI    Network virtualization techniques allow for ...\n",
            "3      DS    In the Min k-Cut problem, input is an edge w...\n",
            "4      LO    We introduce the notion of being Weihrauch-c...\n",
            "...    ..                                                ...\n",
            "11195  CR    The braid group is an important non commutat...\n",
            "11196  NI    Wireless access points on unmanned aerial ve...\n",
            "11197  SE    Nowadays, publish subscribe and event based ...\n",
            "11198  CL    Prepositions are very common and very ambigu...\n",
            "11199  SE    Recent trends in the software engineering i....\n",
            "\n",
            "[11200 rows x 2 columns]\n"
          ],
          "name": "stdout"
        }
      ]
    },
    {
      "cell_type": "code",
      "metadata": {
        "id": "QxsfvEPOynmT"
      },
      "source": [
        "import fastai\n",
        "from fastai import *\n",
        "from fastai.text import * \n",
        "from functools import partial\n",
        "import io\n",
        "import os"
      ],
      "execution_count": 8,
      "outputs": []
    },
    {
      "cell_type": "code",
      "metadata": {
        "id": "lmcnhgozzYd3",
        "colab": {
          "base_uri": "https://localhost:8080/",
          "height": 72
        },
        "outputId": "e0e91613-c9c1-4cd3-f242-997c6d7a9e26"
      },
      "source": [
        "# Language model data\n",
        "data_lm = TextLMDataBunch.from_df(train_df = df, valid_df = df_test, path = \"\")"
      ],
      "execution_count": 9,
      "outputs": [
        {
          "output_type": "display_data",
          "data": {
            "text/html": [
              ""
            ],
            "text/plain": [
              "<IPython.core.display.HTML object>"
            ]
          },
          "metadata": {
            "tags": []
          }
        },
        {
          "output_type": "stream",
          "text": [
            "/usr/local/lib/python3.6/dist-packages/fastai/core.py:302: VisibleDeprecationWarning: Creating an ndarray from ragged nested sequences (which is a list-or-tuple of lists-or-tuples-or ndarrays with different lengths or shapes) is deprecated. If you meant to do this, you must specify 'dtype=object' when creating the ndarray\n",
            "  return np.array(a, dtype=dtype, **kwargs)\n"
          ],
          "name": "stderr"
        },
        {
          "output_type": "display_data",
          "data": {
            "text/html": [
              ""
            ],
            "text/plain": [
              "<IPython.core.display.HTML object>"
            ]
          },
          "metadata": {
            "tags": []
          }
        }
      ]
    },
    {
      "cell_type": "code",
      "metadata": {
        "id": "WNl3KVC90AxX",
        "colab": {
          "base_uri": "https://localhost:8080/"
        },
        "outputId": "784aa7d7-17db-4bce-a86c-98d2142833db"
      },
      "source": [
        "data_lm.show_batch"
      ],
      "execution_count": 10,
      "outputs": [
        {
          "output_type": "execute_result",
          "data": {
            "text/plain": [
              "<bound method DataBunch.show_batch of TextLMDataBunch;\n",
              "\n",
              "Train: LabelList (10976 items)\n",
              "x: LMTextList\n",
              "xxbos xxmaj we extend to natural deduction the approach of xxmaj linear xxmaj nested xxmaj sequents and \n",
              "  xxunk . xxmaj formulas are xxunk with a spatial coordinate , which allows a \n",
              "  formulation of formal systems in the original spirit of natural \n",
              "  deduction --- only one introduction and one elimination rule per connective , no \n",
              "  additional structural rule , no explicit reference to the accessibility \n",
              "  relation of the intended xxmaj kripke models . xxmaj we give systems for the normal modal \n",
              "  logics from k to xxup s4 . xxmaj for the intuitionistic versions of the systems , we define \n",
              "  proof reduction , and prove proof normalisation , thus obtaining a syntactical \n",
              "  proof of consistency . xxmaj for logics k and xxup k4 we use existence predicates \n",
              "  following xxmaj scott for formulating sound deduction rules . \n",
              " ,xxbos xxmaj over the last decade , the xxup ieee 802.11 has emerged as the most popular \n",
              "  protocol in the wireless domain . xxmaj since the release of the first standard \n",
              "  version , several amendments have been introduced in an effort to improve its \n",
              "  throughput performance , with the most recent one being the xxup ieee 802.11n \n",
              "  extension . xxmaj in this work , we present detailed experimentally obtained \n",
              "  measurements that evaluate the energy efficiency of the base standard in \n",
              "  comparison with the latest 802.11n version . xxmaj moreover , we investigate the impact \n",
              "  of various xxup mac layer enhancements , both vendor specific and standard compliant \n",
              "  ones , on the energy consumption of wireless transceivers and total nodes as \n",
              "  well . xxmaj results obtained under a wide range of settings , indicate that the latest \n",
              "  standard enables reduction of energy expenditure , by more than 75 % , when \n",
              "  combined with innovative frame aggregation mechanisms . \n",
              " ,xxbos xxmaj motivated by the problem of storing coloured de xxmaj bruijn graphs , we show how , \n",
              "  if we can already support fast select queries on one string , then we can store \n",
              "  a little extra information and support fairly fast select queries on a similar \n",
              "  string . \n",
              " ,xxbos xxmaj we consider the downlink of a cellular system and address the problem of \n",
              "  multiuser scheduling with partial channel information . xxmaj in our setting , the \n",
              "  channel of each user is modeled by a three - state xxmaj markov chain . xxmaj the scheduler \n",
              "  indirectly estimates the channel via accumulated xxmaj automatic xxmaj repeat xxmaj request xxup arq \n",
              "  feedback from the scheduled users and uses this information in future \n",
              "  scheduling decisions . xxmaj using a xxmaj partially xxmaj observable xxmaj markov xxmaj decision xxmaj process \n",
              "  xxup pomdp , we formulate a throughput maximization problem that is an extension of \n",
              "  our previous work where the channels were modeled using two states . xxmaj we recall \n",
              "  the greedy policy that was shown to be optimal and easy to implement in the two \n",
              "  state case and study the implementation structure of the greedy policy in the \n",
              "  considered downlink . xxmaj we classify the system into two types based on the channel \n",
              "  statistics and obtain round robin structures for the greedy policy for each \n",
              "  system type . xxmaj we obtain performance bounds for the downlink system using these \n",
              "  structures and study the conditions under which the greedy policy is optimal . \n",
              " ,xxbos xxmaj xxunk is the still undeciphered language of the ancient xxunk of \n",
              "  xxmaj xxunk . xxmaj over the years , various techniques for decipherment such as finding a \n",
              "  bilingual text or cognates from modern or other ancient languages in the xxmaj sudan \n",
              "  and surrounding areas has not been successful . xxmaj using techniques borrowed from \n",
              "  information theory and natural language statistics , similar words are paired \n",
              "  and attempts are made to use currently defined words to extract at least \n",
              "  partial meaning from unknown words . \n",
              " \n",
              "y: LMLabelList\n",
              ",,,,\n",
              "Path: .;\n",
              "\n",
              "Valid: LabelList (11200 items)\n",
              "x: LMTextList\n",
              "xxbos xxmaj manne et al . designed the first algorithm computing a maximal matching that \n",
              "  is a 2 / 3 -approximation of the maximum matching in xxmaj xxunk moves . xxmaj however , the \n",
              "  complexity tightness was not proved . xxmaj in this paper , we exhibit a \n",
              "  sub - exponential execution of this matching algorithm . \n",
              " ,xxbos xxmaj we consider the challenge of creating guidelines to evaluate the quality of a \n",
              "  spreadsheet model . xxmaj we suggest four principles . xxmaj first , state the domain - the \n",
              "  spreadsheets to which the guidelines apply . xxmaj second , distinguish between the \n",
              "  process by which a spreadsheet is constructed from the resulting spreadsheet \n",
              "  artifact . xxmaj third , guidelines should be written in terms of the artifact , \n",
              "  independent of the process . xxmaj fourth , the meaning of \" quality \" must be defined . \n",
              "  xxmaj we illustrate these principles with an example . xxmaj we define the domain of \n",
              "  \" analytical spreadsheet models \" , which are used in business , finance , \n",
              "  engineering , and science . xxmaj we propose for discussion a framework and terminology \n",
              "  for evaluating the quality of analytical spreadsheet models . xxmaj this framework \n",
              "  xxunk and generalizes the findings of previous work on the more narrow \n",
              "  domain of financial spreadsheet models . xxmaj we suggest that the ultimate goal is a \n",
              "  set of guidelines for an xxunk , and a checklist for a developer . \n",
              " ,xxbos xxmaj network virtualization techniques allow for the coexistence of many virtual \n",
              "  networks vns jointly sharing the resources of an underlying substrate \n",
              "  network . xxmaj the xxmaj virtual xxmaj network xxmaj embedding problem xxup vne arises when looking for \n",
              "  the most profitable set of vns to embed onto the substrate . xxmaj in this paper , we \n",
              "  address the offline version of the problem . xxmaj we propose a xxmaj mixed - xxmaj integer xxmaj linear \n",
              "  xxmaj programming formulation to solve it to optimality which accounts for acceptance \n",
              "  and rejection of virtual network requests , allowing for both splittable and \n",
              "  unsplittable single path routing schemes . xxmaj our formulation also considers a \n",
              "  xxmaj rent - at - xxmaj bulk xxunk model for the rental of substrate capacities where economies \n",
              "  of scale apply . xxmaj to better emphasize the importance of xxunk , we also compare our \n",
              "  method to a baseline one which only takes xxunk into account a posteriori , once a \n",
              "  solution to xxup vne , oblivious to xxunk , has been found . xxmaj computational experiments \n",
              "  show the viability of our approach , xxunk the relevance of addressing xxunk \n",
              "  directly with an exact formulation \n",
              " ,xxbos xxmaj in the xxmaj min k - xxmaj cut problem , input is an edge weighted graph g and an \n",
              "  integer k , and the task is to partition the vertex set into k non - empty \n",
              "  sets , such that the total weight of the edges with endpoints in different parts \n",
              "  is minimized . xxmaj when k is part of the input , the problem is xxup np - complete and \n",
              "  hard to approximate within any factor less than 2 . xxmaj recently , the problem has \n",
              "  received significant attention from the perspective of parameterized \n",
              "  approximation . xxmaj gupta et xxunk 2018 ] initiated the study of \n",
              "  xxup fpt - approximation for the xxmaj min k - xxmaj cut problem and gave an \n",
              "  xxunk algorithm running in time \n",
              "  2^ { \\ xxunk { \\ mathcal{o}1 } . xxmaj later , the same set of xxunk \n",
              "  2018 ] designed an 1 + \\ epsilon - approximation algorithm that runs in time \n",
              "  k / \\ epsilon^ { \\ xxunk \\ mathcal{o}1 } , and a xxunk \n",
              "  algorithm running in time 2^ { \\ xxunk { \\ mathcal{o}1 } . xxmaj more , \n",
              "  recently , xxmaj kawarabayashi and xxunk 2020 ] gave a 5 / 3 + \n",
              "  \\ epsilon - approximation for xxmaj min k - xxmaj cut running in time 2^ { \\ xxunk \n",
              "  \\ log xxunk { \\ mathcal{o}1 } . \n",
              "  xxmaj in this paper we give a parameterized approximation algorithm with best \n",
              "  possible approximation guarantee , and best possible running time dependence on \n",
              "  said guarantee up to xxmaj exponential xxmaj time xxmaj hypothesis xxup eth and constants in the \n",
              "  exponent . xxmaj in particular , for every \\ epsilon > 0 , the algorithm obtains a 1 \n",
              "  + \\ epsilon - approximate solution in time \n",
              "  k / \\ epsilon^ { \\ mathcal{o}k}n^ { \\ mathcal{o}1 } . xxmaj the main ingredients of our \n",
              "  algorithm are : a simple sparsification procedure , a new polynomial time \n",
              "  algorithm for decomposing a graph into highly connected parts , and a new exact \n",
              "  algorithm with running time s^ { \\ mathcal{o}k}n^ { \\ mathcal{o}1 } on \n",
              "  unweighted multi- graphs . xxmaj here , s denotes the number of edges in a minimum \n",
              "  k - cut . xxmaj the later two are of independent interest . \n",
              " ,xxbos xxmaj we introduce the notion of being xxmaj weihrauch - complete for xxunk \n",
              "  computability and provide several natural examples related to complex \n",
              "  xxunk , the law of the iterated logarithm and xxmaj birkhoff 's theorem . xxmaj we also \n",
              "  consider hitting time operators , which share the xxmaj weihrauch degree of the former \n",
              "  examples but fail to be xxunk computable . \n",
              " \n",
              "y: LMLabelList\n",
              ",,,,\n",
              "Path: .;\n",
              "\n",
              "Test: None>"
            ]
          },
          "metadata": {
            "tags": []
          },
          "execution_count": 10
        }
      ]
    },
    {
      "cell_type": "code",
      "metadata": {
        "id": "F8XwA1RAzG4h",
        "colab": {
          "base_uri": "https://localhost:8080/",
          "height": 35
        },
        "outputId": "9203ed3e-3ff1-415d-ce36-c7e2238e1b83"
      },
      "source": [
        "#loading AWD_LSTM language model\n",
        "learn = language_model_learner(data_lm, AWD_LSTM, drop_mult=0.3)"
      ],
      "execution_count": 11,
      "outputs": [
        {
          "output_type": "stream",
          "text": [
            "Downloading https://s3.amazonaws.com/fast-ai-modelzoo/wt103-fwd.tgz\n"
          ],
          "name": "stdout"
        },
        {
          "output_type": "display_data",
          "data": {
            "text/html": [
              ""
            ],
            "text/plain": [
              "<IPython.core.display.HTML object>"
            ]
          },
          "metadata": {
            "tags": []
          }
        }
      ]
    },
    {
      "cell_type": "code",
      "metadata": {
        "id": "YO-4bvpdzJvi",
        "colab": {
          "base_uri": "https://localhost:8080/",
          "height": 409
        },
        "outputId": "08b4c6b2-ed08-42b0-9563-38e83cf359fc"
      },
      "source": [
        "#to find the optimal learning rate\n",
        "learn.lr_find(start_lr=1e-8, end_lr=1e2)\n",
        "learn.recorder.plot(suggestion = True)"
      ],
      "execution_count": 12,
      "outputs": [
        {
          "output_type": "display_data",
          "data": {
            "text/html": [
              "\n",
              "    <div>\n",
              "        <style>\n",
              "            /* Turns off some styling */\n",
              "            progress {\n",
              "                /* gets rid of default border in Firefox and Opera. */\n",
              "                border: none;\n",
              "                /* Needs to be in here for Safari polyfill so background images work as expected. */\n",
              "                background-size: auto;\n",
              "            }\n",
              "            .progress-bar-interrupted, .progress-bar-interrupted::-webkit-progress-bar {\n",
              "                background: #F44336;\n",
              "            }\n",
              "        </style>\n",
              "      <progress value='0' class='' max='1' style='width:300px; height:20px; vertical-align: middle;'></progress>\n",
              "      0.00% [0/1 00:00<00:00]\n",
              "    </div>\n",
              "    \n",
              "<table border=\"1\" class=\"dataframe\">\n",
              "  <thead>\n",
              "    <tr style=\"text-align: left;\">\n",
              "      <th>epoch</th>\n",
              "      <th>train_loss</th>\n",
              "      <th>valid_loss</th>\n",
              "      <th>accuracy</th>\n",
              "      <th>time</th>\n",
              "    </tr>\n",
              "  </thead>\n",
              "  <tbody>\n",
              "  </tbody>\n",
              "</table><p>\n",
              "\n",
              "    <div>\n",
              "        <style>\n",
              "            /* Turns off some styling */\n",
              "            progress {\n",
              "                /* gets rid of default border in Firefox and Opera. */\n",
              "                border: none;\n",
              "                /* Needs to be in here for Safari polyfill so background images work as expected. */\n",
              "                background-size: auto;\n",
              "            }\n",
              "            .progress-bar-interrupted, .progress-bar-interrupted::-webkit-progress-bar {\n",
              "                background: #F44336;\n",
              "            }\n",
              "        </style>\n",
              "      <progress value='94' class='' max='512' style='width:300px; height:20px; vertical-align: middle;'></progress>\n",
              "      18.36% [94/512 00:19<01:25 21.0029]\n",
              "    </div>\n",
              "    "
            ],
            "text/plain": [
              "<IPython.core.display.HTML object>"
            ]
          },
          "metadata": {
            "tags": []
          }
        },
        {
          "output_type": "stream",
          "text": [
            "LR Finder is complete, type {learner_name}.recorder.plot() to see the graph.\n",
            "Min numerical gradient: 2.00E-02\n",
            "Min loss divided by 10: 1.58E-02\n"
          ],
          "name": "stdout"
        },
        {
          "output_type": "display_data",
          "data": {
            "image/png": "[encoded data removed]",
            "text/plain": [
              "<Figure size 432x288 with 1 Axes>"
            ]
          },
          "metadata": {
            "tags": [],
            "needs_background": "light"
          }
        }
      ]
    },
    {
      "cell_type": "code",
      "metadata": {
        "id": "ZupXb3i7IwAF",
        "colab": {
          "base_uri": "https://localhost:8080/",
          "height": 110
        },
        "outputId": "381fd658-f58e-40ef-e776-84cd08b8f0e2"
      },
      "source": [
        "#fitting the data\n",
        "learn.fit_one_cycle(2, 2e-2)\n",
        "learn.unfreeze()"
      ],
      "execution_count": 13,
      "outputs": [
        {
          "output_type": "display_data",
          "data": {
            "text/html": [
              "<table border=\"1\" class=\"dataframe\">\n",
              "  <thead>\n",
              "    <tr style=\"text-align: left;\">\n",
              "      <th>epoch</th>\n",
              "      <th>train_loss</th>\n",
              "      <th>valid_loss</th>\n",
              "      <th>accuracy</th>\n",
              "      <th>time</th>\n",
              "    </tr>\n",
              "  </thead>\n",
              "  <tbody>\n",
              "    <tr>\n",
              "      <td>0</td>\n",
              "      <td>4.288559</td>\n",
              "      <td>4.071681</td>\n",
              "      <td>0.287020</td>\n",
              "      <td>02:50</td>\n",
              "    </tr>\n",
              "    <tr>\n",
              "      <td>1</td>\n",
              "      <td>3.823840</td>\n",
              "      <td>3.857978</td>\n",
              "      <td>0.306478</td>\n",
              "      <td>02:59</td>\n",
              "    </tr>\n",
              "  </tbody>\n",
              "</table>"
            ],
            "text/plain": [
              "<IPython.core.display.HTML object>"
            ]
          },
          "metadata": {
            "tags": []
          }
        }
      ]
    },
    {
      "cell_type": "code",
      "metadata": {
        "id": "GY7j00sb0tQd",
        "colab": {
          "base_uri": "https://localhost:8080/",
          "height": 141
        },
        "outputId": "5f0f0ef2-5927-4a73-8e7d-a09e57b8e645"
      },
      "source": [
        "learn.fit_one_cycle(3, 1e-2, moms=(0.8,0.7))"
      ],
      "execution_count": 14,
      "outputs": [
        {
          "output_type": "display_data",
          "data": {
            "text/html": [
              "<table border=\"1\" class=\"dataframe\">\n",
              "  <thead>\n",
              "    <tr style=\"text-align: left;\">\n",
              "      <th>epoch</th>\n",
              "      <th>train_loss</th>\n",
              "      <th>valid_loss</th>\n",
              "      <th>accuracy</th>\n",
              "      <th>time</th>\n",
              "    </tr>\n",
              "  </thead>\n",
              "  <tbody>\n",
              "    <tr>\n",
              "      <td>0</td>\n",
              "      <td>3.927650</td>\n",
              "      <td>3.883109</td>\n",
              "      <td>0.321049</td>\n",
              "      <td>03:33</td>\n",
              "    </tr>\n",
              "    <tr>\n",
              "      <td>1</td>\n",
              "      <td>3.707121</td>\n",
              "      <td>3.852654</td>\n",
              "      <td>0.306197</td>\n",
              "      <td>03:33</td>\n",
              "    </tr>\n",
              "    <tr>\n",
              "      <td>2</td>\n",
              "      <td>3.191898</td>\n",
              "      <td>3.581856</td>\n",
              "      <td>0.358613</td>\n",
              "      <td>03:33</td>\n",
              "    </tr>\n",
              "  </tbody>\n",
              "</table>"
            ],
            "text/plain": [
              "<IPython.core.display.HTML object>"
            ]
          },
          "metadata": {
            "tags": []
          }
        }
      ]
    },
    {
      "cell_type": "code",
      "metadata": {
        "id": "dwAZeFLFqDfV",
        "colab": {
          "base_uri": "https://localhost:8080/",
          "height": 112
        },
        "outputId": "6702d905-6307-4e6a-9344-53a25f4e78ee"
      },
      "source": [
        "learn.freeze_to(-1)\n",
        "learn.lr_find()"
      ],
      "execution_count": 15,
      "outputs": [
        {
          "output_type": "display_data",
          "data": {
            "text/html": [
              "\n",
              "    <div>\n",
              "        <style>\n",
              "            /* Turns off some styling */\n",
              "            progress {\n",
              "                /* gets rid of default border in Firefox and Opera. */\n",
              "                border: none;\n",
              "                /* Needs to be in here for Safari polyfill so background images work as expected. */\n",
              "                background-size: auto;\n",
              "            }\n",
              "            .progress-bar-interrupted, .progress-bar-interrupted::-webkit-progress-bar {\n",
              "                background: #F44336;\n",
              "            }\n",
              "        </style>\n",
              "      <progress value='0' class='' max='1' style='width:300px; height:20px; vertical-align: middle;'></progress>\n",
              "      0.00% [0/1 00:00<00:00]\n",
              "    </div>\n",
              "    \n",
              "<table border=\"1\" class=\"dataframe\">\n",
              "  <thead>\n",
              "    <tr style=\"text-align: left;\">\n",
              "      <th>epoch</th>\n",
              "      <th>train_loss</th>\n",
              "      <th>valid_loss</th>\n",
              "      <th>accuracy</th>\n",
              "      <th>time</th>\n",
              "    </tr>\n",
              "  </thead>\n",
              "  <tbody>\n",
              "  </tbody>\n",
              "</table><p>\n",
              "\n",
              "    <div>\n",
              "        <style>\n",
              "            /* Turns off some styling */\n",
              "            progress {\n",
              "                /* gets rid of default border in Firefox and Opera. */\n",
              "                border: none;\n",
              "                /* Needs to be in here for Safari polyfill so background images work as expected. */\n",
              "                background-size: auto;\n",
              "            }\n",
              "            .progress-bar-interrupted, .progress-bar-interrupted::-webkit-progress-bar {\n",
              "                background: #F44336;\n",
              "            }\n",
              "        </style>\n",
              "      <progress value='99' class='' max='512' style='width:300px; height:20px; vertical-align: middle;'></progress>\n",
              "      19.34% [99/512 00:24<01:42 9.3387]\n",
              "    </div>\n",
              "    "
            ],
            "text/plain": [
              "<IPython.core.display.HTML object>"
            ]
          },
          "metadata": {
            "tags": []
          }
        },
        {
          "output_type": "stream",
          "text": [
            "LR Finder is complete, type {learner_name}.recorder.plot() to see the graph.\n"
          ],
          "name": "stdout"
        }
      ]
    },
    {
      "cell_type": "code",
      "metadata": {
        "id": "Fx4i2vtSCav1",
        "colab": {
          "base_uri": "https://localhost:8080/",
          "height": 314
        },
        "outputId": "ef3cc786-e8a6-469a-fa4d-a96ed4a01540"
      },
      "source": [
        "learn.recorder.plot(skip_start=40, suggestion=True)"
      ],
      "execution_count": 16,
      "outputs": [
        {
          "output_type": "stream",
          "text": [
            "Min numerical gradient: 1.58E-04\n",
            "Min loss divided by 10: 2.29E-05\n"
          ],
          "name": "stdout"
        },
        {
          "output_type": "display_data",
          "data": {
            "image/png": "[encoded data removed]",
            "text/plain": [
              "<Figure size 432x288 with 1 Axes>"
            ]
          },
          "metadata": {
            "tags": [],
            "needs_background": "light"
          }
        }
      ]
    },
    {
      "cell_type": "code",
      "metadata": {
        "id": "dYvdggJTCvQY",
        "colab": {
          "base_uri": "https://localhost:8080/",
          "height": 141
        },
        "outputId": "467119bf-908f-43b5-d458-c87c246549a2"
      },
      "source": [
        "learn.fit_one_cycle(3, slice(1e-2/(2.6**4), 1e-2))"
      ],
      "execution_count": 17,
      "outputs": [
        {
          "output_type": "display_data",
          "data": {
            "text/html": [
              "<table border=\"1\" class=\"dataframe\">\n",
              "  <thead>\n",
              "    <tr style=\"text-align: left;\">\n",
              "      <th>epoch</th>\n",
              "      <th>train_loss</th>\n",
              "      <th>valid_loss</th>\n",
              "      <th>accuracy</th>\n",
              "      <th>time</th>\n",
              "    </tr>\n",
              "  </thead>\n",
              "  <tbody>\n",
              "    <tr>\n",
              "      <td>0</td>\n",
              "      <td>3.164633</td>\n",
              "      <td>3.638478</td>\n",
              "      <td>0.353492</td>\n",
              "      <td>03:04</td>\n",
              "    </tr>\n",
              "    <tr>\n",
              "      <td>1</td>\n",
              "      <td>3.051156</td>\n",
              "      <td>3.609534</td>\n",
              "      <td>0.355741</td>\n",
              "      <td>03:04</td>\n",
              "    </tr>\n",
              "    <tr>\n",
              "      <td>2</td>\n",
              "      <td>2.861603</td>\n",
              "      <td>3.598598</td>\n",
              "      <td>0.357777</td>\n",
              "      <td>03:04</td>\n",
              "    </tr>\n",
              "  </tbody>\n",
              "</table>"
            ],
            "text/plain": [
              "<IPython.core.display.HTML object>"
            ]
          },
          "metadata": {
            "tags": []
          }
        }
      ]
    },
    {
      "cell_type": "code",
      "metadata": {
        "id": "llwnsNErC45a",
        "colab": {
          "base_uri": "https://localhost:8080/",
          "height": 112
        },
        "outputId": "50a316c0-db0f-4bb3-b893-10d0a0a23df9"
      },
      "source": [
        "learn.freeze_to(-2)\n",
        "learn.lr_find()"
      ],
      "execution_count": 18,
      "outputs": [
        {
          "output_type": "display_data",
          "data": {
            "text/html": [
              "\n",
              "    <div>\n",
              "        <style>\n",
              "            /* Turns off some styling */\n",
              "            progress {\n",
              "                /* gets rid of default border in Firefox and Opera. */\n",
              "                border: none;\n",
              "                /* Needs to be in here for Safari polyfill so background images work as expected. */\n",
              "                background-size: auto;\n",
              "            }\n",
              "            .progress-bar-interrupted, .progress-bar-interrupted::-webkit-progress-bar {\n",
              "                background: #F44336;\n",
              "            }\n",
              "        </style>\n",
              "      <progress value='0' class='' max='1' style='width:300px; height:20px; vertical-align: middle;'></progress>\n",
              "      0.00% [0/1 00:00<00:00]\n",
              "    </div>\n",
              "    \n",
              "<table border=\"1\" class=\"dataframe\">\n",
              "  <thead>\n",
              "    <tr style=\"text-align: left;\">\n",
              "      <th>epoch</th>\n",
              "      <th>train_loss</th>\n",
              "      <th>valid_loss</th>\n",
              "      <th>accuracy</th>\n",
              "      <th>time</th>\n",
              "    </tr>\n",
              "  </thead>\n",
              "  <tbody>\n",
              "  </tbody>\n",
              "</table><p>\n",
              "\n",
              "    <div>\n",
              "        <style>\n",
              "            /* Turns off some styling */\n",
              "            progress {\n",
              "                /* gets rid of default border in Firefox and Opera. */\n",
              "                border: none;\n",
              "                /* Needs to be in here for Safari polyfill so background images work as expected. */\n",
              "                background-size: auto;\n",
              "            }\n",
              "            .progress-bar-interrupted, .progress-bar-interrupted::-webkit-progress-bar {\n",
              "                background: #F44336;\n",
              "            }\n",
              "        </style>\n",
              "      <progress value='99' class='' max='512' style='width:300px; height:20px; vertical-align: middle;'></progress>\n",
              "      19.34% [99/512 00:25<01:45 4.1933]\n",
              "    </div>\n",
              "    "
            ],
            "text/plain": [
              "<IPython.core.display.HTML object>"
            ]
          },
          "metadata": {
            "tags": []
          }
        },
        {
          "output_type": "stream",
          "text": [
            "LR Finder is complete, type {learner_name}.recorder.plot() to see the graph.\n"
          ],
          "name": "stdout"
        }
      ]
    },
    {
      "cell_type": "code",
      "metadata": {
        "id": "aLCr1VQ8DVIm",
        "colab": {
          "base_uri": "https://localhost:8080/",
          "height": 314
        },
        "outputId": "26470770-908e-4739-d90a-c259e7de575f"
      },
      "source": [
        "learn.recorder.plot(skip_start=40, suggestion=True)"
      ],
      "execution_count": 19,
      "outputs": [
        {
          "output_type": "stream",
          "text": [
            "Min numerical gradient: 1.45E-03\n",
            "Min loss divided by 10: 7.59E-04\n"
          ],
          "name": "stdout"
        },
        {
          "output_type": "display_data",
          "data": {
            "image/png": "[encoded data removed]",
            "text/plain": [
              "<Figure size 432x288 with 1 Axes>"
            ]
          },
          "metadata": {
            "tags": [],
            "needs_background": "light"
          }
        }
      ]
    },
    {
      "cell_type": "code",
      "metadata": {
        "id": "ALHxKDx4Dkx2",
        "colab": {
          "base_uri": "https://localhost:8080/",
          "height": 141
        },
        "outputId": "c0098083-71d0-4dc4-c7d0-5878d319ed19"
      },
      "source": [
        "learn.fit_one_cycle(3, slice(6e-3/(2.6**4), 6e-3))"
      ],
      "execution_count": 20,
      "outputs": [
        {
          "output_type": "display_data",
          "data": {
            "text/html": [
              "<table border=\"1\" class=\"dataframe\">\n",
              "  <thead>\n",
              "    <tr style=\"text-align: left;\">\n",
              "      <th>epoch</th>\n",
              "      <th>train_loss</th>\n",
              "      <th>valid_loss</th>\n",
              "      <th>accuracy</th>\n",
              "      <th>time</th>\n",
              "    </tr>\n",
              "  </thead>\n",
              "  <tbody>\n",
              "    <tr>\n",
              "      <td>0</td>\n",
              "      <td>2.956592</td>\n",
              "      <td>3.651611</td>\n",
              "      <td>0.354235</td>\n",
              "      <td>03:09</td>\n",
              "    </tr>\n",
              "    <tr>\n",
              "      <td>1</td>\n",
              "      <td>2.876632</td>\n",
              "      <td>3.639564</td>\n",
              "      <td>0.356392</td>\n",
              "      <td>03:09</td>\n",
              "    </tr>\n",
              "    <tr>\n",
              "      <td>2</td>\n",
              "      <td>2.685963</td>\n",
              "      <td>3.659403</td>\n",
              "      <td>0.355260</td>\n",
              "      <td>03:08</td>\n",
              "    </tr>\n",
              "  </tbody>\n",
              "</table>"
            ],
            "text/plain": [
              "<IPython.core.display.HTML object>"
            ]
          },
          "metadata": {
            "tags": []
          }
        }
      ]
    },
    {
      "cell_type": "code",
      "metadata": {
        "id": "X9ldnjU8EM6g"
      },
      "source": [
        "#save the encoder model\n",
        "learn.save_encoder('my_encoder')"
      ],
      "execution_count": 21,
      "outputs": []
    },
    {
      "cell_type": "code",
      "metadata": {
        "id": "jKcyxMQ1E-bx",
        "colab": {
          "base_uri": "https://localhost:8080/",
          "height": 72
        },
        "outputId": "9f93e948-02d1-4413-9b2f-f49087d16ada"
      },
      "source": [
        "# Classifier model data\n",
        "data_clas = TextClasDataBunch.from_df(path = \"\", train_df = df, valid_df = df_test, vocab=data_lm.train_ds.vocab, bs=32)"
      ],
      "execution_count": 22,
      "outputs": [
        {
          "output_type": "display_data",
          "data": {
            "text/html": [
              ""
            ],
            "text/plain": [
              "<IPython.core.display.HTML object>"
            ]
          },
          "metadata": {
            "tags": []
          }
        },
        {
          "output_type": "stream",
          "text": [
            "/usr/local/lib/python3.6/dist-packages/fastai/core.py:302: VisibleDeprecationWarning: Creating an ndarray from ragged nested sequences (which is a list-or-tuple of lists-or-tuples-or ndarrays with different lengths or shapes) is deprecated. If you meant to do this, you must specify 'dtype=object' when creating the ndarray\n",
            "  return np.array(a, dtype=dtype, **kwargs)\n"
          ],
          "name": "stderr"
        },
        {
          "output_type": "display_data",
          "data": {
            "text/html": [
              ""
            ],
            "text/plain": [
              "<IPython.core.display.HTML object>"
            ]
          },
          "metadata": {
            "tags": []
          }
        }
      ]
    },
    {
      "cell_type": "code",
      "metadata": {
        "id": "OZf8iOajFPhD",
        "colab": {
          "base_uri": "https://localhost:8080/"
        },
        "outputId": "14fd7207-b4f1-4f89-9fd6-8cc780444142"
      },
      "source": [
        "#building classifier\n",
        "learn = text_classifier_learner(data_clas, AWD_LSTM, drop_mult=0.5, metrics=[accuracy, FBeta(beta=1)])\n",
        "\n",
        "#loading the saved encoder\n",
        "learn.load_encoder('my_encoder')"
      ],
      "execution_count": 23,
      "outputs": [
        {
          "output_type": "execute_result",
          "data": {
            "text/plain": [
              "RNNLearner(data=TextClasDataBunch;\n",
              "\n",
              "Train: LabelList (10976 items)\n",
              "x: TextList\n",
              "xxbos xxmaj we extend to natural deduction the approach of xxmaj linear xxmaj nested xxmaj sequents and \n",
              "  xxunk . xxmaj formulas are xxunk with a spatial coordinate , which allows a \n",
              "  formulation of formal systems in the original spirit of natural \n",
              "  deduction --- only one introduction and one elimination rule per connective , no \n",
              "  additional structural rule , no explicit reference to the accessibility \n",
              "  relation of the intended xxmaj kripke models . xxmaj we give systems for the normal modal \n",
              "  logics from k to xxup s4 . xxmaj for the intuitionistic versions of the systems , we define \n",
              "  proof reduction , and prove proof normalisation , thus obtaining a syntactical \n",
              "  proof of consistency . xxmaj for logics k and xxup k4 we use existence predicates \n",
              "  following xxmaj scott for formulating sound deduction rules . \n",
              " ,xxbos xxmaj over the last decade , the xxup ieee 802.11 has emerged as the most popular \n",
              "  protocol in the wireless domain . xxmaj since the release of the first standard \n",
              "  version , several amendments have been introduced in an effort to improve its \n",
              "  throughput performance , with the most recent one being the xxup ieee 802.11n \n",
              "  extension . xxmaj in this work , we present detailed experimentally obtained \n",
              "  measurements that evaluate the energy efficiency of the base standard in \n",
              "  comparison with the latest 802.11n version . xxmaj moreover , we investigate the impact \n",
              "  of various xxup mac layer enhancements , both vendor specific and standard compliant \n",
              "  ones , on the energy consumption of wireless transceivers and total nodes as \n",
              "  well . xxmaj results obtained under a wide range of settings , indicate that the latest \n",
              "  standard enables reduction of energy expenditure , by more than 75 % , when \n",
              "  combined with innovative frame aggregation mechanisms . \n",
              " ,xxbos xxmaj motivated by the problem of storing coloured de xxmaj bruijn graphs , we show how , \n",
              "  if we can already support fast select queries on one string , then we can store \n",
              "  a little extra information and support fairly fast select queries on a similar \n",
              "  string . \n",
              " ,xxbos xxmaj we consider the downlink of a cellular system and address the problem of \n",
              "  multiuser scheduling with partial channel information . xxmaj in our setting , the \n",
              "  channel of each user is modeled by a three - state xxmaj markov chain . xxmaj the scheduler \n",
              "  indirectly estimates the channel via accumulated xxmaj automatic xxmaj repeat xxmaj request xxup arq \n",
              "  feedback from the scheduled users and uses this information in future \n",
              "  scheduling decisions . xxmaj using a xxmaj partially xxmaj observable xxmaj markov xxmaj decision xxmaj process \n",
              "  xxup pomdp , we formulate a throughput maximization problem that is an extension of \n",
              "  our previous work where the channels were modeled using two states . xxmaj we recall \n",
              "  the greedy policy that was shown to be optimal and easy to implement in the two \n",
              "  state case and study the implementation structure of the greedy policy in the \n",
              "  considered downlink . xxmaj we classify the system into two types based on the channel \n",
              "  statistics and obtain round robin structures for the greedy policy for each \n",
              "  system type . xxmaj we obtain performance bounds for the downlink system using these \n",
              "  structures and study the conditions under which the greedy policy is optimal . \n",
              " ,xxbos xxmaj xxunk is the still undeciphered language of the ancient xxunk of \n",
              "  xxmaj xxunk . xxmaj over the years , various techniques for decipherment such as finding a \n",
              "  bilingual text or cognates from modern or other ancient languages in the xxmaj sudan \n",
              "  and surrounding areas has not been successful . xxmaj using techniques borrowed from \n",
              "  information theory and natural language statistics , similar words are paired \n",
              "  and attempts are made to use currently defined words to extract at least \n",
              "  partial meaning from unknown words . \n",
              " \n",
              "y: CategoryList\n",
              "LO,NI,DS,NI,CL\n",
              "Path: .;\n",
              "\n",
              "Valid: LabelList (11200 items)\n",
              "x: TextList\n",
              "xxbos xxmaj manne et al . designed the first algorithm computing a maximal matching that \n",
              "  is a 2 / 3 -approximation of the maximum matching in xxmaj xxunk moves . xxmaj however , the \n",
              "  complexity tightness was not proved . xxmaj in this paper , we exhibit a \n",
              "  sub - exponential execution of this matching algorithm . \n",
              " ,xxbos xxmaj we consider the challenge of creating guidelines to evaluate the quality of a \n",
              "  spreadsheet model . xxmaj we suggest four principles . xxmaj first , state the domain - the \n",
              "  spreadsheets to which the guidelines apply . xxmaj second , distinguish between the \n",
              "  process by which a spreadsheet is constructed from the resulting spreadsheet \n",
              "  artifact . xxmaj third , guidelines should be written in terms of the artifact , \n",
              "  independent of the process . xxmaj fourth , the meaning of \" quality \" must be defined . \n",
              "  xxmaj we illustrate these principles with an example . xxmaj we define the domain of \n",
              "  \" analytical spreadsheet models \" , which are used in business , finance , \n",
              "  engineering , and science . xxmaj we propose for discussion a framework and terminology \n",
              "  for evaluating the quality of analytical spreadsheet models . xxmaj this framework \n",
              "  xxunk and generalizes the findings of previous work on the more narrow \n",
              "  domain of financial spreadsheet models . xxmaj we suggest that the ultimate goal is a \n",
              "  set of guidelines for an xxunk , and a checklist for a developer . \n",
              " ,xxbos xxmaj network virtualization techniques allow for the coexistence of many virtual \n",
              "  networks vns jointly sharing the resources of an underlying substrate \n",
              "  network . xxmaj the xxmaj virtual xxmaj network xxmaj embedding problem xxup vne arises when looking for \n",
              "  the most profitable set of vns to embed onto the substrate . xxmaj in this paper , we \n",
              "  address the offline version of the problem . xxmaj we propose a xxmaj mixed - xxmaj integer xxmaj linear \n",
              "  xxmaj programming formulation to solve it to optimality which accounts for acceptance \n",
              "  and rejection of virtual network requests , allowing for both splittable and \n",
              "  unsplittable single path routing schemes . xxmaj our formulation also considers a \n",
              "  xxmaj rent - at - xxmaj bulk xxunk model for the rental of substrate capacities where economies \n",
              "  of scale apply . xxmaj to better emphasize the importance of xxunk , we also compare our \n",
              "  method to a baseline one which only takes xxunk into account a posteriori , once a \n",
              "  solution to xxup vne , oblivious to xxunk , has been found . xxmaj computational experiments \n",
              "  show the viability of our approach , xxunk the relevance of addressing xxunk \n",
              "  directly with an exact formulation \n",
              " ,xxbos xxmaj in the xxmaj min k - xxmaj cut problem , input is an edge weighted graph g and an \n",
              "  integer k , and the task is to partition the vertex set into k non - empty \n",
              "  sets , such that the total weight of the edges with endpoints in different parts \n",
              "  is minimized . xxmaj when k is part of the input , the problem is xxup np - complete and \n",
              "  hard to approximate within any factor less than 2 . xxmaj recently , the problem has \n",
              "  received significant attention from the perspective of parameterized \n",
              "  approximation . xxmaj gupta et xxunk 2018 ] initiated the study of \n",
              "  xxup fpt - approximation for the xxmaj min k - xxmaj cut problem and gave an \n",
              "  xxunk algorithm running in time \n",
              "  2^ { \\ xxunk { \\ mathcal{o}1 } . xxmaj later , the same set of xxunk \n",
              "  2018 ] designed an 1 + \\ epsilon - approximation algorithm that runs in time \n",
              "  k / \\ epsilon^ { \\ xxunk \\ mathcal{o}1 } , and a xxunk \n",
              "  algorithm running in time 2^ { \\ xxunk { \\ mathcal{o}1 } . xxmaj more , \n",
              "  recently , xxmaj kawarabayashi and xxunk 2020 ] gave a 5 / 3 + \n",
              "  \\ epsilon - approximation for xxmaj min k - xxmaj cut running in time 2^ { \\ xxunk \n",
              "  \\ log xxunk { \\ mathcal{o}1 } . \n",
              "  xxmaj in this paper we give a parameterized approximation algorithm with best \n",
              "  possible approximation guarantee , and best possible running time dependence on \n",
              "  said guarantee up to xxmaj exponential xxmaj time xxmaj hypothesis xxup eth and constants in the \n",
              "  exponent . xxmaj in particular , for every \\ epsilon > 0 , the algorithm obtains a 1 \n",
              "  + \\ epsilon - approximate solution in time \n",
              "  k / \\ epsilon^ { \\ mathcal{o}k}n^ { \\ mathcal{o}1 } . xxmaj the main ingredients of our \n",
              "  algorithm are : a simple sparsification procedure , a new polynomial time \n",
              "  algorithm for decomposing a graph into highly connected parts , and a new exact \n",
              "  algorithm with running time s^ { \\ mathcal{o}k}n^ { \\ mathcal{o}1 } on \n",
              "  unweighted multi- graphs . xxmaj here , s denotes the number of edges in a minimum \n",
              "  k - cut . xxmaj the later two are of independent interest . \n",
              " ,xxbos xxmaj we introduce the notion of being xxmaj weihrauch - complete for xxunk \n",
              "  computability and provide several natural examples related to complex \n",
              "  xxunk , the law of the iterated logarithm and xxmaj birkhoff 's theorem . xxmaj we also \n",
              "  consider hitting time operators , which share the xxmaj weihrauch degree of the former \n",
              "  examples but fail to be xxunk computable . \n",
              " \n",
              "y: CategoryList\n",
              "DC,SE,NI,DS,LO\n",
              "Path: .;\n",
              "\n",
              "Test: None, model=SequentialRNN(\n",
              "  (0): MultiBatchEncoder(\n",
              "    (module): AWD_LSTM(\n",
              "      (encoder): Embedding(22824, 400, padding_idx=1)\n",
              "      (encoder_dp): EmbeddingDropout(\n",
              "        (emb): Embedding(22824, 400, padding_idx=1)\n",
              "      )\n",
              "      (rnns): ModuleList(\n",
              "        (0): WeightDropout(\n",
              "          (module): LSTM(400, 1152, batch_first=True)\n",
              "        )\n",
              "        (1): WeightDropout(\n",
              "          (module): LSTM(1152, 1152, batch_first=True)\n",
              "        )\n",
              "        (2): WeightDropout(\n",
              "          (module): LSTM(1152, 400, batch_first=True)\n",
              "        )\n",
              "      )\n",
              "      (input_dp): RNNDropout()\n",
              "      (hidden_dps): ModuleList(\n",
              "        (0): RNNDropout()\n",
              "        (1): RNNDropout()\n",
              "        (2): RNNDropout()\n",
              "      )\n",
              "    )\n",
              "  )\n",
              "  (1): PoolingLinearClassifier(\n",
              "    (layers): Sequential(\n",
              "      (0): BatchNorm1d(1200, eps=1e-05, momentum=0.1, affine=True, track_running_stats=True)\n",
              "      (1): Dropout(p=0.2, inplace=False)\n",
              "      (2): Linear(in_features=1200, out_features=50, bias=True)\n",
              "      (3): ReLU(inplace=True)\n",
              "      (4): BatchNorm1d(50, eps=1e-05, momentum=0.1, affine=True, track_running_stats=True)\n",
              "      (5): Dropout(p=0.1, inplace=False)\n",
              "      (6): Linear(in_features=50, out_features=7, bias=True)\n",
              "    )\n",
              "  )\n",
              "), opt_func=functools.partial(<class 'torch.optim.adam.Adam'>, betas=(0.9, 0.99)), loss_func=FlattenedLoss of CrossEntropyLoss(), metrics=[<function accuracy at 0x7ff8526cfa60>, FBeta(average='binary', pos_label=1, eps=1e-09, beta=1)], true_wd=True, bn_wd=True, wd=0.01, train_bn=True, path=PosixPath('.'), model_dir='models', callback_fns=[functools.partial(<class 'fastai.basic_train.Recorder'>, add_time=True, silent=False)], callbacks=[RNNTrainer\n",
              "learn: RNNLearner(data=TextClasDataBunch;\n",
              "\n",
              "Train: LabelList (10976 items)\n",
              "x: TextList\n",
              "xxbos xxmaj we extend to natural deduction the approach of xxmaj linear xxmaj nested xxmaj sequents and \n",
              "  xxunk . xxmaj formulas are xxunk with a spatial coordinate , which allows a \n",
              "  formulation of formal systems in the original spirit of natural \n",
              "  deduction --- only one introduction and one elimination rule per connective , no \n",
              "  additional structural rule , no explicit reference to the accessibility \n",
              "  relation of the intended xxmaj kripke models . xxmaj we give systems for the normal modal \n",
              "  logics from k to xxup s4 . xxmaj for the intuitionistic versions of the systems , we define \n",
              "  proof reduction , and prove proof normalisation , thus obtaining a syntactical \n",
              "  proof of consistency . xxmaj for logics k and xxup k4 we use existence predicates \n",
              "  following xxmaj scott for formulating sound deduction rules . \n",
              " ,xxbos xxmaj over the last decade , the xxup ieee 802.11 has emerged as the most popular \n",
              "  protocol in the wireless domain . xxmaj since the release of the first standard \n",
              "  version , several amendments have been introduced in an effort to improve its \n",
              "  throughput performance , with the most recent one being the xxup ieee 802.11n \n",
              "  extension . xxmaj in this work , we present detailed experimentally obtained \n",
              "  measurements that evaluate the energy efficiency of the base standard in \n",
              "  comparison with the latest 802.11n version . xxmaj moreover , we investigate the impact \n",
              "  of various xxup mac layer enhancements , both vendor specific and standard compliant \n",
              "  ones , on the energy consumption of wireless transceivers and total nodes as \n",
              "  well . xxmaj results obtained under a wide range of settings , indicate that the latest \n",
              "  standard enables reduction of energy expenditure , by more than 75 % , when \n",
              "  combined with innovative frame aggregation mechanisms . \n",
              " ,xxbos xxmaj motivated by the problem of storing coloured de xxmaj bruijn graphs , we show how , \n",
              "  if we can already support fast select queries on one string , then we can store \n",
              "  a little extra information and support fairly fast select queries on a similar \n",
              "  string . \n",
              " ,xxbos xxmaj we consider the downlink of a cellular system and address the problem of \n",
              "  multiuser scheduling with partial channel information . xxmaj in our setting , the \n",
              "  channel of each user is modeled by a three - state xxmaj markov chain . xxmaj the scheduler \n",
              "  indirectly estimates the channel via accumulated xxmaj automatic xxmaj repeat xxmaj request xxup arq \n",
              "  feedback from the scheduled users and uses this information in future \n",
              "  scheduling decisions . xxmaj using a xxmaj partially xxmaj observable xxmaj markov xxmaj decision xxmaj process \n",
              "  xxup pomdp , we formulate a throughput maximization problem that is an extension of \n",
              "  our previous work where the channels were modeled using two states . xxmaj we recall \n",
              "  the greedy policy that was shown to be optimal and easy to implement in the two \n",
              "  state case and study the implementation structure of the greedy policy in the \n",
              "  considered downlink . xxmaj we classify the system into two types based on the channel \n",
              "  statistics and obtain round robin structures for the greedy policy for each \n",
              "  system type . xxmaj we obtain performance bounds for the downlink system using these \n",
              "  structures and study the conditions under which the greedy policy is optimal . \n",
              " ,xxbos xxmaj xxunk is the still undeciphered language of the ancient xxunk of \n",
              "  xxmaj xxunk . xxmaj over the years , various techniques for decipherment such as finding a \n",
              "  bilingual text or cognates from modern or other ancient languages in the xxmaj sudan \n",
              "  and surrounding areas has not been successful . xxmaj using techniques borrowed from \n",
              "  information theory and natural language statistics , similar words are paired \n",
              "  and attempts are made to use currently defined words to extract at least \n",
              "  partial meaning from unknown words . \n",
              " \n",
              "y: CategoryList\n",
              "LO,NI,DS,NI,CL\n",
              "Path: .;\n",
              "\n",
              "Valid: LabelList (11200 items)\n",
              "x: TextList\n",
              "xxbos xxmaj manne et al . designed the first algorithm computing a maximal matching that \n",
              "  is a 2 / 3 -approximation of the maximum matching in xxmaj xxunk moves . xxmaj however , the \n",
              "  complexity tightness was not proved . xxmaj in this paper , we exhibit a \n",
              "  sub - exponential execution of this matching algorithm . \n",
              " ,xxbos xxmaj we consider the challenge of creating guidelines to evaluate the quality of a \n",
              "  spreadsheet model . xxmaj we suggest four principles . xxmaj first , state the domain - the \n",
              "  spreadsheets to which the guidelines apply . xxmaj second , distinguish between the \n",
              "  process by which a spreadsheet is constructed from the resulting spreadsheet \n",
              "  artifact . xxmaj third , guidelines should be written in terms of the artifact , \n",
              "  independent of the process . xxmaj fourth , the meaning of \" quality \" must be defined . \n",
              "  xxmaj we illustrate these principles with an example . xxmaj we define the domain of \n",
              "  \" analytical spreadsheet models \" , which are used in business , finance , \n",
              "  engineering , and science . xxmaj we propose for discussion a framework and terminology \n",
              "  for evaluating the quality of analytical spreadsheet models . xxmaj this framework \n",
              "  xxunk and generalizes the findings of previous work on the more narrow \n",
              "  domain of financial spreadsheet models . xxmaj we suggest that the ultimate goal is a \n",
              "  set of guidelines for an xxunk , and a checklist for a developer . \n",
              " ,xxbos xxmaj network virtualization techniques allow for the coexistence of many virtual \n",
              "  networks vns jointly sharing the resources of an underlying substrate \n",
              "  network . xxmaj the xxmaj virtual xxmaj network xxmaj embedding problem xxup vne arises when looking for \n",
              "  the most profitable set of vns to embed onto the substrate . xxmaj in this paper , we \n",
              "  address the offline version of the problem . xxmaj we propose a xxmaj mixed - xxmaj integer xxmaj linear \n",
              "  xxmaj programming formulation to solve it to optimality which accounts for acceptance \n",
              "  and rejection of virtual network requests , allowing for both splittable and \n",
              "  unsplittable single path routing schemes . xxmaj our formulation also considers a \n",
              "  xxmaj rent - at - xxmaj bulk xxunk model for the rental of substrate capacities where economies \n",
              "  of scale apply . xxmaj to better emphasize the importance of xxunk , we also compare our \n",
              "  method to a baseline one which only takes xxunk into account a posteriori , once a \n",
              "  solution to xxup vne , oblivious to xxunk , has been found . xxmaj computational experiments \n",
              "  show the viability of our approach , xxunk the relevance of addressing xxunk \n",
              "  directly with an exact formulation \n",
              " ,xxbos xxmaj in the xxmaj min k - xxmaj cut problem , input is an edge weighted graph g and an \n",
              "  integer k , and the task is to partition the vertex set into k non - empty \n",
              "  sets , such that the total weight of the edges with endpoints in different parts \n",
              "  is minimized . xxmaj when k is part of the input , the problem is xxup np - complete and \n",
              "  hard to approximate within any factor less than 2 . xxmaj recently , the problem has \n",
              "  received significant attention from the perspective of parameterized \n",
              "  approximation . xxmaj gupta et xxunk 2018 ] initiated the study of \n",
              "  xxup fpt - approximation for the xxmaj min k - xxmaj cut problem and gave an \n",
              "  xxunk algorithm running in time \n",
              "  2^ { \\ xxunk { \\ mathcal{o}1 } . xxmaj later , the same set of xxunk \n",
              "  2018 ] designed an 1 + \\ epsilon - approximation algorithm that runs in time \n",
              "  k / \\ epsilon^ { \\ xxunk \\ mathcal{o}1 } , and a xxunk \n",
              "  algorithm running in time 2^ { \\ xxunk { \\ mathcal{o}1 } . xxmaj more , \n",
              "  recently , xxmaj kawarabayashi and xxunk 2020 ] gave a 5 / 3 + \n",
              "  \\ epsilon - approximation for xxmaj min k - xxmaj cut running in time 2^ { \\ xxunk \n",
              "  \\ log xxunk { \\ mathcal{o}1 } . \n",
              "  xxmaj in this paper we give a parameterized approximation algorithm with best \n",
              "  possible approximation guarantee , and best possible running time dependence on \n",
              "  said guarantee up to xxmaj exponential xxmaj time xxmaj hypothesis xxup eth and constants in the \n",
              "  exponent . xxmaj in particular , for every \\ epsilon > 0 , the algorithm obtains a 1 \n",
              "  + \\ epsilon - approximate solution in time \n",
              "  k / \\ epsilon^ { \\ mathcal{o}k}n^ { \\ mathcal{o}1 } . xxmaj the main ingredients of our \n",
              "  algorithm are : a simple sparsification procedure , a new polynomial time \n",
              "  algorithm for decomposing a graph into highly connected parts , and a new exact \n",
              "  algorithm with running time s^ { \\ mathcal{o}k}n^ { \\ mathcal{o}1 } on \n",
              "  unweighted multi- graphs . xxmaj here , s denotes the number of edges in a minimum \n",
              "  k - cut . xxmaj the later two are of independent interest . \n",
              " ,xxbos xxmaj we introduce the notion of being xxmaj weihrauch - complete for xxunk \n",
              "  computability and provide several natural examples related to complex \n",
              "  xxunk , the law of the iterated logarithm and xxmaj birkhoff 's theorem . xxmaj we also \n",
              "  consider hitting time operators , which share the xxmaj weihrauch degree of the former \n",
              "  examples but fail to be xxunk computable . \n",
              " \n",
              "y: CategoryList\n",
              "DC,SE,NI,DS,LO\n",
              "Path: .;\n",
              "\n",
              "Test: None, model=SequentialRNN(\n",
              "  (0): MultiBatchEncoder(\n",
              "    (module): AWD_LSTM(\n",
              "      (encoder): Embedding(22824, 400, padding_idx=1)\n",
              "      (encoder_dp): EmbeddingDropout(\n",
              "        (emb): Embedding(22824, 400, padding_idx=1)\n",
              "      )\n",
              "      (rnns): ModuleList(\n",
              "        (0): WeightDropout(\n",
              "          (module): LSTM(400, 1152, batch_first=True)\n",
              "        )\n",
              "        (1): WeightDropout(\n",
              "          (module): LSTM(1152, 1152, batch_first=True)\n",
              "        )\n",
              "        (2): WeightDropout(\n",
              "          (module): LSTM(1152, 400, batch_first=True)\n",
              "        )\n",
              "      )\n",
              "      (input_dp): RNNDropout()\n",
              "      (hidden_dps): ModuleList(\n",
              "        (0): RNNDropout()\n",
              "        (1): RNNDropout()\n",
              "        (2): RNNDropout()\n",
              "      )\n",
              "    )\n",
              "  )\n",
              "  (1): PoolingLinearClassifier(\n",
              "    (layers): Sequential(\n",
              "      (0): BatchNorm1d(1200, eps=1e-05, momentum=0.1, affine=True, track_running_stats=True)\n",
              "      (1): Dropout(p=0.2, inplace=False)\n",
              "      (2): Linear(in_features=1200, out_features=50, bias=True)\n",
              "      (3): ReLU(inplace=True)\n",
              "      (4): BatchNorm1d(50, eps=1e-05, momentum=0.1, affine=True, track_running_stats=True)\n",
              "      (5): Dropout(p=0.1, inplace=False)\n",
              "      (6): Linear(in_features=50, out_features=7, bias=True)\n",
              "    )\n",
              "  )\n",
              "), opt_func=functools.partial(<class 'torch.optim.adam.Adam'>, betas=(0.9, 0.99)), loss_func=FlattenedLoss of CrossEntropyLoss(), metrics=[<function accuracy at 0x7ff8526cfa60>, FBeta(average='binary', pos_label=1, eps=1e-09, beta=1)], true_wd=True, bn_wd=True, wd=0.01, train_bn=True, path=PosixPath('.'), model_dir='models', callback_fns=[functools.partial(<class 'fastai.basic_train.Recorder'>, add_time=True, silent=False)], callbacks=[...], layer_groups=[Sequential(\n",
              "  (0): Embedding(22824, 400, padding_idx=1)\n",
              "  (1): EmbeddingDropout(\n",
              "    (emb): Embedding(22824, 400, padding_idx=1)\n",
              "  )\n",
              "), Sequential(\n",
              "  (0): WeightDropout(\n",
              "    (module): LSTM(400, 1152, batch_first=True)\n",
              "  )\n",
              "  (1): RNNDropout()\n",
              "), Sequential(\n",
              "  (0): WeightDropout(\n",
              "    (module): LSTM(1152, 1152, batch_first=True)\n",
              "  )\n",
              "  (1): RNNDropout()\n",
              "), Sequential(\n",
              "  (0): WeightDropout(\n",
              "    (module): LSTM(1152, 400, batch_first=True)\n",
              "  )\n",
              "  (1): RNNDropout()\n",
              "), Sequential(\n",
              "  (0): PoolingLinearClassifier(\n",
              "    (layers): Sequential(\n",
              "      (0): BatchNorm1d(1200, eps=1e-05, momentum=0.1, affine=True, track_running_stats=True)\n",
              "      (1): Dropout(p=0.2, inplace=False)\n",
              "      (2): Linear(in_features=1200, out_features=50, bias=True)\n",
              "      (3): ReLU(inplace=True)\n",
              "      (4): BatchNorm1d(50, eps=1e-05, momentum=0.1, affine=True, track_running_stats=True)\n",
              "      (5): Dropout(p=0.1, inplace=False)\n",
              "      (6): Linear(in_features=50, out_features=7, bias=True)\n",
              "    )\n",
              "  )\n",
              ")], add_time=True, silent=False)\n",
              "alpha: 2.0\n",
              "beta: 1.0], layer_groups=[Sequential(\n",
              "  (0): Embedding(22824, 400, padding_idx=1)\n",
              "  (1): EmbeddingDropout(\n",
              "    (emb): Embedding(22824, 400, padding_idx=1)\n",
              "  )\n",
              "), Sequential(\n",
              "  (0): WeightDropout(\n",
              "    (module): LSTM(400, 1152, batch_first=True)\n",
              "  )\n",
              "  (1): RNNDropout()\n",
              "), Sequential(\n",
              "  (0): WeightDropout(\n",
              "    (module): LSTM(1152, 1152, batch_first=True)\n",
              "  )\n",
              "  (1): RNNDropout()\n",
              "), Sequential(\n",
              "  (0): WeightDropout(\n",
              "    (module): LSTM(1152, 400, batch_first=True)\n",
              "  )\n",
              "  (1): RNNDropout()\n",
              "), Sequential(\n",
              "  (0): PoolingLinearClassifier(\n",
              "    (layers): Sequential(\n",
              "      (0): BatchNorm1d(1200, eps=1e-05, momentum=0.1, affine=True, track_running_stats=True)\n",
              "      (1): Dropout(p=0.2, inplace=False)\n",
              "      (2): Linear(in_features=1200, out_features=50, bias=True)\n",
              "      (3): ReLU(inplace=True)\n",
              "      (4): BatchNorm1d(50, eps=1e-05, momentum=0.1, affine=True, track_running_stats=True)\n",
              "      (5): Dropout(p=0.1, inplace=False)\n",
              "      (6): Linear(in_features=50, out_features=7, bias=True)\n",
              "    )\n",
              "  )\n",
              ")], add_time=True, silent=False)"
            ]
          },
          "metadata": {
            "tags": []
          },
          "execution_count": 23
        }
      ]
    },
    {
      "cell_type": "code",
      "metadata": {
        "id": "LZ170u7xFgLS",
        "colab": {
          "base_uri": "https://localhost:8080/",
          "height": 409
        },
        "outputId": "6ddd9721-9450-4a04-f592-7e860b7bd3af"
      },
      "source": [
        "learn.lr_find()\n",
        "learn.recorder.plot(suggestion=True)\n"
      ],
      "execution_count": 24,
      "outputs": [
        {
          "output_type": "display_data",
          "data": {
            "text/html": [
              "\n",
              "    <div>\n",
              "        <style>\n",
              "            /* Turns off some styling */\n",
              "            progress {\n",
              "                /* gets rid of default border in Firefox and Opera. */\n",
              "                border: none;\n",
              "                /* Needs to be in here for Safari polyfill so background images work as expected. */\n",
              "                background-size: auto;\n",
              "            }\n",
              "            .progress-bar-interrupted, .progress-bar-interrupted::-webkit-progress-bar {\n",
              "                background: #F44336;\n",
              "            }\n",
              "        </style>\n",
              "      <progress value='0' class='' max='1' style='width:300px; height:20px; vertical-align: middle;'></progress>\n",
              "      0.00% [0/1 00:00<00:00]\n",
              "    </div>\n",
              "    \n",
              "<table border=\"1\" class=\"dataframe\">\n",
              "  <thead>\n",
              "    <tr style=\"text-align: left;\">\n",
              "      <th>epoch</th>\n",
              "      <th>train_loss</th>\n",
              "      <th>valid_loss</th>\n",
              "      <th>accuracy</th>\n",
              "      <th>f_beta</th>\n",
              "      <th>time</th>\n",
              "    </tr>\n",
              "  </thead>\n",
              "  <tbody>\n",
              "  </tbody>\n",
              "</table><p>\n",
              "\n",
              "    <div>\n",
              "        <style>\n",
              "            /* Turns off some styling */\n",
              "            progress {\n",
              "                /* gets rid of default border in Firefox and Opera. */\n",
              "                border: none;\n",
              "                /* Needs to be in here for Safari polyfill so background images work as expected. */\n",
              "                background-size: auto;\n",
              "            }\n",
              "            .progress-bar-interrupted, .progress-bar-interrupted::-webkit-progress-bar {\n",
              "                background: #F44336;\n",
              "            }\n",
              "        </style>\n",
              "      <progress value='94' class='' max='343' style='width:300px; height:20px; vertical-align: middle;'></progress>\n",
              "      27.41% [94/343 00:12<00:34 4.6482]\n",
              "    </div>\n",
              "    "
            ],
            "text/plain": [
              "<IPython.core.display.HTML object>"
            ]
          },
          "metadata": {
            "tags": []
          }
        },
        {
          "output_type": "stream",
          "text": [
            "LR Finder is complete, type {learner_name}.recorder.plot() to see the graph.\n",
            "Min numerical gradient: 1.10E-02\n",
            "Min loss divided by 10: 7.59E-02\n"
          ],
          "name": "stdout"
        },
        {
          "output_type": "display_data",
          "data": {
            "image/png": "[encoded data removed]",
            "text/plain": [
              "<Figure size 432x288 with 1 Axes>"
            ]
          },
          "metadata": {
            "tags": [],
            "needs_background": "light"
          }
        }
      ]
    },
    {
      "cell_type": "code",
      "metadata": {
        "id": "9PZazyEDFo3N",
        "colab": {
          "base_uri": "https://localhost:8080/",
          "height": 265
        },
        "outputId": "220d0f5f-a544-4c3d-ef9a-887fdff46a79"
      },
      "source": [
        "learn.fit_one_cycle(3, 1e-2, moms=(0.8,0.7))"
      ],
      "execution_count": 25,
      "outputs": [
        {
          "output_type": "display_data",
          "data": {
            "text/html": [
              "<table border=\"1\" class=\"dataframe\">\n",
              "  <thead>\n",
              "    <tr style=\"text-align: left;\">\n",
              "      <th>epoch</th>\n",
              "      <th>train_loss</th>\n",
              "      <th>valid_loss</th>\n",
              "      <th>accuracy</th>\n",
              "      <th>f_beta</th>\n",
              "      <th>time</th>\n",
              "    </tr>\n",
              "  </thead>\n",
              "  <tbody>\n",
              "    <tr>\n",
              "      <td>0</td>\n",
              "      <td>0.475801</td>\n",
              "      <td>0.353393</td>\n",
              "      <td>0.879911</td>\n",
              "      <td>0.873753</td>\n",
              "      <td>01:28</td>\n",
              "    </tr>\n",
              "    <tr>\n",
              "      <td>1</td>\n",
              "      <td>0.401680</td>\n",
              "      <td>0.298586</td>\n",
              "      <td>0.898839</td>\n",
              "      <td>0.894339</td>\n",
              "      <td>01:28</td>\n",
              "    </tr>\n",
              "    <tr>\n",
              "      <td>2</td>\n",
              "      <td>0.349067</td>\n",
              "      <td>0.291906</td>\n",
              "      <td>0.900714</td>\n",
              "      <td>0.895980</td>\n",
              "      <td>01:28</td>\n",
              "    </tr>\n",
              "  </tbody>\n",
              "</table>"
            ],
            "text/plain": [
              "<IPython.core.display.HTML object>"
            ]
          },
          "metadata": {
            "tags": []
          }
        },
        {
          "output_type": "stream",
          "text": [
            "/usr/local/lib/python3.6/dist-packages/fastai/metrics.py:191: UserWarning: average=`binary` was selected for a non binary case. Value for average has now been set to `macro` instead.\n",
            "  warn(\"average=`binary` was selected for a non binary case. Value for average has now been set to `macro` instead.\")\n",
            "/usr/local/lib/python3.6/dist-packages/fastai/metrics.py:191: UserWarning: average=`binary` was selected for a non binary case. Value for average has now been set to `macro` instead.\n",
            "  warn(\"average=`binary` was selected for a non binary case. Value for average has now been set to `macro` instead.\")\n",
            "/usr/local/lib/python3.6/dist-packages/fastai/metrics.py:191: UserWarning: average=`binary` was selected for a non binary case. Value for average has now been set to `macro` instead.\n",
            "  warn(\"average=`binary` was selected for a non binary case. Value for average has now been set to `macro` instead.\")\n"
          ],
          "name": "stderr"
        }
      ]
    },
    {
      "cell_type": "code",
      "metadata": {
        "id": "BnyW5DNUF8kN",
        "colab": {
          "base_uri": "https://localhost:8080/",
          "height": 279
        },
        "outputId": "18b729b0-7fbd-4c47-a434-18fd038ac2c4"
      },
      "source": [
        "learn.recorder.plot_losses()"
      ],
      "execution_count": 26,
      "outputs": [
        {
          "output_type": "display_data",
          "data": {
            "image/png": "[encoded data removed]",
            "text/plain": [
              "<Figure size 432x288 with 1 Axes>"
            ]
          },
          "metadata": {
            "tags": [],
            "needs_background": "light"
          }
        }
      ]
    },
    {
      "cell_type": "code",
      "metadata": {
        "id": "kIKv4mz8GKd-",
        "colab": {
          "base_uri": "https://localhost:8080/",
          "height": 409
        },
        "outputId": "e5c78e25-5c85-4079-f3cf-147cb77972c8"
      },
      "source": [
        "learn.lr_find()\n",
        "learn.recorder.plot(suggestion=True)"
      ],
      "execution_count": 27,
      "outputs": [
        {
          "output_type": "display_data",
          "data": {
            "text/html": [
              "\n",
              "    <div>\n",
              "        <style>\n",
              "            /* Turns off some styling */\n",
              "            progress {\n",
              "                /* gets rid of default border in Firefox and Opera. */\n",
              "                border: none;\n",
              "                /* Needs to be in here for Safari polyfill so background images work as expected. */\n",
              "                background-size: auto;\n",
              "            }\n",
              "            .progress-bar-interrupted, .progress-bar-interrupted::-webkit-progress-bar {\n",
              "                background: #F44336;\n",
              "            }\n",
              "        </style>\n",
              "      <progress value='0' class='' max='1' style='width:300px; height:20px; vertical-align: middle;'></progress>\n",
              "      0.00% [0/1 00:00<00:00]\n",
              "    </div>\n",
              "    \n",
              "<table border=\"1\" class=\"dataframe\">\n",
              "  <thead>\n",
              "    <tr style=\"text-align: left;\">\n",
              "      <th>epoch</th>\n",
              "      <th>train_loss</th>\n",
              "      <th>valid_loss</th>\n",
              "      <th>accuracy</th>\n",
              "      <th>f_beta</th>\n",
              "      <th>time</th>\n",
              "    </tr>\n",
              "  </thead>\n",
              "  <tbody>\n",
              "  </tbody>\n",
              "</table><p>\n",
              "\n",
              "    <div>\n",
              "        <style>\n",
              "            /* Turns off some styling */\n",
              "            progress {\n",
              "                /* gets rid of default border in Firefox and Opera. */\n",
              "                border: none;\n",
              "                /* Needs to be in here for Safari polyfill so background images work as expected. */\n",
              "                background-size: auto;\n",
              "            }\n",
              "            .progress-bar-interrupted, .progress-bar-interrupted::-webkit-progress-bar {\n",
              "                background: #F44336;\n",
              "            }\n",
              "        </style>\n",
              "      <progress value='87' class='' max='343' style='width:300px; height:20px; vertical-align: middle;'></progress>\n",
              "      25.36% [87/343 00:12<00:36 1.2004]\n",
              "    </div>\n",
              "    "
            ],
            "text/plain": [
              "<IPython.core.display.HTML object>"
            ]
          },
          "metadata": {
            "tags": []
          }
        },
        {
          "output_type": "stream",
          "text": [
            "LR Finder is complete, type {learner_name}.recorder.plot() to see the graph.\n",
            "Min numerical gradient: 6.31E-07\n",
            "Min loss divided by 10: 3.02E-04\n"
          ],
          "name": "stdout"
        },
        {
          "output_type": "display_data",
          "data": {
            "image/png": "[encoded data removed]",
            "text/plain": [
              "<Figure size 432x288 with 1 Axes>"
            ]
          },
          "metadata": {
            "tags": [],
            "needs_background": "light"
          }
        }
      ]
    },
    {
      "cell_type": "code",
      "metadata": {
        "id": "DWT855A-Dygn",
        "colab": {
          "base_uri": "https://localhost:8080/",
          "height": 199
        },
        "outputId": "587165f4-959f-41ad-f547-fcebdfb2db9f"
      },
      "source": [
        "learn.freeze_to(-2) # unfreeze last 2 layers\n",
        "learn.fit_one_cycle(2, slice(5e-3/(2.6**4),5e-3), moms=(0.8,0.7))"
      ],
      "execution_count": 28,
      "outputs": [
        {
          "output_type": "display_data",
          "data": {
            "text/html": [
              "<table border=\"1\" class=\"dataframe\">\n",
              "  <thead>\n",
              "    <tr style=\"text-align: left;\">\n",
              "      <th>epoch</th>\n",
              "      <th>train_loss</th>\n",
              "      <th>valid_loss</th>\n",
              "      <th>accuracy</th>\n",
              "      <th>f_beta</th>\n",
              "      <th>time</th>\n",
              "    </tr>\n",
              "  </thead>\n",
              "  <tbody>\n",
              "    <tr>\n",
              "      <td>0</td>\n",
              "      <td>0.371832</td>\n",
              "      <td>0.304669</td>\n",
              "      <td>0.895268</td>\n",
              "      <td>0.889990</td>\n",
              "      <td>01:38</td>\n",
              "    </tr>\n",
              "    <tr>\n",
              "      <td>1</td>\n",
              "      <td>0.311449</td>\n",
              "      <td>0.285983</td>\n",
              "      <td>0.903482</td>\n",
              "      <td>0.898972</td>\n",
              "      <td>01:38</td>\n",
              "    </tr>\n",
              "  </tbody>\n",
              "</table>"
            ],
            "text/plain": [
              "<IPython.core.display.HTML object>"
            ]
          },
          "metadata": {
            "tags": []
          }
        },
        {
          "output_type": "stream",
          "text": [
            "/usr/local/lib/python3.6/dist-packages/fastai/metrics.py:191: UserWarning: average=`binary` was selected for a non binary case. Value for average has now been set to `macro` instead.\n",
            "  warn(\"average=`binary` was selected for a non binary case. Value for average has now been set to `macro` instead.\")\n",
            "/usr/local/lib/python3.6/dist-packages/fastai/metrics.py:191: UserWarning: average=`binary` was selected for a non binary case. Value for average has now been set to `macro` instead.\n",
            "  warn(\"average=`binary` was selected for a non binary case. Value for average has now been set to `macro` instead.\")\n"
          ],
          "name": "stderr"
        }
      ]
    },
    {
      "cell_type": "code",
      "metadata": {
        "id": "pIqztbJ3HHuP",
        "colab": {
          "base_uri": "https://localhost:8080/",
          "height": 409
        },
        "outputId": "0c3d0556-060b-40d1-d9e8-478ddb4684ed"
      },
      "source": [
        "learn.lr_find()\n",
        "learn.recorder.plot(suggestion=True)"
      ],
      "execution_count": 29,
      "outputs": [
        {
          "output_type": "display_data",
          "data": {
            "text/html": [
              "\n",
              "    <div>\n",
              "        <style>\n",
              "            /* Turns off some styling */\n",
              "            progress {\n",
              "                /* gets rid of default border in Firefox and Opera. */\n",
              "                border: none;\n",
              "                /* Needs to be in here for Safari polyfill so background images work as expected. */\n",
              "                background-size: auto;\n",
              "            }\n",
              "            .progress-bar-interrupted, .progress-bar-interrupted::-webkit-progress-bar {\n",
              "                background: #F44336;\n",
              "            }\n",
              "        </style>\n",
              "      <progress value='0' class='' max='1' style='width:300px; height:20px; vertical-align: middle;'></progress>\n",
              "      0.00% [0/1 00:00<00:00]\n",
              "    </div>\n",
              "    \n",
              "<table border=\"1\" class=\"dataframe\">\n",
              "  <thead>\n",
              "    <tr style=\"text-align: left;\">\n",
              "      <th>epoch</th>\n",
              "      <th>train_loss</th>\n",
              "      <th>valid_loss</th>\n",
              "      <th>accuracy</th>\n",
              "      <th>f_beta</th>\n",
              "      <th>time</th>\n",
              "    </tr>\n",
              "  </thead>\n",
              "  <tbody>\n",
              "  </tbody>\n",
              "</table><p>\n",
              "\n",
              "    <div>\n",
              "        <style>\n",
              "            /* Turns off some styling */\n",
              "            progress {\n",
              "                /* gets rid of default border in Firefox and Opera. */\n",
              "                border: none;\n",
              "                /* Needs to be in here for Safari polyfill so background images work as expected. */\n",
              "                background-size: auto;\n",
              "            }\n",
              "            .progress-bar-interrupted, .progress-bar-interrupted::-webkit-progress-bar {\n",
              "                background: #F44336;\n",
              "            }\n",
              "        </style>\n",
              "      <progress value='85' class='' max='343' style='width:300px; height:20px; vertical-align: middle;'></progress>\n",
              "      24.78% [85/343 00:14<00:44 1.0139]\n",
              "    </div>\n",
              "    "
            ],
            "text/plain": [
              "<IPython.core.display.HTML object>"
            ]
          },
          "metadata": {
            "tags": []
          }
        },
        {
          "output_type": "stream",
          "text": [
            "LR Finder is complete, type {learner_name}.recorder.plot() to see the graph.\n",
            "Min numerical gradient: 9.12E-07\n",
            "Min loss divided by 10: 6.92E-05\n"
          ],
          "name": "stdout"
        },
        {
          "output_type": "display_data",
          "data": {
            "image/png": "[encoded data removed]",
            "text/plain": [
              "<Figure size 432x288 with 1 Axes>"
            ]
          },
          "metadata": {
            "tags": [],
            "needs_background": "light"
          }
        }
      ]
    },
    {
      "cell_type": "code",
      "metadata": {
        "id": "TxXRU0BHG-dz",
        "colab": {
          "base_uri": "https://localhost:8080/",
          "height": 199
        },
        "outputId": "f0381f61-1937-4f36-beb5-9c24bdbc838a"
      },
      "source": [
        "learn.freeze_to(-3)\n",
        "learn.fit_one_cycle(2, slice(5.3e-3/(2.6**4),5.31e-3), moms=(0.8,0.7))"
      ],
      "execution_count": 30,
      "outputs": [
        {
          "output_type": "display_data",
          "data": {
            "text/html": [
              "<table border=\"1\" class=\"dataframe\">\n",
              "  <thead>\n",
              "    <tr style=\"text-align: left;\">\n",
              "      <th>epoch</th>\n",
              "      <th>train_loss</th>\n",
              "      <th>valid_loss</th>\n",
              "      <th>accuracy</th>\n",
              "      <th>f_beta</th>\n",
              "      <th>time</th>\n",
              "    </tr>\n",
              "  </thead>\n",
              "  <tbody>\n",
              "    <tr>\n",
              "      <td>0</td>\n",
              "      <td>0.343358</td>\n",
              "      <td>0.296178</td>\n",
              "      <td>0.901518</td>\n",
              "      <td>0.897569</td>\n",
              "      <td>02:14</td>\n",
              "    </tr>\n",
              "    <tr>\n",
              "      <td>1</td>\n",
              "      <td>0.266166</td>\n",
              "      <td>0.277847</td>\n",
              "      <td>0.908929</td>\n",
              "      <td>0.905173</td>\n",
              "      <td>02:14</td>\n",
              "    </tr>\n",
              "  </tbody>\n",
              "</table>"
            ],
            "text/plain": [
              "<IPython.core.display.HTML object>"
            ]
          },
          "metadata": {
            "tags": []
          }
        },
        {
          "output_type": "stream",
          "text": [
            "/usr/local/lib/python3.6/dist-packages/fastai/metrics.py:191: UserWarning: average=`binary` was selected for a non binary case. Value for average has now been set to `macro` instead.\n",
            "  warn(\"average=`binary` was selected for a non binary case. Value for average has now been set to `macro` instead.\")\n",
            "/usr/local/lib/python3.6/dist-packages/fastai/metrics.py:191: UserWarning: average=`binary` was selected for a non binary case. Value for average has now been set to `macro` instead.\n",
            "  warn(\"average=`binary` was selected for a non binary case. Value for average has now been set to `macro` instead.\")\n"
          ],
          "name": "stderr"
        }
      ]
    },
    {
      "cell_type": "code",
      "metadata": {
        "id": "FhBw1_etHM7U",
        "colab": {
          "base_uri": "https://localhost:8080/",
          "height": 589
        },
        "outputId": "e836df81-85e3-4fd3-eda2-0e9c15190526"
      },
      "source": [
        "learn.freeze_to(-4) # unfreeze last 4 layers\n",
        "learn.fit_one_cycle(2, slice(5e-3/(2.6**4),5e-3), moms=(0.8,0.7))\n",
        "learn.freeze_to(-5) # unfreeze last 5 layers\n",
        "learn.fit_one_cycle(2, slice(5e-3/(2.6**4),5e-3), moms=(0.8,0.7))\n",
        "\n",
        "# Unfreezing all the layers and training\n",
        "learn.unfreeze() # unfreze all\n",
        "learn.fit_one_cycle(3, slice(1e-3/(2.6**4),1e-3), moms=(0.8,0.7))"
      ],
      "execution_count": 31,
      "outputs": [
        {
          "output_type": "display_data",
          "data": {
            "text/html": [
              "<table border=\"1\" class=\"dataframe\">\n",
              "  <thead>\n",
              "    <tr style=\"text-align: left;\">\n",
              "      <th>epoch</th>\n",
              "      <th>train_loss</th>\n",
              "      <th>valid_loss</th>\n",
              "      <th>accuracy</th>\n",
              "      <th>f_beta</th>\n",
              "      <th>time</th>\n",
              "    </tr>\n",
              "  </thead>\n",
              "  <tbody>\n",
              "    <tr>\n",
              "      <td>0</td>\n",
              "      <td>0.248637</td>\n",
              "      <td>0.284577</td>\n",
              "      <td>0.905625</td>\n",
              "      <td>0.901505</td>\n",
              "      <td>02:41</td>\n",
              "    </tr>\n",
              "    <tr>\n",
              "      <td>1</td>\n",
              "      <td>0.183653</td>\n",
              "      <td>0.283529</td>\n",
              "      <td>0.911518</td>\n",
              "      <td>0.907146</td>\n",
              "      <td>02:41</td>\n",
              "    </tr>\n",
              "  </tbody>\n",
              "</table>"
            ],
            "text/plain": [
              "<IPython.core.display.HTML object>"
            ]
          },
          "metadata": {
            "tags": []
          }
        },
        {
          "output_type": "stream",
          "text": [
            "/usr/local/lib/python3.6/dist-packages/fastai/metrics.py:191: UserWarning: average=`binary` was selected for a non binary case. Value for average has now been set to `macro` instead.\n",
            "  warn(\"average=`binary` was selected for a non binary case. Value for average has now been set to `macro` instead.\")\n",
            "/usr/local/lib/python3.6/dist-packages/fastai/metrics.py:191: UserWarning: average=`binary` was selected for a non binary case. Value for average has now been set to `macro` instead.\n",
            "  warn(\"average=`binary` was selected for a non binary case. Value for average has now been set to `macro` instead.\")\n"
          ],
          "name": "stderr"
        },
        {
          "output_type": "display_data",
          "data": {
            "text/html": [
              "<table border=\"1\" class=\"dataframe\">\n",
              "  <thead>\n",
              "    <tr style=\"text-align: left;\">\n",
              "      <th>epoch</th>\n",
              "      <th>train_loss</th>\n",
              "      <th>valid_loss</th>\n",
              "      <th>accuracy</th>\n",
              "      <th>f_beta</th>\n",
              "      <th>time</th>\n",
              "    </tr>\n",
              "  </thead>\n",
              "  <tbody>\n",
              "    <tr>\n",
              "      <td>0</td>\n",
              "      <td>0.205349</td>\n",
              "      <td>0.308088</td>\n",
              "      <td>0.902589</td>\n",
              "      <td>0.898011</td>\n",
              "      <td>02:43</td>\n",
              "    </tr>\n",
              "    <tr>\n",
              "      <td>1</td>\n",
              "      <td>0.126707</td>\n",
              "      <td>0.308427</td>\n",
              "      <td>0.907589</td>\n",
              "      <td>0.903220</td>\n",
              "      <td>02:43</td>\n",
              "    </tr>\n",
              "  </tbody>\n",
              "</table>"
            ],
            "text/plain": [
              "<IPython.core.display.HTML object>"
            ]
          },
          "metadata": {
            "tags": []
          }
        },
        {
          "output_type": "stream",
          "text": [
            "/usr/local/lib/python3.6/dist-packages/fastai/metrics.py:191: UserWarning: average=`binary` was selected for a non binary case. Value for average has now been set to `macro` instead.\n",
            "  warn(\"average=`binary` was selected for a non binary case. Value for average has now been set to `macro` instead.\")\n",
            "/usr/local/lib/python3.6/dist-packages/fastai/metrics.py:191: UserWarning: average=`binary` was selected for a non binary case. Value for average has now been set to `macro` instead.\n",
            "  warn(\"average=`binary` was selected for a non binary case. Value for average has now been set to `macro` instead.\")\n"
          ],
          "name": "stderr"
        },
        {
          "output_type": "display_data",
          "data": {
            "text/html": [
              "<table border=\"1\" class=\"dataframe\">\n",
              "  <thead>\n",
              "    <tr style=\"text-align: left;\">\n",
              "      <th>epoch</th>\n",
              "      <th>train_loss</th>\n",
              "      <th>valid_loss</th>\n",
              "      <th>accuracy</th>\n",
              "      <th>f_beta</th>\n",
              "      <th>time</th>\n",
              "    </tr>\n",
              "  </thead>\n",
              "  <tbody>\n",
              "    <tr>\n",
              "      <td>0</td>\n",
              "      <td>0.105239</td>\n",
              "      <td>0.313690</td>\n",
              "      <td>0.910089</td>\n",
              "      <td>0.906034</td>\n",
              "      <td>02:44</td>\n",
              "    </tr>\n",
              "    <tr>\n",
              "      <td>1</td>\n",
              "      <td>0.100718</td>\n",
              "      <td>0.323207</td>\n",
              "      <td>0.911250</td>\n",
              "      <td>0.906883</td>\n",
              "      <td>02:44</td>\n",
              "    </tr>\n",
              "    <tr>\n",
              "      <td>2</td>\n",
              "      <td>0.087923</td>\n",
              "      <td>0.316490</td>\n",
              "      <td>0.909911</td>\n",
              "      <td>0.905833</td>\n",
              "      <td>02:43</td>\n",
              "    </tr>\n",
              "  </tbody>\n",
              "</table>"
            ],
            "text/plain": [
              "<IPython.core.display.HTML object>"
            ]
          },
          "metadata": {
            "tags": []
          }
        },
        {
          "output_type": "stream",
          "text": [
            "/usr/local/lib/python3.6/dist-packages/fastai/metrics.py:191: UserWarning: average=`binary` was selected for a non binary case. Value for average has now been set to `macro` instead.\n",
            "  warn(\"average=`binary` was selected for a non binary case. Value for average has now been set to `macro` instead.\")\n",
            "/usr/local/lib/python3.6/dist-packages/fastai/metrics.py:191: UserWarning: average=`binary` was selected for a non binary case. Value for average has now been set to `macro` instead.\n",
            "  warn(\"average=`binary` was selected for a non binary case. Value for average has now been set to `macro` instead.\")\n",
            "/usr/local/lib/python3.6/dist-packages/fastai/metrics.py:191: UserWarning: average=`binary` was selected for a non binary case. Value for average has now been set to `macro` instead.\n",
            "  warn(\"average=`binary` was selected for a non binary case. Value for average has now been set to `macro` instead.\")\n"
          ],
          "name": "stderr"
        }
      ]
    },
    {
      "cell_type": "code",
      "metadata": {
        "id": "4NxUTifHHBIs",
        "colab": {
          "base_uri": "https://localhost:8080/",
          "height": 17
        },
        "outputId": "8f3eb271-d7d9-40c3-ff36-934a5c55d1c2"
      },
      "source": [
        "#getting the predictions\n",
        "preds, targets = learn.get_preds()\n",
        "predictions = np.argmax(preds, axis = 1)"
      ],
      "execution_count": 32,
      "outputs": [
        {
          "output_type": "display_data",
          "data": {
            "text/html": [
              ""
            ],
            "text/plain": [
              "<IPython.core.display.HTML object>"
            ]
          },
          "metadata": {
            "tags": []
          }
        }
      ]
    },
    {
      "cell_type": "code",
      "metadata": {
        "id": "h23tDySn9cIT",
        "colab": {
          "base_uri": "https://localhost:8080/",
          "height": 294
        },
        "outputId": "187b8fb3-2240-4d52-9b67-b8a80a3806d0"
      },
      "source": [
        "pd.crosstab(predictions, targets)"
      ],
      "execution_count": 33,
      "outputs": [
        {
          "output_type": "execute_result",
          "data": {
            "text/html": [
              "<div>\n",
              "<style scoped>\n",
              "    .dataframe tbody tr th:only-of-type {\n",
              "        vertical-align: middle;\n",
              "    }\n",
              "\n",
              "    .dataframe tbody tr th {\n",
              "        vertical-align: top;\n",
              "    }\n",
              "\n",
              "    .dataframe thead th {\n",
              "        text-align: right;\n",
              "    }\n",
              "</style>\n",
              "<table border=\"1\" class=\"dataframe\">\n",
              "  <thead>\n",
              "    <tr style=\"text-align: right;\">\n",
              "      <th>col_0</th>\n",
              "      <th>0</th>\n",
              "      <th>1</th>\n",
              "      <th>2</th>\n",
              "      <th>3</th>\n",
              "      <th>4</th>\n",
              "      <th>5</th>\n",
              "      <th>6</th>\n",
              "    </tr>\n",
              "    <tr>\n",
              "      <th>row_0</th>\n",
              "      <th></th>\n",
              "      <th></th>\n",
              "      <th></th>\n",
              "      <th></th>\n",
              "      <th></th>\n",
              "      <th></th>\n",
              "      <th></th>\n",
              "    </tr>\n",
              "  </thead>\n",
              "  <tbody>\n",
              "    <tr>\n",
              "      <th>0</th>\n",
              "      <td>1828</td>\n",
              "      <td>2</td>\n",
              "      <td>5</td>\n",
              "      <td>1</td>\n",
              "      <td>14</td>\n",
              "      <td>4</td>\n",
              "      <td>20</td>\n",
              "    </tr>\n",
              "    <tr>\n",
              "      <th>1</th>\n",
              "      <td>7</td>\n",
              "      <td>1655</td>\n",
              "      <td>36</td>\n",
              "      <td>8</td>\n",
              "      <td>8</td>\n",
              "      <td>49</td>\n",
              "      <td>30</td>\n",
              "    </tr>\n",
              "    <tr>\n",
              "      <th>2</th>\n",
              "      <td>1</td>\n",
              "      <td>55</td>\n",
              "      <td>1110</td>\n",
              "      <td>62</td>\n",
              "      <td>23</td>\n",
              "      <td>79</td>\n",
              "      <td>62</td>\n",
              "    </tr>\n",
              "    <tr>\n",
              "      <th>3</th>\n",
              "      <td>6</td>\n",
              "      <td>16</td>\n",
              "      <td>87</td>\n",
              "      <td>1660</td>\n",
              "      <td>27</td>\n",
              "      <td>18</td>\n",
              "      <td>3</td>\n",
              "    </tr>\n",
              "    <tr>\n",
              "      <th>4</th>\n",
              "      <td>13</td>\n",
              "      <td>19</td>\n",
              "      <td>8</td>\n",
              "      <td>25</td>\n",
              "      <td>1114</td>\n",
              "      <td>1</td>\n",
              "      <td>35</td>\n",
              "    </tr>\n",
              "    <tr>\n",
              "      <th>5</th>\n",
              "      <td>0</td>\n",
              "      <td>62</td>\n",
              "      <td>77</td>\n",
              "      <td>15</td>\n",
              "      <td>3</td>\n",
              "      <td>1659</td>\n",
              "      <td>12</td>\n",
              "    </tr>\n",
              "    <tr>\n",
              "      <th>6</th>\n",
              "      <td>11</td>\n",
              "      <td>26</td>\n",
              "      <td>32</td>\n",
              "      <td>3</td>\n",
              "      <td>28</td>\n",
              "      <td>16</td>\n",
              "      <td>1165</td>\n",
              "    </tr>\n",
              "  </tbody>\n",
              "</table>\n",
              "</div>"
            ],
            "text/plain": [
              "col_0     0     1     2     3     4     5     6\n",
              "row_0                                          \n",
              "0      1828     2     5     1    14     4    20\n",
              "1         7  1655    36     8     8    49    30\n",
              "2         1    55  1110    62    23    79    62\n",
              "3         6    16    87  1660    27    18     3\n",
              "4        13    19     8    25  1114     1    35\n",
              "5         0    62    77    15     3  1659    12\n",
              "6        11    26    32     3    28    16  1165"
            ]
          },
          "metadata": {
            "tags": []
          },
          "execution_count": 33
        }
      ]
    },
    {
      "cell_type": "code",
      "metadata": {
        "id": "LaXnwqD4_6ln",
        "colab": {
          "base_uri": "https://localhost:8080/"
        },
        "outputId": "ac350e91-0896-4e22-fe87-56b6c172e233"
      },
      "source": [
        "from sklearn.metrics import confusion_matrix,classification_report\n",
        "from sklearn.metrics import accuracy_score\n",
        "cm=confusion_matrix(predictions,targets)\n",
        "print(cm)\n",
        "score = accuracy_score( predictions, targets)\n",
        "print(score)"
      ],
      "execution_count": 34,
      "outputs": [
        {
          "output_type": "stream",
          "text": [
            "[[1828    2    5    1   14    4   20]\n",
            " [   7 1655   36    8    8   49   30]\n",
            " [   1   55 1110   62   23   79   62]\n",
            " [   6   16   87 1660   27   18    3]\n",
            " [  13   19    8   25 1114    1   35]\n",
            " [   0   62   77   15    3 1659   12]\n",
            " [  11   26   32    3   28   16 1165]]\n",
            "0.9099107142857142\n"
          ],
          "name": "stdout"
        }
      ]
    },
    {
      "cell_type": "code",
      "metadata": {
        "colab": {
          "base_uri": "https://localhost:8080/"
        },
        "id": "-9NPnkzBCS52",
        "outputId": "ebfb8e93-3d4a-4158-d877-87ecd6c46402"
      },
      "source": [
        "from sklearn.metrics import classification_report,confusion_matrix\r\n",
        "print(classification_report(predictions,targets, zero_division=0))"
      ],
      "execution_count": 35,
      "outputs": [
        {
          "output_type": "stream",
          "text": [
            "              precision    recall  f1-score   support\n",
            "\n",
            "           0       0.98      0.98      0.98      1874\n",
            "           1       0.90      0.92      0.91      1793\n",
            "           2       0.82      0.80      0.81      1392\n",
            "           3       0.94      0.91      0.92      1817\n",
            "           4       0.92      0.92      0.92      1215\n",
            "           5       0.91      0.91      0.91      1828\n",
            "           6       0.88      0.91      0.89      1281\n",
            "\n",
            "    accuracy                           0.91     11200\n",
            "   macro avg       0.91      0.91      0.91     11200\n",
            "weighted avg       0.91      0.91      0.91     11200\n",
            "\n"
          ],
          "name": "stdout"
        }
      ]
    }
  ]
}
