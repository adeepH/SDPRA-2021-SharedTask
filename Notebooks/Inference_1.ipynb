{
  "nbformat": 4,
  "nbformat_minor": 0,
  "metadata": {
    "accelerator": "GPU",
    "colab": {
      "name": "Inference.ipynb",
      "provenance": [],
      "include_colab_link": true
    },
    "kernelspec": {
      "display_name": "Python 3",
      "name": "python3"
    }
  },
  "cells": [
    {
      "cell_type": "markdown",
      "metadata": {
        "id": "view-in-github",
        "colab_type": "text"
      },
      "source": [
        "<a href=\"https://colab.research.google.com/github/adeepH/SPDRA-2021-SharedTask/blob/main/Notebooks/Inference_1.ipynb\" target=\"_parent\"><img src=\"https://colab.research.google.com/assets/colab-badge.svg\" alt=\"Open In Colab\"/></a>"
      ]
    },
    {
      "cell_type": "code",
      "metadata": {
        "id": "iwlx4KCTUQy2"
      },
      "source": [
        "!git clone https://github.com/adeepH/SPDRA-2021-SharedTask.git "
      ],
      "execution_count": null,
      "outputs": []
    },
    {
      "cell_type": "code",
      "metadata": {
        "id": "71CrmfQTcTaS"
      },
      "source": [
        "cd /content/SPDRA-2021-SharedTask/"
      ],
      "execution_count": null,
      "outputs": []
    },
    {
      "cell_type": "code",
      "metadata": {
        "id": "nTT0pzE_cXbN"
      },
      "source": [
        "!pip install -r requirements.txt"
      ],
      "execution_count": null,
      "outputs": []
    },
    {
      "cell_type": "code",
      "metadata": {
        "id": "YEXv6f19devd"
      },
      "source": [
        "cd scripts/"
      ],
      "execution_count": null,
      "outputs": []
    },
    {
      "cell_type": "code",
      "metadata": {
        "id": "LZCQqcNkQ1H7"
      },
      "source": [
        "import pandas as pd\r\n",
        "import numpy as np\r\n",
        "import torch\r\n",
        "from dataset import *\r\n",
        "from model import *\r\n",
        "from utils import *"
      ],
      "execution_count": null,
      "outputs": []
    },
    {
      "cell_type": "code",
      "metadata": {
        "id": "QkJpV42BaE-P"
      },
      "source": [
        "tokenizer = AutoTokenizer.from_pretrained('allenai/scibert_scivocab_uncased') \n",
        "device = 'cuda'\n",
        "MAX_LEN = 128\n",
        "BATCH_SIZE = 32"
      ],
      "execution_count": null,
      "outputs": []
    },
    {
      "cell_type": "code",
      "metadata": {
        "id": "UtyXTqv_eDXx"
      },
      "source": [
        "from google.colab import drive\n",
        "drive.mount('/content/drive')"
      ],
      "execution_count": null,
      "outputs": []
    },
    {
      "cell_type": "code",
      "metadata": {
        "id": "ufqJKrjscceE"
      },
      "source": [
        "model = RFClassifier(7,'allenai/scibert_scivocab_uncased')\r\n",
        "model.load_state_dict(torch.load('/content/drive/MyDrive/spdra2021/saved_models/scibert.bin'))\r\n",
        "model.to(device)\r\n",
        "for param in model.parameters():\r\n",
        "    param.requires_grad = False\r\n",
        "model.eval()"
      ],
      "execution_count": null,
      "outputs": []
    },
    {
      "cell_type": "code",
      "metadata": {
        "id": "vzsx4sFHegbq"
      },
      "source": [
        "val = pd.read_csv('/content/drive/MyDrive/spdra2021/Datasets/validation.csv',delimiter=',',\r\n",
        "                 header=None,names=['text','label'])\r\n",
        "\r\n",
        "val.label = val.label.apply({'CL':0,'CR':1,'DC':2,\r\n",
        "'DS':3,'LO':4, 'NI':5, 'SE':6}.get)"
      ],
      "execution_count": null,
      "outputs": []
    },
    {
      "cell_type": "code",
      "metadata": {
        "id": "x4PEDWKSfIuR"
      },
      "source": [
        "!python dataset.py"
      ],
      "execution_count": null,
      "outputs": []
    },
    {
      "cell_type": "code",
      "metadata": {
        "id": "deTlPo8Ge4LA"
      },
      "source": [
        "val_data_loader = create_data_loader(val,tokenizer,MAX_LEN,BATCH_SIZE)"
      ],
      "execution_count": null,
      "outputs": []
    },
    {
      "cell_type": "code",
      "metadata": {
        "id": "iVdxmsY2fBVb"
      },
      "source": [
        "y_review_texts, y_pred, y_pred_probs, y_test = get_predictions(\r\n",
        "  model,\r\n",
        "  val_data_loader\r\n",
        ")"
      ],
      "execution_count": null,
      "outputs": []
    },
    {
      "cell_type": "code",
      "metadata": {
        "colab": {
          "base_uri": "https://localhost:8080/"
        },
        "id": "E9cxsI6NgPoT",
        "outputId": "e452257a-a5f3-4a01-82b2-061502f802a9"
      },
      "source": [
        " \r\n",
        "class_name = ['CL' ,'CR' ,'DC' ,'DS' ,'LO' , 'NI' , 'SE' ]\r\n",
        "from sklearn.metrics import classification_report,confusion_matrix\r\n",
        "print(classification_report(y_test, y_pred, target_names=class_name,zero_division=0))"
      ],
      "execution_count": 71,
      "outputs": [
        {
          "output_type": "stream",
          "text": [
            "              precision    recall  f1-score   support\n",
            "\n",
            "          CL       0.98      0.98      0.98      1866\n",
            "          CR       0.91      0.90      0.90      1835\n",
            "          DC       0.80      0.79      0.80      1355\n",
            "          DS       0.91      0.92      0.92      1774\n",
            "          LO       0.90      0.92      0.91      1217\n",
            "          NI       0.91      0.89      0.90      1826\n",
            "          SE       0.89      0.90      0.89      1327\n",
            "\n",
            "    accuracy                           0.90     11200\n",
            "   macro avg       0.90      0.90      0.90     11200\n",
            "weighted avg       0.90      0.90      0.90     11200\n",
            "\n"
          ],
          "name": "stdout"
        }
      ]
    },
    {
      "cell_type": "code",
      "metadata": {
        "id": "HIYJNU_ShVpL"
      },
      "source": [
        "def get_preds(model,data_loader):\r\n",
        "\r\n",
        "    sentence    = []\r\n",
        "    predictions = []\r\n",
        "    probs_preds = []\r\n",
        "    real_values = []\r\n",
        "\r\n",
        "    with torch.no_grad():\r\n",
        "        for d in data_loader:\r\n",
        "            \r\n",
        "            texts = d[\"text\"]\r\n",
        "            input_ids = d[\"input_ids\"].to(device)\r\n",
        "            attention_mask = d[\"attention_mask\"].to(device)\r\n",
        "            labels = d[\"label\"].to(device)\r\n",
        "            \r\n",
        "            outputs = model(\r\n",
        "                input_ids = input_ids,\r\n",
        "                attention_mask = attention_mask\r\n",
        "            )\r\n",
        "\r\n",
        "            _,preds = torch.max(outputs,dim=1)\r\n",
        "            probs = nn.functional.softmax(outputs,dim=1)\r\n",
        "            \r\n",
        "            sentence.extend(texts)\r\n",
        "            predictions.extend(preds)\r\n",
        "            probs_preds.extend(probs)\r\n",
        "            real_values.extend(labels)\r\n",
        "\r\n",
        "    predictions = torch.stack(predictions).cpu().detach().numpy().tolist()\r\n",
        "    probs_preds = torch.stack(probs_preds).cpu().detach().numpy().tolist()\r\n",
        "    real_values = torch.stack(real_values).cpu().detach().numpy().tolist()\r\n",
        "    \r\n",
        "    return sentence,predictions,probs_preds,real_values\r\n",
        "            \r\n"
      ],
      "execution_count": 76,
      "outputs": []
    },
    {
      "cell_type": "code",
      "metadata": {
        "id": "XBC2mqrUqyGq"
      },
      "source": [
        "abstract,y_pred,y_prob,y_test = get_preds(model,val_data_loader)"
      ],
      "execution_count": 77,
      "outputs": []
    },
    {
      "cell_type": "code",
      "metadata": {
        "id": "awSByk3jq5MP",
        "outputId": "336f9dae-248e-4868-c6f0-a0081354529b",
        "colab": {
          "base_uri": "https://localhost:8080/"
        }
      },
      "source": [
        "y_prob[2],y_test[2],y_pred[2]"
      ],
      "execution_count": 78,
      "outputs": [
        {
          "output_type": "execute_result",
          "data": {
            "text/plain": [
              "([0.9981364011764526,\n",
              "  0.00018715395708568394,\n",
              "  4.0024242480285466e-05,\n",
              "  0.00010960720101138577,\n",
              "  0.00038874585879966617,\n",
              "  0.00011496632941998541,\n",
              "  0.0010230711195617914],\n",
              " 0,\n",
              " 0)"
            ]
          },
          "metadata": {
            "tags": []
          },
          "execution_count": 78
        }
      ]
    },
    {
      "cell_type": "code",
      "metadata": {
        "id": "0yEdWoDGrV07",
        "outputId": "4e238d84-c38e-4b8b-b083-7b841d3ab15d",
        "colab": {
          "base_uri": "https://localhost:8080/",
          "height": 197
        }
      },
      "source": [
        "pred_probs = pd.DataFrame(data = (abstract,y_prob),columns=class_name)\r\n",
        "pred_probs['abstract'] = abstract\r\n",
        "pred_probs.head()"
      ],
      "execution_count": 1,
      "outputs": [
        {
          "output_type": "error",
          "ename": "NameError",
          "evalue": "ignored",
          "traceback": [
            "\u001b[0;31m---------------------------------------------------------------------------\u001b[0m",
            "\u001b[0;31mNameError\u001b[0m                                 Traceback (most recent call last)",
            "\u001b[0;32m<ipython-input-1-5e3573bd6f96>\u001b[0m in \u001b[0;36m<module>\u001b[0;34m()\u001b[0m\n\u001b[0;32m----> 1\u001b[0;31m \u001b[0mpred_probs\u001b[0m \u001b[0;34m=\u001b[0m \u001b[0mpd\u001b[0m\u001b[0;34m.\u001b[0m\u001b[0mDataFrame\u001b[0m\u001b[0;34m(\u001b[0m\u001b[0mdata\u001b[0m \u001b[0;34m=\u001b[0m \u001b[0;34m(\u001b[0m\u001b[0mabstract\u001b[0m\u001b[0;34m,\u001b[0m\u001b[0my_prob\u001b[0m\u001b[0;34m)\u001b[0m\u001b[0;34m,\u001b[0m\u001b[0mcolumns\u001b[0m\u001b[0;34m=\u001b[0m\u001b[0mclass_name\u001b[0m\u001b[0;34m)\u001b[0m\u001b[0;34m\u001b[0m\u001b[0;34m\u001b[0m\u001b[0m\n\u001b[0m\u001b[1;32m      2\u001b[0m \u001b[0mpred_probs\u001b[0m\u001b[0;34m[\u001b[0m\u001b[0;34m'abstract'\u001b[0m\u001b[0;34m]\u001b[0m \u001b[0;34m=\u001b[0m \u001b[0mabstract\u001b[0m\u001b[0;34m\u001b[0m\u001b[0;34m\u001b[0m\u001b[0m\n\u001b[1;32m      3\u001b[0m \u001b[0mpred_probs\u001b[0m\u001b[0;34m.\u001b[0m\u001b[0mhead\u001b[0m\u001b[0;34m(\u001b[0m\u001b[0;34m)\u001b[0m\u001b[0;34m\u001b[0m\u001b[0;34m\u001b[0m\u001b[0m\n",
            "\u001b[0;31mNameError\u001b[0m: name 'pd' is not defined"
          ]
        }
      ]
    },
    {
      "cell_type": "code",
      "metadata": {
        "id": "cNxPYXdPryVk"
      },
      "source": [
        ""
      ],
      "execution_count": null,
      "outputs": []
    }
  ]
}